{
 "cells": [
  {
   "cell_type": "code",
   "execution_count": 1,
   "metadata": {},
   "outputs": [],
   "source": [
    "import pandas as pd \n",
    "import datetime"
   ]
  },
  {
   "cell_type": "code",
   "execution_count": 58,
   "metadata": {},
   "outputs": [],
   "source": [
    "df=pd.read_csv('d://nCov//allData.csv')\n",
    "df.updateTime = pd.to_datetime(df.updateTime)\n"
   ]
  },
  {
   "cell_type": "markdown",
   "metadata": {},
   "source": [
    "筛选来自一城市不同日期的数据"
   ]
  },
  {
   "cell_type": "code",
   "execution_count": 72,
   "metadata": {},
   "outputs": [],
   "source": [
    "def requireDate():\n",
    "    #从所有数据中按时间分类，使用.date()获取对应的天数据\n",
    "    resortDate = []\n",
    "    df=pd.read_csv('d://nCov//allData.csv')\n",
    "    df.updateTime = pd.to_datetime(df.updateTime)\n",
    "    for day in df.updateTime.apply(lambda x : x.date()).unique():\n",
    "        print(day)\n",
    "        currentDay = df[df.updateTime.apply(lambda x:x.date()) == day]\n",
    "        #在对应的某天数据中筛选出某一个省的数据，\n",
    "        for province in currentDay.provinceName.unique():\n",
    "            currentProvince = currentDay[currentDay['provinceName']== province]\n",
    "            #在对应的某天某省的数据中筛选出某市\n",
    "            for city in currentProvince.cityName.unique():\n",
    "                #获得的某天某省某市不同时间的数据， 这个地方可能会报错原因是 当天的数据还未更新\n",
    "                currentCity = currentProvince[currentProvince['cityName'] == city]\n",
    "                resortDate.append(currentCity.iloc[0])\n",
    "\n",
    "    resortDate = pd.DataFrame(resortDate)\n",
    "    resortDate.to_csv('d://nCov//Data.csv')\n",
    "    return resortDate"
   ]
  },
  {
   "cell_type": "code",
   "execution_count": 76,
   "metadata": {},
   "outputs": [
    {
     "data": {
      "text/plain": [
       "array(['上海市', '云南省', '内蒙古自治区', '北京市', '吉林省', '四川省', '天津市', '宁夏回族自治区',\n",
       "       '安徽省', '山东省', '山西省', '广东省', '广西壮族自治区', '新疆维吾尔自治区', '江苏省', '江西省',\n",
       "       '河北省', '河南省', '浙江省', '海南省', '湖北省', '湖南省', '甘肃省', '福建省', '西藏自治区',\n",
       "       '贵州省', '辽宁省', '重庆市', '陕西省', '青海省', '黑龙江省'], dtype=object)"
      ]
     },
     "execution_count": 76,
     "metadata": {},
     "output_type": "execute_result"
    }
   ],
   "source": [
    "df['provinceName'].unique()"
   ]
  },
  {
   "cell_type": "markdown",
   "metadata": {},
   "source": [
    " ## `pd.Dateoffset`\n",
    " \n",
    " "
   ]
  },
  {
   "cell_type": "code",
   "execution_count": 14,
   "metadata": {},
   "outputs": [
    {
     "name": "stdout",
     "output_type": "stream",
     "text": [
      "2016-10-30 00:00:00+03:00\n",
      "2016-10-30 23:00:00+02:00\n",
      "2016-10-31 00:00:00+02:00\n",
      "Friday\n"
     ]
    },
    {
     "data": {
      "text/plain": [
       "'Tuesday'"
      ]
     },
     "execution_count": 14,
     "metadata": {},
     "output_type": "execute_result"
    }
   ],
   "source": [
    "# 指定包含夏时制变迁的某天\n",
    "ts = pd.Timestamp('2016-10-30 00:00:00', tz='Europe/Helsinki')\n",
    "print(ts)\n",
    "# 对应的绝对时间\n",
    "print(ts + pd.Timedelta(days=1))\n",
    "# 对应的日历时间\n",
    "print(ts + pd.DateOffset(days=1))\n",
    "\n",
    "friday = pd.Timestamp('2018-01-05')\n",
    "print(friday.day_name())\n",
    "\n",
    "# 与两个工作日相加（星期五 --> 星期二）\n",
    "two_business_days = 2 * pd.offsets.BDay()\n",
    "\n",
    "two_business_days.apply(friday)\n",
    "\n",
    "friday + two_business_days\n",
    "\n",
    "(friday + two_business_days).day_name()\n"
   ]
  },
  {
   "cell_type": "code",
   "execution_count": 43,
   "metadata": {},
   "outputs": [
    {
     "data": {
      "text/plain": [
       "Timestamp('2012-05-01 00:00:00')"
      ]
     },
     "execution_count": 43,
     "metadata": {},
     "output_type": "execute_result"
    }
   ],
   "source": [
    "h = pd.Timestamp(datetime.datetime(2012, 5, 1))\n",
    "h/"
   ]
  },
  {
   "cell_type": "code",
   "execution_count": 49,
   "metadata": {},
   "outputs": [
    {
     "data": {
      "text/plain": [
       "0     2020-02-19\n",
       "1     2020-02-19\n",
       "2     2020-02-19\n",
       "3     2020-02-19\n",
       "4     2020-02-19\n",
       "5     2020-02-19\n",
       "6     2020-02-19\n",
       "7     2020-02-19\n",
       "8     2020-02-19\n",
       "9     2020-02-19\n",
       "10    2020-02-19\n",
       "11    2020-02-19\n",
       "12    2020-02-19\n",
       "13    2020-02-19\n",
       "14    2020-02-19\n",
       "15    2020-02-19\n",
       "16    2020-02-19\n",
       "17    2020-02-19\n",
       "18    2020-02-19\n",
       "19    2020-02-19\n",
       "20    2020-02-19\n",
       "21    2020-02-19\n",
       "22    2020-02-19\n",
       "23    2020-02-19\n",
       "24    2020-02-19\n",
       "25    2020-02-19\n",
       "26    2020-02-19\n",
       "27    2020-02-19\n",
       "28    2020-02-19\n",
       "29    2020-02-19\n",
       "30    2020-02-19\n",
       "31    2020-02-19\n",
       "32    2020-02-19\n",
       "33    2020-02-19\n",
       "34    2020-02-19\n",
       "35    2020-02-19\n",
       "36    2020-02-19\n",
       "37    2020-02-19\n",
       "38    2020-02-19\n",
       "39    2020-02-19\n",
       "40    2020-02-19\n",
       "41    2020-02-19\n",
       "42    2020-02-18\n",
       "43    2020-02-18\n",
       "44    2020-02-18\n",
       "45    2020-02-18\n",
       "46    2020-02-18\n",
       "47    2020-02-18\n",
       "48    2020-02-18\n",
       "49    2020-02-18\n",
       "Name: updateTime, dtype: object"
      ]
     },
     "execution_count": 49,
     "metadata": {},
     "output_type": "execute_result"
    }
   ],
   "source": [
    "test.apply(lambda x : x.date())"
   ]
  },
  {
   "cell_type": "code",
   "execution_count": 44,
   "metadata": {},
   "outputs": [
    {
     "ename": "SyntaxError",
     "evalue": "invalid syntax (<ipython-input-44-14896fb0bc3b>, line 1)",
     "output_type": "error",
     "traceback": [
      "\u001b[1;36m  File \u001b[1;32m\"<ipython-input-44-14896fb0bc3b>\"\u001b[1;36m, line \u001b[1;32m1\u001b[0m\n\u001b[1;33m    test + pd.offsets.Day(.date())\u001b[0m\n\u001b[1;37m                          ^\u001b[0m\n\u001b[1;31mSyntaxError\u001b[0m\u001b[1;31m:\u001b[0m invalid syntax\n"
     ]
    }
   ],
   "source": []
  },
  {
   "cell_type": "code",
   "execution_count": 41,
   "metadata": {},
   "outputs": [],
   "source": [
    "h = test[1].date()"
   ]
  },
  {
   "cell_type": "code",
   "execution_count": 42,
   "metadata": {},
   "outputs": [
    {
     "data": {
      "text/plain": [
       "datetime.date(2020, 2, 19)"
      ]
     },
     "execution_count": 42,
     "metadata": {},
     "output_type": "execute_result"
    }
   ],
   "source": [
    "h "
   ]
  },
  {
   "cell_type": "code",
   "execution_count": null,
   "metadata": {},
   "outputs": [],
   "source": []
  }
 ],
 "metadata": {
  "kernelspec": {
   "display_name": "Python 3.7.3 64-bit ('base': conda)",
   "language": "python",
   "name": "python37364bitbasecondad14a690d1b364a00a14f2ac14dd6451f"
  },
  "language_info": {
   "codemirror_mode": {
    "name": "ipython",
    "version": 3
   },
   "file_extension": ".py",
   "mimetype": "text/x-python",
   "name": "python",
   "nbconvert_exporter": "python",
   "pygments_lexer": "ipython3",
   "version": "3.7.3"
  },
  "latex_envs": {
   "LaTeX_envs_menu_present": true,
   "autoclose": false,
   "autocomplete": true,
   "bibliofile": "biblio.bib",
   "cite_by": "apalike",
   "current_citInitial": 1,
   "eqLabelWithNumbers": true,
   "eqNumInitial": 1,
   "hotkeys": {
    "equation": "Ctrl-E",
    "itemize": "Ctrl-I"
   },
   "labels_anchors": false,
   "latex_user_defs": false,
   "report_style_numbering": false,
   "user_envs_cfg": false
  }
 },
 "nbformat": 4,
 "nbformat_minor": 2
}
