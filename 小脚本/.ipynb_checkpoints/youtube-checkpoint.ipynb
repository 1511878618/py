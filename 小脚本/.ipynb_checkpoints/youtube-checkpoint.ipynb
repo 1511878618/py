{
 "cells": [
  {
   "cell_type": "code",
   "execution_count": 1,
   "metadata": {},
   "outputs": [],
   "source": [
    "import requests\n",
    "from bs4 import BeautifulSoup\n",
    "import time "
   ]
  },
  {
   "cell_type": "code",
   "execution_count": 2,
   "metadata": {},
   "outputs": [],
   "source": [
    "r = requests.get('https://www.youtube.com/watch?v=fVExBR1x4QU&list=PLeB-Dlq-v6tY3QLdQBA7rwb4a7fK9mLpv&index=44')"
   ]
  },
  {
   "cell_type": "code",
   "execution_count": 3,
   "metadata": {},
   "outputs": [],
   "source": [
    "soup = BeautifulSoup(r.text,'html.parser')"
   ]
  },
  {
   "cell_type": "code",
   "execution_count": 4,
   "metadata": {},
   "outputs": [],
   "source": [
    "#此步吧网页放到本地，再打开，便于解析\n",
    "#with open('1.html','w',encoding='utf-8')as w:\n",
    "    #w.write(r.text)"
   ]
  },
  {
   "cell_type": "code",
   "execution_count": 5,
   "metadata": {},
   "outputs": [],
   "source": [
    "lis = soup.find('ol',id='playlist-autoscroll-list').find_all('li')\n"
   ]
  },
  {
   "cell_type": "code",
   "execution_count": 6,
   "metadata": {},
   "outputs": [
    {
     "data": {
      "text/plain": [
       "227"
      ]
     },
     "execution_count": 6,
     "metadata": {},
     "output_type": "execute_result"
    }
   ],
   "source": [
    "#获取播放列表\n",
    "lis = soup.find('ol',id='playlist-autoscroll-list').find_all('li')\n",
    "TITLE=[]\n",
    "URL =[]\n",
    "for i in lis:\n",
    "    #获取每一集的标题\n",
    "    \n",
    "    title = i.h4.text.strip()\n",
    "    TITLE.append(title)\n",
    "    \n",
    "    \n",
    "    href= i.a['href']\n",
    "    URL.append('https://www.addyoutube.com'+href)\n",
    "    \n",
    "len(TITLE)"
   ]
  },
  {
   "cell_type": "code",
   "execution_count": 7,
   "metadata": {},
   "outputs": [],
   "source": [
    "def download(title,url):\n",
    "    \n",
    "    \n",
    "    r = requests.get(url,timeout=10)\n",
    "    soup = BeautifulSoup(r.text,'html.parser')\n",
    "    videoUrl = soup.find_all('tbody')[0].find_all('td')[5].a['href'] \n",
    "    subtitleUrl = soup.find_all('tbody')[1].find_all('td')[5].input['value']\n",
    "    \n",
    "    video = requests.get(videoUrl,timeout=10)\n",
    "\n",
    "    subtitle = requests.get(subtitleUrl,timeout=10)\n",
    "    #保存视频\n",
    "    with open(title+'.mp4','wb') as f:\n",
    "        f.write(video.content)\n",
    "    #保存英文字幕\n",
    "    with open(title+'.srt','w',encoding='utf-8')as f:\n",
    "        f.write(subtitle.text)"
   ]
  },
  {
   "cell_type": "code",
   "execution_count": null,
   "metadata": {},
   "outputs": [],
   "source": []
  },
  {
   "cell_type": "code",
   "execution_count": null,
   "metadata": {},
   "outputs": [
    {
     "name": "stdout",
     "output_type": "stream",
     "text": [
      "is downloading2020 STAT115 Lect13.5 ATAC-seq\n",
      "is downloading2020 STAT115 Lect13.4 DNase-seq\n",
      "is downloading2020 STAT115 Lect13.2 Histone marks on enhancers\n",
      "is downloading2020 STAT115 Lect13.3 Histone marks on genes\n",
      "is downloading2020 STAT115 Lect12.3 DNA Methylation Function\n",
      "is downloading2020 STAT115 Lect12.2 DNA Methylation\n",
      "is downloading2020 STAT115 Lect12.4 Nucleosome Positioning\n",
      "is downloading2020 STAT115 Lect12.1 Epigenetics\n",
      "is downloading2020 STAT115 Lect11.4 TF Target Genes from ChIP-seq\n",
      "is downloading2020 STAT115 Lect11.1 ChIP-seq\n",
      "is downloading2020 STAT115 Lect11.3 TF Interactions from ChIP-seq\n",
      "is downloading2020 STAT115 Lect10.4 Motif Finding General Practices\n",
      "is downloading2020 STAT115 Lect10.3 Gibbs Sampling for Motif Finding\n",
      "is downloading2020 STAT115 Lect10.2 Expectation Maximization for Motif Finding\n",
      "is downloading2020 STAT115 Lect11.1 Transcription Regulation\n",
      "is downloading2020 STAT115 Lect9.3 Gene Expression Analysis Scenario\n",
      "is downloading2020 STAT115 Lect9.1 scRNA-seq Batch Effect Removal\n",
      "is downloading2020 STAT115 Lect20.3 scRNA-seq Clustering and Visualization\n",
      "is downloading2020 STAT115 Lect8.4 Differential Expression in scRNA-seq\n",
      "is downloading2020 STAT115 Lect8.2 Processing and QC scRNA-seq\n",
      "is downloading2020 STAT115 Lect8. scRNA-seq\n",
      "is downloading2020 STAT115 Lect6.3 Batch Effect Removal\n",
      "is downloading2020 STAT115 Lect6.2 PCA\n",
      "is downloading2020 STAT115 Lect6.1 KNN and MDS\n",
      "is downloading2020 STAT115 Lect5.2 Consensus Clustering\n",
      "is downloading2020 STAT115 Lect5.3 K-means Clustering\n",
      "is downloading2020 STAT115 Lect5.2 Hierarchical Clustering\n",
      "is downloading2020 STAT115 Lect5.1 Gene Set Enrichment Analyses\n",
      "is downloading2020 STAT115 Lect4.2 Multiple Hypotheses Testing and False Discovery Rate\n",
      "is downloading2020 STAT115 Lect4.1 Differential RNA-seq\n",
      "is downloading2020 STAT115 Lect3.3 RNA-seq Quantification\n",
      "is downloading2020 STAT115 Lect3.4 RNA-seq Read Distribution\n"
     ]
    },
    {
     "name": "stderr",
     "output_type": "stream",
     "text": [
      "From cffi callback <function _verify_callback at 0x000001FE78FC5840>:\n",
      "Traceback (most recent call last):\n",
      "  File \"D:\\Anaconda\\lib\\site-packages\\OpenSSL\\SSL.py\", line 306, in wrapper\n",
      "    @wraps(callback)\n",
      "KeyboardInterrupt\n",
      "From cffi callback <function _verify_callback at 0x000001FE78FC5A60>:\n",
      "Traceback (most recent call last):\n",
      "  File \"D:\\Anaconda\\lib\\site-packages\\OpenSSL\\SSL.py\", line 306, in wrapper\n",
      "    @wraps(callback)\n",
      "KeyboardInterrupt\n",
      "From cffi callback <function _verify_callback at 0x000001FE78FC5C80>:\n",
      "Traceback (most recent call last):\n",
      "  File \"D:\\Anaconda\\lib\\site-packages\\OpenSSL\\SSL.py\", line 306, in wrapper\n",
      "    @wraps(callback)\n",
      "KeyboardInterrupt\n",
      "From cffi callback <function _verify_callback at 0x000001FE79152D90>:\n",
      "Traceback (most recent call last):\n",
      "  File \"D:\\Anaconda\\lib\\site-packages\\OpenSSL\\SSL.py\", line 306, in wrapper\n",
      "    @wraps(callback)\n",
      "KeyboardInterrupt\n"
     ]
    }
   ],
   "source": [
    "\n",
    "%%timeit\n",
    "log = []\n",
    "for title,url in zip(TITLE,URL):\n",
    "    time.sleep(0.1)\n",
    "    \n",
    "    try:\n",
    "        download(title,url)\n",
    "        print('is downloading{}'.format(title))\n",
    "    \n",
    "    except:\n",
    "        log.append([title,url])\n",
    "    \n"
   ]
  },
  {
   "cell_type": "code",
   "execution_count": null,
   "metadata": {},
   "outputs": [],
   "source": [
    "a =1 "
   ]
  },
  {
   "cell_type": "code",
   "execution_count": null,
   "metadata": {},
   "outputs": [],
   "source": []
  }
 ],
 "metadata": {
  "kernelspec": {
   "display_name": "Python 3",
   "language": "python",
   "name": "python3"
  },
  "language_info": {
   "codemirror_mode": {
    "name": "ipython",
    "version": 3
   },
   "file_extension": ".py",
   "mimetype": "text/x-python",
   "name": "python",
   "nbconvert_exporter": "python",
   "pygments_lexer": "ipython3",
   "version": "3.7.3"
  },
  "latex_envs": {
   "LaTeX_envs_menu_present": true,
   "autoclose": false,
   "autocomplete": true,
   "bibliofile": "biblio.bib",
   "cite_by": "apalike",
   "current_citInitial": 1,
   "eqLabelWithNumbers": true,
   "eqNumInitial": 1,
   "hotkeys": {
    "equation": "Ctrl-E",
    "itemize": "Ctrl-I"
   },
   "labels_anchors": false,
   "latex_user_defs": false,
   "report_style_numbering": false,
   "user_envs_cfg": false
  },
  "toc": {
   "base_numbering": 1,
   "nav_menu": {},
   "number_sections": true,
   "sideBar": true,
   "skip_h1_title": false,
   "title_cell": "Table of Contents",
   "title_sidebar": "Contents",
   "toc_cell": false,
   "toc_position": {},
   "toc_section_display": true,
   "toc_window_display": false
  }
 },
 "nbformat": 4,
 "nbformat_minor": 2
}
