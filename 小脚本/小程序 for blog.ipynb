{
 "cells": [
  {
   "cell_type": "markdown",
   "metadata": {},
   "source": [
    "# 1.天气查询python小程序\n",
    "\n",
    "![D](./img/weather.jpg)\n"
   ]
  },
  {
   "cell_type": "code",
   "execution_count": 1,
   "metadata": {},
   "outputs": [
    {
     "name": "stdout",
     "output_type": "stream",
     "text": [
      "您查询的城市： 重庆\n",
      "--------------------------\n",
      "今天的天气\n",
      "温度 13\n",
      "感冒指数 昼夜温差很大，易发生感冒，请注意适当增减衣服，加强自我防护避免感冒。\n",
      "--------------------------\n",
      "昨天的天气\n",
      "昨天： 15日星期六\n",
      "天气： 小雨\n",
      "最高气温： 高温 8℃\n",
      "最低气温： 低温 4℃\n",
      "风向： 东风\n",
      "风力： 3级\n",
      "--------------------------\n"
     ]
    }
   ],
   "source": [
    "#导入库\n",
    "import requests\n",
    "\n",
    "##第一步\n",
    "city_name = '重庆'\n",
    "#input('请输入要查询的城市名词：')\n",
    "url = 'http://wthrcdn.etouch.cn/weather_mini?city='\n",
    "#访问URL\n",
    "r = requests.get(url+city_name)\n",
    "#解析json格式的数据\n",
    "weather_dict = r.json()\n",
    "\n",
    "if weather_dict.get('desc') == 'invilad-citykey':\n",
    "    print('您输入的城市未收录')\n",
    "print('您查询的城市：',weather_dict['data']['city'])\n",
    "print('--------------------------')\n",
    "print('今天的天气')\n",
    "print('温度',weather_dict['data']['wendu'])\n",
    "print('感冒指数',weather_dict['data']['ganmao'])\n",
    "print('--------------------------')\n",
    "print('昨天的天气')\n",
    "print('昨天：',weather_dict['data']['yesterday']['date'])\n",
    "print('天气：',weather_dict['data']['yesterday']['type'])\n",
    "print('最高气温：',weather_dict['data']['yesterday']['high'])\n",
    "print('最低气温：',weather_dict['data']['yesterday']['low'])\n",
    "print('风向：',weather_dict['data']['yesterday']['fx'])\n",
    "print('风力：',weather_dict['data']['yesterday']['fl'][-5:-3])\n",
    "print('--------------------------')"
   ]
  },
  {
   "cell_type": "markdown",
   "metadata": {},
   "source": [
    "# 疫情查询\n",
    "![image.png](./img/Snipaste_2020-02-16_16-56-19.png)"
   ]
  },
  {
   "cell_type": "markdown",
   "metadata": {},
   "source": [
    "# 涉及到的pandas函数\n",
    "## pandas.Series.pct_change()函数\n",
    "本函数可以对一个Series的数据进行处理，获得增长率\n",
    "\n",
    "`Series.pct_change(self: ~FrameOrSeries, periods=1, fill_method='pad', limit=None, freq=None, **kwargs) `\n",
    "\n",
    "用于增长率的计算\n",
    "\n",
    "\n",
    "参数\n",
    "- 步长, 默认 1 ，正数表示从上到下\n",
    "\n",
    "- 处理空数据的模式, 默认‘pad’处理NA的数据的方式\n",
    "\n",
    "- limitint, default None The number of consecutive NAs to fill before stopping.\n",
    "\n",
    "- freqDateOffset, timedelta, or str, optional Increment to use from time series API (e.g. ‘M’ or BDay()).\n",
    "\n",
    "\n",
    "## DataFrame.insert()函数\n",
    "`DataFrame.insert(self, loc, column, value, allow_duplicates=False)`\n",
    "\n",
    "该函数插入值为value，列名为column的Series到DataFrame中的某个位置\n",
    "参数\n",
    "- loc int，loc = 1 ，表示插入到新的DataFrame的第 1 位置\n",
    "- column str,number ，插入列的列名\n",
    "- value 插入的列的值\n",
    "\n",
    "## Data.Frame.append()函数\n",
    "如果列名相同，则叠加在该DataFrame的下方\n",
    "\n",
    "`DataFrame.append(self, other, ignore_index=False, verify_integrity=False, sort=False)`\n",
    "\n",
    "Parameters\n",
    "- ohter 是其他的df，可以是一个列表装有多个df\n",
    "- ignore_index 处理index的问题，避免出现多个相同的index通常写True\n",
    "- sort 是否对列名进行重排列，按字母顺序"
   ]
  },
  {
   "cell_type": "code",
   "execution_count": 1,
   "metadata": {},
   "outputs": [],
   "source": [
    "# 疫情数据查询API\n",
    "import requests\n",
    "import pandas as pd \n",
    "\n",
    "\n",
    "import seaborn as sns \n",
    "import matplotlib.pyplot as plt\n",
    "plt.rc('font', family='SimHei', size=8)\n",
    "%matplotlib inline"
   ]
  },
  {
   "cell_type": "code",
   "execution_count": 7,
   "metadata": {},
   "outputs": [],
   "source": [
    "#api地址\n",
    "api_url = 'https://tianqiapi.com/api'\n",
    "#从api获取数据\n",
    "params = {'appid':'43717896','appsecret':'qsoHmQ4f','version':'epidemic'}\n",
    "r = requests.get(api_url,params)\n",
    "nCov_data = r.json()['data']\n",
    "area = nCov_data['area']\n",
    "#统计各个地区的数据\n",
    "Tmp=[]\n",
    "for i in range(len(area)):\n",
    "    name = area[i]['provinceName']\n",
    "    province = pd.DataFrame(area[i]['cities'])\n",
    "    province.insert(loc=0,column='provinceName',value = name)\n",
    "    Tmp.append(province)\n",
    "allArea = Tmp[0].append(Tmp[1:],ignore_index = True,sort=False)\n",
    "\n",
    "#全国历史数据\n",
    "History_day= pd.DataFrame(nCov_data['history'],columns=['date','confirmedNum','curesNum','curesRatio','deathsNum','deathsRatio',\n",
    "                                                        'suspectedIncr','suspectedIncrStr','suspectedNum','suspectedNumStr','treatingNum'])\n",
    "# 插入日增长率\n",
    "History_day.insert(loc=2,column='daily_incresing_rate',value=History_day.confirmedNum.pct_change(periods=-1))"
   ]
  },
  {
   "cell_type": "code",
   "execution_count": 8,
   "metadata": {},
   "outputs": [],
   "source": [
    "def query_city(province):\n",
    "    city_data = allArea[allArea.provinceName==province]\n",
    "    print(city_data)\n",
    "    f, ax= plt.subplots(figsize = (14, 10))\n",
    "    #将x轴的标签旋转90度，避免太挤\n",
    "    ax.set_xticklabels(ax.get_xticklabels(), rotation=-90)\n",
    "    sns.barplot(city_data.cityName,city_data.confirmedCount)\n",
    "    plt.title('city_name 和 confirmedCount的条形图')\n"
   ]
  },
  {
   "cell_type": "code",
   "execution_count": 9,
   "metadata": {},
   "outputs": [
    {
     "name": "stdout",
     "output_type": "stream",
     "text": [
      "    provinceName cityName  confirmedCount  curedCount  deadCount  \\\n",
      "122           重庆      万州区           108.0        41.0        3.0   \n",
      "123           重庆      江北区            28.0         5.0        0.0   \n",
      "124           重庆      云阳县            25.0        17.0        0.0   \n",
      "125           重庆      合川区            23.0         7.0        0.0   \n",
      "126           重庆      綦江区            23.0         7.0        0.0   \n",
      "127           重庆      长寿区            21.0         9.0        0.0   \n",
      "128           重庆      渝中区            20.0        12.0        0.0   \n",
      "129           重庆     九龙坡区            20.0        10.0        1.0   \n",
      "130           重庆      垫江县            20.0         6.0        0.0   \n",
      "131           重庆       忠县            20.0        12.0        0.0   \n",
      "132           重庆      开州区            20.0        13.0        1.0   \n",
      "133           重庆      奉节县            20.0         7.0        0.0   \n",
      "134           重庆      潼南区            18.0         2.0        0.0   \n",
      "135           重庆     两江新区            17.0         7.0        0.0   \n",
      "136           重庆      渝北区            16.0         7.0        0.0   \n",
      "137           重庆      南岸区            15.0         3.0        0.0   \n",
      "138           重庆      大足区            14.0         5.0        0.0   \n",
      "139           重庆      石柱县            14.0         8.0        0.0   \n",
      "140           重庆      巫溪县            13.0         9.0        0.0   \n",
      "141           重庆      丰都县            10.0         3.0        0.0   \n",
      "142           重庆      巫山县            10.0         6.0        0.0   \n",
      "143           重庆      铜梁区             9.0         3.0        0.0   \n",
      "144           重庆      荣昌区             9.0         4.0        0.0   \n",
      "145           重庆      璧山区             9.0         6.0        0.0   \n",
      "146           重庆     沙坪坝区             8.0         1.0        0.0   \n",
      "147           重庆     大渡口区             7.0         5.0        0.0   \n",
      "148           重庆      巴南区             6.0         2.0        0.0   \n",
      "149           重庆      永川区             5.0         2.0        0.0   \n",
      "150           重庆      江津区             4.0         3.0        0.0   \n",
      "151           重庆      梁平区             4.0         4.0        0.0   \n",
      "152           重庆      高新区             4.0         1.0        0.0   \n",
      "153           重庆      涪陵区             3.0         2.0        0.0   \n",
      "154           重庆      黔江区             2.0         2.0        0.0   \n",
      "155           重庆      城口县             2.0         2.0        0.0   \n",
      "156           重庆       彭水             2.0         0.0        0.0   \n",
      "157           重庆    万盛经开区             1.0         0.0        0.0   \n",
      "158           重庆      武隆区             1.0         1.0        0.0   \n",
      "159           重庆      秀山县             1.0         1.0        0.0   \n",
      "160           重庆       酉阳             1.0         0.0        0.0   \n",
      "\n",
      "     suspectedCount preCityName  \n",
      "122             0.0         NaN  \n",
      "123             0.0         NaN  \n",
      "124             0.0         NaN  \n",
      "125             0.0         NaN  \n",
      "126             0.0         NaN  \n",
      "127             0.0         NaN  \n",
      "128             0.0         NaN  \n",
      "129             0.0         NaN  \n",
      "130             0.0         NaN  \n",
      "131             0.0         NaN  \n",
      "132             0.0         NaN  \n",
      "133             0.0         NaN  \n",
      "134             0.0         NaN  \n",
      "135             0.0         NaN  \n",
      "136             0.0         NaN  \n",
      "137             0.0         NaN  \n",
      "138             0.0         NaN  \n",
      "139             0.0         NaN  \n",
      "140             0.0         NaN  \n",
      "141             0.0         NaN  \n",
      "142             0.0         NaN  \n",
      "143             0.0         NaN  \n",
      "144             0.0         NaN  \n",
      "145             0.0         NaN  \n",
      "146             0.0         NaN  \n",
      "147             0.0         NaN  \n",
      "148             0.0         NaN  \n",
      "149             0.0         NaN  \n",
      "150             0.0         NaN  \n",
      "151             0.0         NaN  \n",
      "152             0.0         NaN  \n",
      "153             0.0         NaN  \n",
      "154             0.0         NaN  \n",
      "155             0.0         NaN  \n",
      "156             0.0         NaN  \n",
      "157             0.0         NaN  \n",
      "158             0.0         NaN  \n",
      "159             0.0         NaN  \n",
      "160             0.0         NaN  \n"
     ]
    },
    {
     "data": {
      "image/png": "[encoded data removed]",
      "text/plain": [
       "<Figure size 1008x720 with 1 Axes>"
      ]
     },
     "metadata": {
      "needs_background": "light"
     },
     "output_type": "display_data"
    }
   ],
   "source": [
    "query_city('重庆')"
   ]
  },
  {
   "cell_type": "markdown",
   "metadata": {},
   "source": [
    "# 2. 疫情数据查询API调用"
   ]
  },
  {
   "cell_type": "code",
   "execution_count": 1,
   "metadata": {},
   "outputs": [],
   "source": [
    "# 疫情数据查询API\n",
    "import requests\n",
    "import pandas as pd \n",
    "import os \n",
    "import seaborn as sns \n",
    "import matplotlib.pyplot as plt\n",
    "import seaborn as sns \n",
    "import time \n",
    "import numpy as np \n",
    "plt.rc('font', family='SimHei', size=8)\n",
    "%matplotlib inline"
   ]
  },
  {
   "cell_type": "markdown",
   "metadata": {},
   "source": [
    "请求接口：/nCoV/api/overall\n",
    "请求方式：GET\n",
    "返回自爬虫运行开始（2020年1月24日下午4:00）至今，病毒研究情况以及全国疫情概览，可指定返回数据为最新发布数据或时间序列数据。"
   ]
  },
  {
   "cell_type": "markdown",
   "metadata": {},
   "source": [
    "请求接口：/nCoV/api/area\n",
    "请求方式：GET\n",
    "返回自2020年1月22日凌晨3:00（爬虫开始运行）至今，中国所有省份、地区或直辖市及世界其他国家的所有疫情信息变化的时间序列数据（精确到市），能够追溯确诊/疑似感染/治愈/死亡人数的时间序列。\n",
    "注：自2020年1月22日凌晨3:00至2020年1月24日凌晨3:40之间的数据只有省级数据，自2020年1月24日起，丁香园才开始统计并公开市级数据。"
   ]
  },
  {
   "cell_type": "code",
   "execution_count": 2,
   "metadata": {},
   "outputs": [],
   "source": [
    "def provincesList():\n",
    "    api_url = 'https://lab.isaaclin.cn/nCoV/api/provinceName'\n",
    "    #从api获取数据\n",
    "    r = requests.get(api_url)\n",
    "    list_province = r.json()['results']\n",
    "    return list_province\n",
    "\n",
    "\n",
    "def timestampMs2Date(timestamp):\n",
    "    #转换成localtime\n",
    "    timestamp = int(timestamp/1000)\n",
    "    time_local=time.localtime(timestamp)\n",
    "    #转换成时间格式：%Y_%m_%d %H:%M:%S\n",
    "    dt=time.strftime(\"%Y-%m-%d %H:%M:%S\",time_local)\n",
    "    return dt \n",
    "def turn_to_list_index(province,cityName):\n",
    "    return [tuple([province,city_name]) for city_name in cityName]\n",
    "def mkdir(path): \n",
    "    if os.path.isdir(path):\n",
    "        pass \n",
    "    else:\n",
    "        os.makedirs(path)\n",
    "\n",
    "\n",
    "\n",
    "        \n",
    "\n",
    "    \n",
    "def downloadRealDate():\n",
    "    foreign = ['伊朗',\n",
    "'俄罗斯',\n",
    "'加拿大',\n",
    "'印度',\n",
    "'台湾',\n",
    "'埃及',\n",
    "'尼泊尔',\n",
    "'德国',\n",
    "'意大利',\n",
    "'斯里兰卡',\n",
    "'新加坡',\n",
    "'日本',\n",
    "'柬埔寨',\n",
    "'比利时',\n",
    "'法国',\n",
    "'泰国',\n",
    "'澳大利亚',\n",
    "'澳门',\n",
    "'瑞典',\n",
    "'美国',\n",
    "'芬兰',\n",
    "'英国',\n",
    "'菲律宾',\n",
    "'西班牙',\n",
    "'越南',\n",
    "'钻石公主号邮轮',\n",
    "'阿联酋',\n",
    "'韩国',\n",
    "'香港',\n",
    "'马来西亚']\n",
    "    #api地址\n",
    "    api_url = 'https://lab.isaaclin.cn/nCoV/api/area'\n",
    "    provinces = provincesList()\n",
    "    Tmp_province =[]\n",
    "    Tmp_city = []\n",
    "    Tmp_foreign = []\n",
    "\n",
    "    for province in provinces:\n",
    "        params = {'latest':1,'province':province}\n",
    "\n",
    "        if province not in foreign:\n",
    "            params = {'latest':1,'province':province}\n",
    "            require_data = requests.get(api_url,params).json()\n",
    "            if require_data['success']is True:\n",
    "                realData = require_data['results'][0]\n",
    "                realCityDate = realData.pop('cities')\n",
    "                Tmp_city.append(realCityDate)\n",
    "                Tmp_province.append(realData)\n",
    "        else:\n",
    "            params = {'latest':1,'province':province}\n",
    "            require_data = requests.get(api_url,params).json()\n",
    "            if require_data['success']is True:\n",
    "                realData = require_data['results'][0]\n",
    "                Tmp_foreign.append(realData)\n",
    "\n",
    "    realCity = pd.DateFrame(Tmp_city)\n",
    "    realProvince = pd.DataFrame(Tmp_province)\n",
    "    realForeign = pd.DataFrame(Tmp_foreign)\n",
    "    return realCity,realProvincel,realForeign\n",
    "\n",
    "    \n",
    "def requireDate():\n",
    "    #从所有数据中按时间分类，使用.date()获取对应的天数据\n",
    "    resortDate = []\n",
    "    df=pd.read_csv('d://nCov//allData.csv')\n",
    "    df.updateTime = pd.to_datetime(df.updateTime)\n",
    "    for day in df.updateTime.apply(lambda x : x.date()).unique():\n",
    "        print(day)\n",
    "        currentDay = df[df.updateTime.apply(lambda x:x.date()) == day]\n",
    "        #在对应的某天数据中筛选出某一个省的数据，\n",
    "        for province in currentDay.provinceName.unique():\n",
    "            currentProvince = currentDay[currentDay['provinceName']== province]\n",
    "            #在对应的某天某省的数据中筛选出某市\n",
    "            for city in currentProvince.cityName.unique():\n",
    "                #获得的某天某省某市不同时间的数据， 这个地方可能会报错原因是 当天的数据还未更新\n",
    "                currentCity = currentProvince[currentProvince['cityName'] == city]\n",
    "                resortDate.append(currentCity.iloc[0])\n",
    "\n",
    "    resortDate = pd.DataFrame(resortDate)\n",
    "    resortDate.updateTime = resortDate.updateTime.apply(lambda x : x.date())\n",
    "    resortDate.to_csv('d://nCov//Data.csv')\n",
    "    return resortDate\n",
    "\n",
    "\n",
    "\n",
    "# 使用此函数既可以下载\n",
    "\n",
    "def download_province_nCov():\n",
    "    # 使用此函数既可以下载所有nCov的数据啦\n",
    "\n",
    "        #建立文件树\n",
    "    os.chdir('d://')\n",
    "    file_root_path = 'd://nCov'\n",
    "    mkdir(file_root_path)\n",
    "\n",
    "    #api地址\n",
    "    api_url = 'https://lab.isaaclin.cn/nCoV/api/area'\n",
    "    #从api获取数据\n",
    "    foreign = ['伊朗','俄罗斯','加拿大','印度','台湾','埃及','尼泊尔','德国','意大利','斯里兰卡','新加坡',\n",
    "               '日本','柬埔寨','比利时','法国','泰国','澳大利亚','澳门','瑞典','美国','芬兰','英国','菲律宾','西班牙',\n",
    "               '越南','钻石公主号邮轮','阿联酋','韩国','香港','马来西亚']\n",
    "    provinceChina = ['上海市','云南省','内蒙古自治区', '北京市', '吉林省', '四川省', '天津市', '宁夏回族自治区', '安徽省', '山东省',\n",
    " '山西省', '广东省', '广西壮族自治区', '新疆维吾尔自治区', '江苏省', '江西省', '河北省', '河南省', '浙江省', '海南省',\n",
    " '湖北省', '湖南省', '甘肃省', '福建省', '西藏自治区', '贵州省', '辽宁省', '重庆市', '陕西省', '青海省', '黑龙江省']\n",
    "\n",
    "    #api地址\n",
    "    provinces = provincesList()\n",
    "    Tmp_province =[]\n",
    "    Tmp_city = []\n",
    "    Tmp_foreign =[]\n",
    "    for province in provinces:\n",
    "        if province  in provinceChina:\n",
    "            #国内省份\n",
    "            params = {'latest':0,'province':province}\n",
    "            r = requests.get(api_url,params)\n",
    "            require_data = r.json()\n",
    "            if require_data['success']is True:\n",
    "                provinceDate = require_data['results']\n",
    "                for times in provinceDate:\n",
    "                    creat_time = times['updateTime']\n",
    "                    times['updateTime'] = timestampMs2Date(creat_time)\n",
    "                    cities = times.pop('cities')\n",
    "                    cities = pd.DataFrame(cities)\n",
    "                    Tmp_province.append(times)\n",
    "                    if cities.empty:\n",
    "                        pass\n",
    "                    else:\n",
    "                        cityName = cities.pop('cityName')\n",
    "\n",
    "                        cities.insert(0,column='cityName',value=cityName)\n",
    "                        cities.insert(0,column='provinceName',value=province)\n",
    "                        cities.insert(0,column='updateTime',value = timestampMs2Date(creat_time))\n",
    "                        cities['updateTime'] =cities['updateTime'] .astype('datetime64')\n",
    "                        Tmp_city.append(cities)\n",
    "        #国外城市的数据\n",
    "        else :\n",
    "            params = {'latest':0,'province':province}\n",
    "            r = requests.get(api_url,params)\n",
    "            require_data = r.json()\n",
    "            if require_data['success']is True:\n",
    "                foreignDate = require_data['results']\n",
    "                for times in foreignDate: \n",
    "                    creat_time = times['updateTime']\n",
    "                    times['updateTime'] = timestampMs2Date(creat_time)\n",
    "                    Tmp_foreign.append(times)\n",
    "\n",
    "\n",
    "\n",
    "\n",
    "    #包含疫情爆发后所有省份的所有城市的数据                    \n",
    "    cityDateHistory = Tmp_city[0].append(Tmp_city[1:],ignore_index=True)      \n",
    "    #疫情爆发后所有省份的所有数据。\n",
    "    provinceDateHistory = pd.DataFrame(Tmp_province)\n",
    "    #疫情爆发后国外的数据\n",
    "    foreignDateHistory = pd.DataFrame(Tmp_foreign)\n",
    "\n",
    "    #获得整理好的所有城市的所有历史数据\n",
    "    resortDate = []\n",
    "    df =cityDateHistory\n",
    "    df.updateTime = pd.to_datetime(df.updateTime)\n",
    "    for day in df.updateTime.apply(lambda x : x.date()).unique():\n",
    "        currentDay = df[df.updateTime.apply(lambda x:x.date()) == day]\n",
    "        #在对应的某天数据中筛选出某一个省的数据，\n",
    "        for province in currentDay.provinceName.unique():\n",
    "            currentProvince = currentDay[currentDay['provinceName']== province]\n",
    "            #在对应的某天某省的数据中筛选出某市\n",
    "            for city in currentProvince.cityName.unique():\n",
    "                #获得的某天某省某市不同时间的数据， 这个地方可能会报错原因是 当天的数据还未更新\n",
    "                currentCity = currentProvince[currentProvince['cityName'] == city]\n",
    "                resortDate.append(currentCity.iloc[0])\n",
    "\n",
    "    resortCityDate = pd.DataFrame(resortDate)\n",
    "    resortCityDate.updateTime = resortCityDate.updateTime.apply(lambda x : x.date())\n",
    "    resortCityDate.to_csv('d://nCov//Data.csv')\n",
    "\n",
    "\n",
    "    #获得整理好的国内省份数据\n",
    "\n",
    "    resortDate = []\n",
    "    df =provinceDateHistory\n",
    "    df.updateTime = pd.to_datetime(df.updateTime)\n",
    "    for day in df.updateTime.apply(lambda x : x.date()).unique():\n",
    "        currentDay = df[df.updateTime.apply(lambda x:x.date()) == day]\n",
    "        #在对应的某天数据中筛选出某一个省的数据，\n",
    "        for province in currentDay.provinceName.unique():\n",
    "            currentProvince = currentDay[currentDay['provinceName']== province]\n",
    "            resortDate.append(currentProvince.iloc[0])\n",
    "\n",
    "    resortProvinceDate = pd.DataFrame(resortDate)\n",
    "    resortProvinceDate.updateTime = resortProvinceDate.updateTime.apply(lambda x : x.date())\n",
    "    resortProvinceDate.to_csv('d://nCov//Data_Province.csv')\n",
    "\n",
    "    #整理好的  国外的数据\n",
    "    resortDate = []\n",
    "    df =foreignDateHistory\n",
    "    df.updateTime = pd.to_datetime(df.updateTime)\n",
    "    for day in df.updateTime.apply(lambda x : x.date()).unique():\n",
    "        currentDay = df[df.updateTime.apply(lambda x:x.date()) == day]\n",
    "        #在对应的某天数据中筛选出某一个国家的数据，\n",
    "        for province in currentDay.provinceName.unique():\n",
    "            currentProvince = currentDay[currentDay['provinceName']== province]\n",
    "            resortDate.append(currentProvince.iloc[0])\n",
    "\n",
    "    resortForeignDate = pd.DataFrame(resortDate)\n",
    "    resortForeignDate.updateTime = resortForeignDate.updateTime.apply(lambda x : x.date())\n",
    "    resortForeignDate.to_csv('d://nCov//Data_Foreign.csv')\n",
    "\n",
    "    return resortCityDate,resortProvinceDate,resortForeignDate"
   ]
  },
  {
   "cell_type": "code",
   "execution_count": 23,
   "metadata": {},
   "outputs": [],
   "source": [
    "#download_province_nCov()\n",
    "resortForeignDate = pd.read_csv('D://nCov/Data_Foreign.csv')[['updateTime','provinceEnglishName','curedCount','confirmedCount','currentConfirmedCount','deadCount','provinceName']].dropna(how='any',subset=['provinceEnglishName']).replace('United Kiongdom','United Kingdom')\n",
    "resortProvinceDate =pd.read_csv('D://nCov/Data_Province.csv')[['updateTime','provinceEnglishName','curedCount','confirmedCount','currentConfirmedCount','deadCount','provinceName']].dropna(how='any',subset=['provinceEnglishName'])\n",
    "resortCityDate = pd.read_csv('d://nCov/Data.csv')[['updateTime','provinceName','cityEnglishName','curedCount','confirmedCount','currentConfirmedCount','deadCount','provinceName']].dropna(how='any',subset=['cityEnglishName'])\n",
    "\n"
   ]
  },
  {
   "cell_type": "code",
   "execution_count": 26,
   "metadata": {},
   "outputs": [
    {
     "data": {
      "text/plain": [
       "updateTime               2020-02-282020-02-282020-02-282020-02-282020-0...\n",
       "provinceEnglishName      ShanghaiYunnanNeimengguBeijingJilinSichuanTian...\n",
       "curedCount                                                           35976\n",
       "confirmedCount                                                       78466\n",
       "currentConfirmedCount                                                39705\n",
       "deadCount                                                             2785\n",
       "provinceName             上海市云南省内蒙古自治区北京市吉林省四川省天津市安徽省山东省山西省广东省广西壮族自治区新疆维...\n",
       "dtype: object"
      ]
     },
     "execution_count": 26,
     "metadata": {},
     "output_type": "execute_result"
    }
   ],
   "source": [
    "resortProvinceDate[resortProvinceDate['updateTime'] =='2020-02-28'].sum()"
   ]
  },
  {
   "cell_type": "code",
   "execution_count": 7,
   "metadata": {},
   "outputs": [],
   "source": [
    "resortCityDate.updateTime = pd.to_datetime(resortCityDate.updateTime)\n",
    "resortProvinceDate.updateTime = pd.to_datetime(resortProvinceDate.updateTime)\n",
    "resortForeignDate.updateTime = pd.to_datetime(resortForeignDate.updateTime)\n"
   ]
  },
  {
   "cell_type": "code",
   "execution_count": 25,
   "metadata": {},
   "outputs": [
    {
     "data": {
      "text/html": [
       "<div>\n",
       "<style scoped>\n",
       "    .dataframe tbody tr th:only-of-type {\n",
       "        vertical-align: middle;\n",
       "    }\n",
       "\n",
       "    .dataframe tbody tr th {\n",
       "        vertical-align: top;\n",
       "    }\n",
       "\n",
       "    .dataframe thead th {\n",
       "        text-align: right;\n",
       "    }\n",
       "</style>\n",
       "<table border=\"1\" class=\"dataframe\">\n",
       "  <thead>\n",
       "    <tr style=\"text-align: right;\">\n",
       "      <th></th>\n",
       "      <th>updateTime</th>\n",
       "      <th>provinceEnglishName</th>\n",
       "      <th>curedCount</th>\n",
       "      <th>confirmedCount</th>\n",
       "      <th>currentConfirmedCount</th>\n",
       "      <th>deadCount</th>\n",
       "      <th>provinceName</th>\n",
       "    </tr>\n",
       "  </thead>\n",
       "  <tbody>\n",
       "    <tr>\n",
       "      <th>0</th>\n",
       "      <td>2020-02-29</td>\n",
       "      <td>Shanghai</td>\n",
       "      <td>287</td>\n",
       "      <td>337</td>\n",
       "      <td>47.0</td>\n",
       "      <td>3</td>\n",
       "      <td>上海市</td>\n",
       "    </tr>\n",
       "    <tr>\n",
       "      <th>1</th>\n",
       "      <td>2020-02-29</td>\n",
       "      <td>Yunnan</td>\n",
       "      <td>157</td>\n",
       "      <td>174</td>\n",
       "      <td>15.0</td>\n",
       "      <td>2</td>\n",
       "      <td>云南省</td>\n",
       "    </tr>\n",
       "    <tr>\n",
       "      <th>2</th>\n",
       "      <td>2020-02-29</td>\n",
       "      <td>Neimenggu</td>\n",
       "      <td>49</td>\n",
       "      <td>75</td>\n",
       "      <td>26.0</td>\n",
       "      <td>0</td>\n",
       "      <td>内蒙古自治区</td>\n",
       "    </tr>\n",
       "    <tr>\n",
       "      <th>3</th>\n",
       "      <td>2020-02-29</td>\n",
       "      <td>Beijing</td>\n",
       "      <td>271</td>\n",
       "      <td>411</td>\n",
       "      <td>132.0</td>\n",
       "      <td>8</td>\n",
       "      <td>北京市</td>\n",
       "    </tr>\n",
       "    <tr>\n",
       "      <th>4</th>\n",
       "      <td>2020-02-29</td>\n",
       "      <td>Jilin</td>\n",
       "      <td>75</td>\n",
       "      <td>93</td>\n",
       "      <td>17.0</td>\n",
       "      <td>1</td>\n",
       "      <td>吉林省</td>\n",
       "    </tr>\n",
       "    <tr>\n",
       "      <th>5</th>\n",
       "      <td>2020-02-29</td>\n",
       "      <td>Sichuan</td>\n",
       "      <td>351</td>\n",
       "      <td>538</td>\n",
       "      <td>184.0</td>\n",
       "      <td>3</td>\n",
       "      <td>四川省</td>\n",
       "    </tr>\n",
       "    <tr>\n",
       "      <th>6</th>\n",
       "      <td>2020-02-29</td>\n",
       "      <td>Tianjin</td>\n",
       "      <td>109</td>\n",
       "      <td>136</td>\n",
       "      <td>24.0</td>\n",
       "      <td>3</td>\n",
       "      <td>天津市</td>\n",
       "    </tr>\n",
       "    <tr>\n",
       "      <th>7</th>\n",
       "      <td>2020-02-29</td>\n",
       "      <td>Ningxia</td>\n",
       "      <td>69</td>\n",
       "      <td>73</td>\n",
       "      <td>4.0</td>\n",
       "      <td>0</td>\n",
       "      <td>宁夏回族自治区</td>\n",
       "    </tr>\n",
       "    <tr>\n",
       "      <th>8</th>\n",
       "      <td>2020-02-29</td>\n",
       "      <td>Anhui</td>\n",
       "      <td>868</td>\n",
       "      <td>990</td>\n",
       "      <td>116.0</td>\n",
       "      <td>6</td>\n",
       "      <td>安徽省</td>\n",
       "    </tr>\n",
       "    <tr>\n",
       "      <th>9</th>\n",
       "      <td>2020-02-29</td>\n",
       "      <td>Shandong</td>\n",
       "      <td>421</td>\n",
       "      <td>756</td>\n",
       "      <td>329.0</td>\n",
       "      <td>6</td>\n",
       "      <td>山东省</td>\n",
       "    </tr>\n",
       "    <tr>\n",
       "      <th>10</th>\n",
       "      <td>2020-02-29</td>\n",
       "      <td>Shanxi</td>\n",
       "      <td>113</td>\n",
       "      <td>133</td>\n",
       "      <td>20.0</td>\n",
       "      <td>0</td>\n",
       "      <td>山西省</td>\n",
       "    </tr>\n",
       "    <tr>\n",
       "      <th>11</th>\n",
       "      <td>2020-02-29</td>\n",
       "      <td>Guangdong</td>\n",
       "      <td>983</td>\n",
       "      <td>1349</td>\n",
       "      <td>359.0</td>\n",
       "      <td>7</td>\n",
       "      <td>广东省</td>\n",
       "    </tr>\n",
       "    <tr>\n",
       "      <th>12</th>\n",
       "      <td>2020-02-29</td>\n",
       "      <td>Guangxi</td>\n",
       "      <td>176</td>\n",
       "      <td>252</td>\n",
       "      <td>74.0</td>\n",
       "      <td>2</td>\n",
       "      <td>广西壮族自治区</td>\n",
       "    </tr>\n",
       "    <tr>\n",
       "      <th>13</th>\n",
       "      <td>2020-02-29</td>\n",
       "      <td>Xinjiang</td>\n",
       "      <td>62</td>\n",
       "      <td>76</td>\n",
       "      <td>11.0</td>\n",
       "      <td>3</td>\n",
       "      <td>新疆维吾尔自治区</td>\n",
       "    </tr>\n",
       "    <tr>\n",
       "      <th>14</th>\n",
       "      <td>2020-02-29</td>\n",
       "      <td>Jiangsu</td>\n",
       "      <td>523</td>\n",
       "      <td>631</td>\n",
       "      <td>108.0</td>\n",
       "      <td>0</td>\n",
       "      <td>江苏省</td>\n",
       "    </tr>\n",
       "    <tr>\n",
       "      <th>15</th>\n",
       "      <td>2020-02-29</td>\n",
       "      <td>Jiangxi</td>\n",
       "      <td>811</td>\n",
       "      <td>935</td>\n",
       "      <td>123.0</td>\n",
       "      <td>1</td>\n",
       "      <td>江西省</td>\n",
       "    </tr>\n",
       "    <tr>\n",
       "      <th>16</th>\n",
       "      <td>2020-02-29</td>\n",
       "      <td>Hebei</td>\n",
       "      <td>282</td>\n",
       "      <td>318</td>\n",
       "      <td>30.0</td>\n",
       "      <td>6</td>\n",
       "      <td>河北省</td>\n",
       "    </tr>\n",
       "    <tr>\n",
       "      <th>17</th>\n",
       "      <td>2020-02-29</td>\n",
       "      <td>Henan</td>\n",
       "      <td>1170</td>\n",
       "      <td>1272</td>\n",
       "      <td>81.0</td>\n",
       "      <td>21</td>\n",
       "      <td>河南省</td>\n",
       "    </tr>\n",
       "    <tr>\n",
       "      <th>18</th>\n",
       "      <td>2020-02-29</td>\n",
       "      <td>Zhejiang</td>\n",
       "      <td>1016</td>\n",
       "      <td>1205</td>\n",
       "      <td>188.0</td>\n",
       "      <td>1</td>\n",
       "      <td>浙江省</td>\n",
       "    </tr>\n",
       "    <tr>\n",
       "      <th>19</th>\n",
       "      <td>2020-02-29</td>\n",
       "      <td>Hainan</td>\n",
       "      <td>147</td>\n",
       "      <td>168</td>\n",
       "      <td>16.0</td>\n",
       "      <td>5</td>\n",
       "      <td>海南省</td>\n",
       "    </tr>\n",
       "    <tr>\n",
       "      <th>20</th>\n",
       "      <td>2020-02-29</td>\n",
       "      <td>Hubei</td>\n",
       "      <td>28993</td>\n",
       "      <td>66337</td>\n",
       "      <td>34617.0</td>\n",
       "      <td>2727</td>\n",
       "      <td>湖北省</td>\n",
       "    </tr>\n",
       "    <tr>\n",
       "      <th>21</th>\n",
       "      <td>2020-02-29</td>\n",
       "      <td>Hunan</td>\n",
       "      <td>846</td>\n",
       "      <td>1018</td>\n",
       "      <td>168.0</td>\n",
       "      <td>4</td>\n",
       "      <td>湖南省</td>\n",
       "    </tr>\n",
       "    <tr>\n",
       "      <th>22</th>\n",
       "      <td>2020-02-29</td>\n",
       "      <td>Fujian</td>\n",
       "      <td>243</td>\n",
       "      <td>296</td>\n",
       "      <td>52.0</td>\n",
       "      <td>1</td>\n",
       "      <td>福建省</td>\n",
       "    </tr>\n",
       "    <tr>\n",
       "      <th>23</th>\n",
       "      <td>2020-02-29</td>\n",
       "      <td>Liaoning</td>\n",
       "      <td>96</td>\n",
       "      <td>121</td>\n",
       "      <td>24.0</td>\n",
       "      <td>1</td>\n",
       "      <td>辽宁省</td>\n",
       "    </tr>\n",
       "    <tr>\n",
       "      <th>24</th>\n",
       "      <td>2020-02-29</td>\n",
       "      <td>Chongqing</td>\n",
       "      <td>422</td>\n",
       "      <td>576</td>\n",
       "      <td>148.0</td>\n",
       "      <td>6</td>\n",
       "      <td>重庆市</td>\n",
       "    </tr>\n",
       "    <tr>\n",
       "      <th>25</th>\n",
       "      <td>2020-02-29</td>\n",
       "      <td>Shaanxi</td>\n",
       "      <td>207</td>\n",
       "      <td>245</td>\n",
       "      <td>37.0</td>\n",
       "      <td>1</td>\n",
       "      <td>陕西省</td>\n",
       "    </tr>\n",
       "    <tr>\n",
       "      <th>26</th>\n",
       "      <td>2020-02-29</td>\n",
       "      <td>Heilongjiang</td>\n",
       "      <td>301</td>\n",
       "      <td>480</td>\n",
       "      <td>166.0</td>\n",
       "      <td>13</td>\n",
       "      <td>黑龙江省</td>\n",
       "    </tr>\n",
       "  </tbody>\n",
       "</table>\n",
       "</div>"
      ],
      "text/plain": [
       "    updateTime provinceEnglishName  curedCount  confirmedCount  \\\n",
       "0   2020-02-29            Shanghai         287             337   \n",
       "1   2020-02-29              Yunnan         157             174   \n",
       "2   2020-02-29           Neimenggu          49              75   \n",
       "3   2020-02-29             Beijing         271             411   \n",
       "4   2020-02-29               Jilin          75              93   \n",
       "5   2020-02-29             Sichuan         351             538   \n",
       "6   2020-02-29             Tianjin         109             136   \n",
       "7   2020-02-29             Ningxia          69              73   \n",
       "8   2020-02-29               Anhui         868             990   \n",
       "9   2020-02-29            Shandong         421             756   \n",
       "10  2020-02-29              Shanxi         113             133   \n",
       "11  2020-02-29           Guangdong         983            1349   \n",
       "12  2020-02-29             Guangxi         176             252   \n",
       "13  2020-02-29            Xinjiang          62              76   \n",
       "14  2020-02-29             Jiangsu         523             631   \n",
       "15  2020-02-29             Jiangxi         811             935   \n",
       "16  2020-02-29               Hebei         282             318   \n",
       "17  2020-02-29               Henan        1170            1272   \n",
       "18  2020-02-29            Zhejiang        1016            1205   \n",
       "19  2020-02-29              Hainan         147             168   \n",
       "20  2020-02-29               Hubei       28993           66337   \n",
       "21  2020-02-29               Hunan         846            1018   \n",
       "22  2020-02-29              Fujian         243             296   \n",
       "23  2020-02-29            Liaoning          96             121   \n",
       "24  2020-02-29           Chongqing         422             576   \n",
       "25  2020-02-29             Shaanxi         207             245   \n",
       "26  2020-02-29        Heilongjiang         301             480   \n",
       "\n",
       "    currentConfirmedCount  deadCount provinceName  \n",
       "0                    47.0          3          上海市  \n",
       "1                    15.0          2          云南省  \n",
       "2                    26.0          0       内蒙古自治区  \n",
       "3                   132.0          8          北京市  \n",
       "4                    17.0          1          吉林省  \n",
       "5                   184.0          3          四川省  \n",
       "6                    24.0          3          天津市  \n",
       "7                     4.0          0      宁夏回族自治区  \n",
       "8                   116.0          6          安徽省  \n",
       "9                   329.0          6          山东省  \n",
       "10                   20.0          0          山西省  \n",
       "11                  359.0          7          广东省  \n",
       "12                   74.0          2      广西壮族自治区  \n",
       "13                   11.0          3     新疆维吾尔自治区  \n",
       "14                  108.0          0          江苏省  \n",
       "15                  123.0          1          江西省  \n",
       "16                   30.0          6          河北省  \n",
       "17                   81.0         21          河南省  \n",
       "18                  188.0          1          浙江省  \n",
       "19                   16.0          5          海南省  \n",
       "20                34617.0       2727          湖北省  \n",
       "21                  168.0          4          湖南省  \n",
       "22                   52.0          1          福建省  \n",
       "23                   24.0          1          辽宁省  \n",
       "24                  148.0          6          重庆市  \n",
       "25                   37.0          1          陕西省  \n",
       "26                  166.0         13         黑龙江省  "
      ]
     },
     "execution_count": 25,
     "metadata": {},
     "output_type": "execute_result"
    }
   ],
   "source": [
    "resortProvinceDate[resortProvinceDate['updateTime'] =='2020-02-29']"
   ]
  },
  {
   "cell_type": "markdown",
   "metadata": {},
   "source": [
    "#### 画图"
   ]
  },
  {
   "cell_type": "code",
   "execution_count": 8,
   "metadata": {},
   "outputs": [],
   "source": [
    "import pandas as pd\n",
    "import plotly.graph_objs as go\n",
    "import dash\n",
    "import dash_table \n",
    "import dash_core_components as dcc                  # 交互式组件\n",
    "import dash_html_components as html                 # 代码转html\n",
    "from dash.dependencies import Input, Output         # 回调\n",
    "from jupyter_plotly_dash import JupyterDash \n",
    "from datetime import datetime, timedelta"
   ]
  },
  {
   "cell_type": "markdown",
   "metadata": {},
   "source": [
    "### 数据处理"
   ]
  },
  {
   "cell_type": "code",
   "execution_count": 9,
   "metadata": {},
   "outputs": [],
   "source": [
    "#国内省份\n",
    "usedDate = resortProvinceDate\n",
    "Tmp =[]\n",
    "for day in usedDate.updateTime.unique():\n",
    "    DateDict = {}\n",
    "    oneDay = usedDate[usedDate['updateTime'] == day ]\n",
    "    #确诊人数\n",
    "    DateDict['confirmedCount']=oneDay['confirmedCount'].sum()\n",
    "    # 治愈人数\n",
    "    DateDict['curedCount']=oneDay['curedCount'].sum()\n",
    "    DateDict['currentConfirmedCount'] = oneDay['currentConfirmedCount'].sum()\n",
    "    # 死亡人数\n",
    "    DateDict['deadCount']=oneDay['deadCount'].sum()\n",
    "    #疑似人数\n",
    "    DateDict['Date'] = day\n",
    "    Tmp.append(DateDict)\n",
    "MainlandDate = pd.DataFrame(Tmp).sort_values(by='Date', ascending=False)\n",
    "\n",
    "#国外的情况\n",
    "usedDate = resortForeignDate\n",
    "Tmp =[]\n",
    "for day in usedDate.updateTime.unique():\n",
    "    DateDict = {}\n",
    "    oneDay = usedDate[usedDate['updateTime'] == day ]\n",
    "    #确诊人数\n",
    "    DateDict['confirmedCount']=oneDay['confirmedCount'].sum()\n",
    "    # 治愈人数\n",
    "    DateDict['curedCount']=oneDay['curedCount'].sum()\n",
    "    DateDict['currentConfirmedCount'] = oneDay['currentConfirmedCount'].sum()\n",
    "    # 死亡人数\n",
    "    DateDict['deadCount']=oneDay['deadCount'].sum()\n",
    "    DateDict['Date'] = day\n",
    "    Tmp.append(DateDict)\n",
    "ForeignDate = pd.DataFrame(Tmp).sort_values(by='Date', ascending=False)\n",
    "\n",
    "curedDate = pd.DataFrame({'Date':MainlandDate['Date'],\n",
    "                          'Mainland':MainlandDate['curedCount'],\n",
    "                          'Foreign':ForeignDate['curedCount'],\n",
    "                          'Total':MainlandDate['curedCount']+ForeignDate['curedCount'] })\n",
    "\n",
    "deadDate = pd.DataFrame({'Date':MainlandDate['Date'],\n",
    "                          'Mainland':MainlandDate['deadCount'],\n",
    "                          'Foreign':ForeignDate['deadCount'],\n",
    "                          'Total':MainlandDate['deadCount']+ForeignDate['deadCount'] })\n",
    "\n",
    "\n",
    "confirmedDate = pd.DataFrame({'Date':MainlandDate['Date'],\n",
    "                          'Mainland':MainlandDate['confirmedCount'],\n",
    "                          'Foreign':ForeignDate['confirmedCount'],\n",
    "                          'Total':MainlandDate['confirmedCount']+ForeignDate['confirmedCount'] })\n",
    "\n"
   ]
  },
  {
   "cell_type": "markdown",
   "metadata": {},
   "source": [
    "## 计算增长率"
   ]
  },
  {
   "cell_type": "markdown",
   "metadata": {},
   "source": [
    "### 按国家绘制"
   ]
  },
  {
   "cell_type": "code",
   "execution_count": 10,
   "metadata": {},
   "outputs": [],
   "source": [
    "def countRate(df):\n",
    "    listCountryRate = []\n",
    "    for country in df.provinceName.unique():\n",
    "        dfCountry = df[df.provinceName==country]\n",
    "        curedRate =dfCountry.curedCount.pct_change(periods=-1)\n",
    "        confirmedRate= dfCountry.confirmedCount.pct_change(periods=-1)\n",
    "        deadRate = dfCountry.deadCount.pct_change(periods=-1)\n",
    "        dfRate = pd.DataFrame({'country':country,'curedRate':curedRate,'deadRate':deadRate,'confirmedRate':confirmedRate})\n",
    "        listCountryRate.append(dfRate)\n",
    "    return listCountryRate[0].append(listCountryRate[1:],ignore_index=True)"
   ]
  },
  {
   "cell_type": "code",
   "execution_count": 11,
   "metadata": {},
   "outputs": [],
   "source": [
    "# 每日新增比例\n",
    "confirmedRateMainland = confirmedDate.Mainland.pct_change(periods=-1)\n",
    "confirmedRateForeign = confirmedDate.Foreign.pct_change(periods=-1)"
   ]
  },
  {
   "cell_type": "code",
   "execution_count": 8,
   "metadata": {},
   "outputs": [
    {
     "data": {
      "text/plain": [
       "array([-100.,  -75.,  -50.,  -25.,    0.,   25.,   50.,   75.,  100.,\n",
       "        125.,  150.,  175.,  200.,  225.,  250.,  275.,  300.,  325.,\n",
       "        350.,  375.,  400.])"
      ]
     },
     "execution_count": 8,
     "metadata": {},
     "output_type": "execute_result"
    }
   ],
   "source": [
    "import numpy as np \n",
    "np.linspace(round(confirmedRateMainland.min())*100,round(confirmedRateMainland.max())*100,21)\n"
   ]
  },
  {
   "cell_type": "code",
   "execution_count": 12,
   "metadata": {},
   "outputs": [
    {
     "ename": "NameError",
     "evalue": "name 'tickList' is not defined",
     "output_type": "error",
     "traceback": [
      "\u001b[1;31m---------------------------------------------------------------------------\u001b[0m",
      "\u001b[1;31mNameError\u001b[0m                                 Traceback (most recent call last)",
      "\u001b[1;32m<ipython-input-12-733968e82481>\u001b[0m in \u001b[0;36m<module>\u001b[1;34m\u001b[0m\n\u001b[0;32m     39\u001b[0m         \u001b[0mtickmode\u001b[0m\u001b[1;33m=\u001b[0m\u001b[1;34m'array'\u001b[0m\u001b[1;33m,\u001b[0m\u001b[1;33m\u001b[0m\u001b[1;33m\u001b[0m\u001b[0m\n\u001b[0;32m     40\u001b[0m         \u001b[1;31m# Set tick range based on the maximum number\u001b[0m\u001b[1;33m\u001b[0m\u001b[1;33m\u001b[0m\u001b[1;33m\u001b[0m\u001b[0m\n\u001b[1;32m---> 41\u001b[1;33m         \u001b[0mtickvals\u001b[0m\u001b[1;33m=\u001b[0m\u001b[0mtickList\u001b[0m\u001b[1;33m,\u001b[0m\u001b[1;33m\u001b[0m\u001b[1;33m\u001b[0m\u001b[0m\n\u001b[0m\u001b[0;32m     42\u001b[0m         \u001b[1;31m# Set tick label accordingly\u001b[0m\u001b[1;33m\u001b[0m\u001b[1;33m\u001b[0m\u001b[1;33m\u001b[0m\u001b[0m\n\u001b[0;32m     43\u001b[0m         \u001b[0mticktext\u001b[0m\u001b[1;33m=\u001b[0m\u001b[1;33m[\u001b[0m\u001b[1;34m\"{:.2f}%\"\u001b[0m\u001b[1;33m.\u001b[0m\u001b[0mformat\u001b[0m\u001b[1;33m(\u001b[0m\u001b[0mi\u001b[0m\u001b[1;33m)\u001b[0m \u001b[1;32mfor\u001b[0m \u001b[0mi\u001b[0m \u001b[1;32min\u001b[0m \u001b[0mnp\u001b[0m\u001b[1;33m.\u001b[0m\u001b[0mlinspace\u001b[0m\u001b[1;33m(\u001b[0m\u001b[0mround\u001b[0m\u001b[1;33m(\u001b[0m\u001b[0mconfirmedRateMainland\u001b[0m\u001b[1;33m.\u001b[0m\u001b[0mmin\u001b[0m\u001b[1;33m(\u001b[0m\u001b[1;33m)\u001b[0m\u001b[1;33m)\u001b[0m\u001b[1;33m*\u001b[0m\u001b[1;36m100\u001b[0m\u001b[1;33m,\u001b[0m\u001b[0mround\u001b[0m\u001b[1;33m(\u001b[0m\u001b[0mconfirmedRateMainland\u001b[0m\u001b[1;33m.\u001b[0m\u001b[0mmax\u001b[0m\u001b[1;33m(\u001b[0m\u001b[1;33m)\u001b[0m\u001b[1;33m)\u001b[0m\u001b[1;33m*\u001b[0m\u001b[1;36m100\u001b[0m\u001b[1;33m,\u001b[0m\u001b[1;36m21\u001b[0m\u001b[1;33m)\u001b[0m\u001b[1;33m]\u001b[0m\u001b[1;33m\u001b[0m\u001b[1;33m\u001b[0m\u001b[0m\n",
      "\u001b[1;31mNameError\u001b[0m: name 'tickList' is not defined"
     ]
    }
   ],
   "source": [
    "# 每日新增比例\n",
    "confirmedRateMainland = confirmedDate.Mainland.pct_change(periods=-1)\n",
    "confirmedRateForeign = confirmedDate.Foreign.pct_change(periods=-1)\n",
    "\n",
    "fig_Grow = go.Figure()\n",
    "\n",
    "fig_Grow.add_trace(go.Scatter(x=confirmedDate.Date\n",
    "                              ,y=confirmedRateMainland\n",
    "                              ,mode='lines+markers'\n",
    "                              ,name='中国大陆日增长率'\n",
    "                              ,line=dict(color='#921113', width=3)\n",
    "                              ,marker=dict(size=8, color='#f4f4f2',\n",
    "                                               line=dict(width=1,color='#921113'))\n",
    "                              ,text=[datetime.strftime(d, '%b %d %Y AEDT') for d in confirmedDate.Date]\n",
    "                              ,hovertext=['中国大陆日增长确诊率:{:.2f}%<br>'.format(i*100) for i in confirmedRateMainland]\n",
    "                              ,hovertemplate='<b>%{text}</b><br></br>'+'%{hovertext}'+'<extra></extra>')\n",
    "                              )\n",
    "\n",
    "\n",
    "# Customise layout\n",
    "fig_Grow.update_layout(\n",
    "    title=dict(\n",
    "        text=\"<b>nCov日增长率<b>\",\n",
    "        y=0.96, x=0.5, xanchor='center', yanchor='top',\n",
    "        font=dict(size=20, color=\"#292929\", family=\"Playfair Display\")\n",
    "    ),\n",
    "    margin=go.layout.Margin(\n",
    "        l=10,\n",
    "        r=10,\n",
    "        b=10,\n",
    "        t=5,\n",
    "        pad=0\n",
    "    ),\n",
    "    yaxis=dict(\n",
    "        showline=True, linecolor='#272e3e',\n",
    "        zeroline=False,\n",
    "        gridcolor='#cbd2d3',\n",
    "        gridwidth = .1,\n",
    "        tickmode='array',\n",
    "        # Set tick range based on the maximum number\n",
    "        tickvals=tickList,\n",
    "        # Set tick label accordingly\n",
    "        ticktext=[\"{:.2f}%\".format(i) for i in np.linspace(round(confirmedRateMainland.min())*100,round(confirmedRateMainland.max())*100,21)]\n",
    "    ),\n",
    "#    yaxis_title=\"Total Confirmed Case Number\",\n",
    "    xaxis=dict(\n",
    "        showline=True, linecolor='#272e3e',\n",
    "        gridcolor='#cbd2d3',\n",
    "        gridwidth = .1,\n",
    "        zeroline=False\n",
    "    ),\n",
    "    xaxis_tickformat='%b %d',\n",
    "    hovermode = 'x',\n",
    "    legend_orientation=\"h\",\n",
    "#    legend=dict(x=.35, y=-.05),\n",
    "    plot_bgcolor='#f4f4f2',\n",
    "    paper_bgcolor='#cbd2d3',\n",
    "    font=dict(color='#292929')\n",
    ")\n",
    "\n",
    "fig_Grow.show()\n"
   ]
  },
  {
   "cell_type": "markdown",
   "metadata": {},
   "source": [
    "### 死亡/治愈人数图"
   ]
  },
  {
   "cell_type": "code",
   "execution_count": null,
   "metadata": {},
   "outputs": [],
   "source": [
    "# Line plot for confirmed cases\n",
    "# Set up tick scale based on confirmed case number\n",
    "tickList = list(np.arange(0, deadDate['Mainland'].max()+1000, 2000))\n",
    "\n",
    "# Create empty figure canvas\n",
    "fig_Dead = go.Figure()\n",
    "# Add trace to the figure\n",
    "fig_Dead.add_trace(go.Scatter(x=deadDate['Date'], y=deadDate['Mainland'],\n",
    "                                   mode='lines+markers',\n",
    "                                   name='Mainland China',\n",
    "                                   line=dict(color='#921113', width=3),\n",
    "                                   marker=dict(size=8, color='#f4f4f2',\n",
    "                                               line=dict(width=1,color='#921113')),\n",
    "                                   text=[datetime.strftime(d, '%b %d %Y AEDT') for d in deadDate['Date']],\n",
    "                                   hovertext=['Mainland China dead Date<br>{:,d} cases<br>'.format(i) for i in deadDate['Mainland']],\n",
    "                                   hovertemplate='<b>%{text}</b><br></br>'+\n",
    "                                                 '%{hovertext}'+\n",
    "                                                 '<extra></extra>'))\n",
    "fig_Dead.add_trace(go.Scatter(x=curedDate['Date'], y=curedDate['Mainland'],\n",
    "                                   mode='lines+markers',\n",
    "                                   name='Mainland China',\n",
    "                                   line=dict(color='#921113', width=3),\n",
    "                                   marker=dict(size=8, color='#f4f4f2',\n",
    "                                               line=dict(width=1,color='#921113')),\n",
    "                                   text=[datetime.strftime(d, '%b %d %Y AEDT') for d in curedDate['Date']],\n",
    "                                   hovertext=['Mainland China cured Date<br>{:,d} cases<br>'.format(i) for i in curedDate['Mainland']],\n",
    "                                   hovertemplate='<b>%{text}</b><br></br>'+\n",
    "                                                 '%{hovertext}'+\n",
    "                                                 '<extra></extra>'))\n",
    "# Customise layout\n",
    "fig_Dead.update_layout(\n",
    "    title=dict(\n",
    "        text=\"<b>Recoverd/Death Case Timeline<b>\",\n",
    "        y=0.96, x=0.5, xanchor='center', yanchor='top',\n",
    "        font=dict(size=20, color=\"#292929\", family=\"Playfair Display\")\n",
    "    ),\n",
    "    margin=go.layout.Margin(\n",
    "        l=10,\n",
    "        r=10,\n",
    "        b=10,\n",
    "        t=5,\n",
    "        pad=0\n",
    "    ),\n",
    "    yaxis=dict(\n",
    "        showline=True, linecolor='#272e3e',\n",
    "        zeroline=False,\n",
    "        gridcolor='#cbd2d3',\n",
    "        gridwidth = .1,\n",
    "        tickmode='array',\n",
    "        # Set tick range based on the maximum number\n",
    "        tickvals=tickList,\n",
    "        # Set tick label accordingly\n",
    "        ticktext=[\"{:.0f}k\".format(i/1000) for i in tickList]\n",
    "    ),\n",
    "#    yaxis_title=\"Total Confirmed Case Number\",\n",
    "    xaxis=dict(\n",
    "        showline=True, linecolor='#272e3e',\n",
    "        gridcolor='#cbd2d3',\n",
    "        gridwidth = .1,\n",
    "        zeroline=False\n",
    "    ),\n",
    "    xaxis_tickformat='%b %d',\n",
    "    hovermode = 'x',\n",
    "    legend_orientation=\"h\",\n",
    "#    legend=dict(x=.35, y=-.05),\n",
    "    plot_bgcolor='#f4f4f2',\n",
    "    paper_bgcolor='#cbd2d3',\n",
    "    font=dict(color='#292929')\n",
    ")\n",
    "\n",
    "fig_Dead.show()"
   ]
  },
  {
   "cell_type": "markdown",
   "metadata": {},
   "source": [
    "#### 画确诊人数图"
   ]
  },
  {
   "cell_type": "code",
   "execution_count": null,
   "metadata": {
    "scrolled": false
   },
   "outputs": [],
   "source": [
    "# Line plot for confirmed cases\n",
    "# Set up tick scale based on confirmed case number\n",
    "tickList = list(np.arange(0, confirmedDate['Mainland'].max()+1000, 2000))\n",
    "\n",
    "# Create empty figure canvas\n",
    "fig_confirmed = go.Figure()\n",
    "# Add trace to the figure\n",
    "fig_confirmed.add_trace(go.Scatter(x=confirmedDate['Date'], y=confirmedDate['Mainland'],\n",
    "                                   mode='lines+markers',\n",
    "                                   name='Mainland China',\n",
    "                                   line=dict(color='#921113', width=3),\n",
    "                                   marker=dict(size=8, color='#f4f4f2',\n",
    "                                               line=dict(width=1,color='#921113')),\n",
    "                                   text=[datetime.strftime(d, '%b %d %Y AEDT') for d in confirmedDate['Date']],\n",
    "                                   hovertext=['Mainland China confirmed<br>{:,d} cases<br>'.format(i) for i in confirmedDate['Mainland']],\n",
    "                                   hovertemplate='<b>%{text}</b><br></br>'+\n",
    "                                                 '%{hovertext}'+\n",
    "                                                 '<extra></extra>'))\n",
    "fig_confirmed.add_trace(go.Scatter(x=confirmedDate['Date'], y=confirmedDate['Foreign'],\n",
    "                                   mode='lines+markers',\n",
    "                                   name='Other Region',\n",
    "                                   line=dict(color='#eb5254', width=3),\n",
    "                                   marker=dict(size=8, color='#f4f4f2',\n",
    "                                               line=dict(width=1,color='#eb5254')),\n",
    "                                   text=[datetime.strftime(d, '%b %d %Y AEDT') for d in confirmedDate['Date']],\n",
    "                                   hovertext=['Other locations confirmed<br>{:,d} cases<br>'.format(i) for i in confirmedDate['Foreign']],\n",
    "                                   hovertemplate='<b>%{text}</b><br></br>'+\n",
    "                                                 '%{hovertext}'+\n",
    "                                                 '<extra></extra>'))\n",
    "# Customise layout\n",
    "fig_confirmed.update_layout(\n",
    "    title=dict(\n",
    "        text=\"<b>Confirmed Cases Timeline<b>\",\n",
    "        y=0.96, x=0.5, xanchor='center', yanchor='top',\n",
    "        font=dict(size=20, color=\"#292929\", family=\"Playfair Display\")\n",
    "    ),\n",
    "    margin=go.layout.Margin(\n",
    "        l=10,\n",
    "        r=10,\n",
    "        b=10,\n",
    "        t=5,\n",
    "        pad=0\n",
    "    ),\n",
    "    yaxis=dict(\n",
    "        showline=True, linecolor='#272e3e',\n",
    "        zeroline=False,\n",
    "        gridcolor='#cbd2d3',\n",
    "        gridwidth = .1,\n",
    "        tickmode='array',\n",
    "        # Set tick range based on the maximum number\n",
    "        tickvals=tickList,\n",
    "        # Set tick label accordingly\n",
    "        ticktext=[\"{:.0f}k\".format(i/1000) for i in tickList]\n",
    "    ),\n",
    "#    yaxis_title=\"Total Confirmed Case Number\",\n",
    "    xaxis=dict(\n",
    "        showline=True, linecolor='#272e3e',\n",
    "        gridcolor='#cbd2d3',\n",
    "        gridwidth = .1,\n",
    "        zeroline=False\n",
    "    ),\n",
    "    xaxis_tickformat='%b %d',\n",
    "    hovermode = 'x',\n",
    "    legend_orientation=\"h\",\n",
    "#    legend=dict(x=.35, y=-.05),\n",
    "    plot_bgcolor='#f4f4f2',\n",
    "    paper_bgcolor='#cbd2d3',\n",
    "    font=dict(color='#292929')\n",
    ")\n",
    "\n",
    "fig_confirmed.show()"
   ]
  },
  {
   "cell_type": "markdown",
   "metadata": {},
   "source": [
    "## 世界nCov感染者数据地图绘制"
   ]
  },
  {
   "cell_type": "code",
   "execution_count": 13,
   "metadata": {},
   "outputs": [],
   "source": [
    "#查询外国的地理数据\n",
    "\n",
    "#去掉砖石公主号的数据\n",
    "resortForeignDate = resortForeignDate[~resortForeignDate['provinceEnglishName'].isin(['Diamond Princess Cruise Ship'])]"
   ]
  },
  {
   "cell_type": "code",
   "execution_count": 14,
   "metadata": {},
   "outputs": [
    {
     "data": {
      "text/plain": [
       "\"\\nfrom opencage.geocoder import OpenCageGeocode\\nkey = '834b1244b561455e8087b53dda2e96f5'  # get api key from:  https://opencagedata.com\\ngeocoder = OpenCageGeocode(key)\\nlistCountry = []\\nlistLat = []\\nlistLong = []\\nfor country in resortForeignDate['provinceEnglishName'].unique():\\n    query = str(country)\\n    results = geocoder.geocode(query)\\n    try:\\n        lat = results[0]['geometry']['lat']\\n        long = results[0]['geometry']['lng']\\n        listLat.append(lat)\\n        listLong.append(long)\\n        listCountry.append(country)\\n    except:\\n        print(country)\\nForeignPlace = pd.DataFrame({'country':listCountry,'lat':listLat,'lng':listLong})\\nForeignPlace.to_csv('d://nCov/foreignPlace.csv')\\n\""
      ]
     },
     "execution_count": 14,
     "metadata": {},
     "output_type": "execute_result"
    }
   ],
   "source": [
    "'''\n",
    "from opencage.geocoder import OpenCageGeocode\n",
    "key = '834b1244b561455e8087b53dda2e96f5'  # get api key from:  https://opencagedata.com\n",
    "geocoder = OpenCageGeocode(key)\n",
    "listCountry = []\n",
    "listLat = []\n",
    "listLong = []\n",
    "for country in resortForeignDate['provinceEnglishName'].unique():\n",
    "    query = str(country)\n",
    "    results = geocoder.geocode(query)\n",
    "    try:\n",
    "        lat = results[0]['geometry']['lat']\n",
    "        long = results[0]['geometry']['lng']\n",
    "        listLat.append(lat)\n",
    "        listLong.append(long)\n",
    "        listCountry.append(country)\n",
    "    except:\n",
    "        print(country)\n",
    "ForeignPlace = pd.DataFrame({'country':listCountry,'lat':listLat,'lng':listLong})\n",
    "ForeignPlace.to_csv('d://nCov/foreignPlace.csv')\n",
    "'''"
   ]
  },
  {
   "cell_type": "code",
   "execution_count": 15,
   "metadata": {},
   "outputs": [],
   "source": [
    "ForeignDate = pd.read_csv('d://nCov/foreignPlace.csv',index_col=0)\n"
   ]
  },
  {
   "cell_type": "code",
   "execution_count": 16,
   "metadata": {},
   "outputs": [],
   "source": [
    "#国内省份的数据\n",
    "ChinaPlace = pd.read_csv('d://nCov/provincePlace.csv',index_col=0)\n",
    " "
   ]
  },
  {
   "cell_type": "code",
   "execution_count": null,
   "metadata": {},
   "outputs": [],
   "source": []
  },
  {
   "cell_type": "code",
   "execution_count": 17,
   "metadata": {
    "scrolled": true
   },
   "outputs": [],
   "source": [
    "#画中国省份和国外国家的感染数据\n",
    "ChinaPlace.columns =[ 'placeName', 'lat', 'lng']\n",
    "ForeignDate.columns =[ 'placeName', 'lat', 'lng']\n",
    "\n",
    "crossDateList = ChinaPlace.append(ForeignDate,ignore_index=True)"
   ]
  },
  {
   "cell_type": "code",
   "execution_count": 18,
   "metadata": {
    "scrolled": true
   },
   "outputs": [
    {
     "data": {
      "text/html": [
       "<div>\n",
       "<style scoped>\n",
       "    .dataframe tbody tr th:only-of-type {\n",
       "        vertical-align: middle;\n",
       "    }\n",
       "\n",
       "    .dataframe tbody tr th {\n",
       "        vertical-align: top;\n",
       "    }\n",
       "\n",
       "    .dataframe thead th {\n",
       "        text-align: right;\n",
       "    }\n",
       "</style>\n",
       "<table border=\"1\" class=\"dataframe\">\n",
       "  <thead>\n",
       "    <tr style=\"text-align: right;\">\n",
       "      <th></th>\n",
       "      <th>updateTime</th>\n",
       "      <th>placeName</th>\n",
       "      <th>curedCount</th>\n",
       "      <th>confirmedCount</th>\n",
       "      <th>currentConfirmedCount</th>\n",
       "      <th>deadCount</th>\n",
       "      <th>placename</th>\n",
       "    </tr>\n",
       "  </thead>\n",
       "  <tbody>\n",
       "    <tr>\n",
       "      <th>0</th>\n",
       "      <td>2020-02-29</td>\n",
       "      <td>Shanghai</td>\n",
       "      <td>287</td>\n",
       "      <td>337</td>\n",
       "      <td>47.0</td>\n",
       "      <td>3</td>\n",
       "      <td>上海市</td>\n",
       "    </tr>\n",
       "    <tr>\n",
       "      <th>1</th>\n",
       "      <td>2020-02-29</td>\n",
       "      <td>Yunnan</td>\n",
       "      <td>157</td>\n",
       "      <td>174</td>\n",
       "      <td>15.0</td>\n",
       "      <td>2</td>\n",
       "      <td>云南省</td>\n",
       "    </tr>\n",
       "    <tr>\n",
       "      <th>2</th>\n",
       "      <td>2020-02-29</td>\n",
       "      <td>Neimenggu</td>\n",
       "      <td>49</td>\n",
       "      <td>75</td>\n",
       "      <td>26.0</td>\n",
       "      <td>0</td>\n",
       "      <td>内蒙古自治区</td>\n",
       "    </tr>\n",
       "    <tr>\n",
       "      <th>3</th>\n",
       "      <td>2020-02-29</td>\n",
       "      <td>Beijing</td>\n",
       "      <td>271</td>\n",
       "      <td>411</td>\n",
       "      <td>132.0</td>\n",
       "      <td>8</td>\n",
       "      <td>北京市</td>\n",
       "    </tr>\n",
       "    <tr>\n",
       "      <th>4</th>\n",
       "      <td>2020-02-29</td>\n",
       "      <td>Jilin</td>\n",
       "      <td>75</td>\n",
       "      <td>93</td>\n",
       "      <td>17.0</td>\n",
       "      <td>1</td>\n",
       "      <td>吉林省</td>\n",
       "    </tr>\n",
       "  </tbody>\n",
       "</table>\n",
       "</div>"
      ],
      "text/plain": [
       "  updateTime  placeName  curedCount  confirmedCount  currentConfirmedCount  \\\n",
       "0 2020-02-29   Shanghai         287             337                   47.0   \n",
       "1 2020-02-29     Yunnan         157             174                   15.0   \n",
       "2 2020-02-29  Neimenggu          49              75                   26.0   \n",
       "3 2020-02-29    Beijing         271             411                  132.0   \n",
       "4 2020-02-29      Jilin          75              93                   17.0   \n",
       "\n",
       "   deadCount placename  \n",
       "0          3       上海市  \n",
       "1          2       云南省  \n",
       "2          0    内蒙古自治区  \n",
       "3          8       北京市  \n",
       "4          1       吉林省  "
      ]
     },
     "execution_count": 18,
     "metadata": {},
     "output_type": "execute_result"
    }
   ],
   "source": [
    "crossDate =  resortProvinceDate[resortProvinceDate['updateTime'] ==resortProvinceDate['updateTime'].unique()[0]].append(resortForeignDate[resortForeignDate['updateTime'] ==resortForeignDate['updateTime'].unique()[0]],ignore_index=True)\n",
    "crossDate=crossDate.rename(columns={'provinceEnglishName':'placeName','provinceName':'placename'})\n",
    "crossDate.head()\n"
   ]
  },
  {
   "cell_type": "code",
   "execution_count": 16,
   "metadata": {},
   "outputs": [
    {
     "data": {
      "text/html": [
       "<div>\n",
       "<style scoped>\n",
       "    .dataframe tbody tr th:only-of-type {\n",
       "        vertical-align: middle;\n",
       "    }\n",
       "\n",
       "    .dataframe tbody tr th {\n",
       "        vertical-align: top;\n",
       "    }\n",
       "\n",
       "    .dataframe thead th {\n",
       "        text-align: right;\n",
       "    }\n",
       "</style>\n",
       "<table border=\"1\" class=\"dataframe\">\n",
       "  <thead>\n",
       "    <tr style=\"text-align: right;\">\n",
       "      <th></th>\n",
       "      <th>placeName</th>\n",
       "      <th>lat</th>\n",
       "      <th>lng</th>\n",
       "      <th>updateTime</th>\n",
       "      <th>curedCount</th>\n",
       "      <th>confirmedCount</th>\n",
       "      <th>currentConfirmedCount</th>\n",
       "      <th>deadCount</th>\n",
       "      <th>placename</th>\n",
       "    </tr>\n",
       "  </thead>\n",
       "  <tbody>\n",
       "    <tr>\n",
       "      <th>0</th>\n",
       "      <td>Anhui</td>\n",
       "      <td>32.000000</td>\n",
       "      <td>117.000000</td>\n",
       "      <td>2020-02-25</td>\n",
       "      <td>708</td>\n",
       "      <td>989</td>\n",
       "      <td>275.0</td>\n",
       "      <td>6</td>\n",
       "      <td>安徽省</td>\n",
       "    </tr>\n",
       "    <tr>\n",
       "      <th>1</th>\n",
       "      <td>Australia</td>\n",
       "      <td>-24.776109</td>\n",
       "      <td>134.755000</td>\n",
       "      <td>2020-02-25</td>\n",
       "      <td>15</td>\n",
       "      <td>22</td>\n",
       "      <td>7.0</td>\n",
       "      <td>0</td>\n",
       "      <td>澳大利亚</td>\n",
       "    </tr>\n",
       "    <tr>\n",
       "      <th>2</th>\n",
       "      <td>Beijing</td>\n",
       "      <td>39.906217</td>\n",
       "      <td>116.391276</td>\n",
       "      <td>2020-02-25</td>\n",
       "      <td>215</td>\n",
       "      <td>400</td>\n",
       "      <td>181.0</td>\n",
       "      <td>4</td>\n",
       "      <td>北京市</td>\n",
       "    </tr>\n",
       "    <tr>\n",
       "      <th>3</th>\n",
       "      <td>Canada</td>\n",
       "      <td>61.066692</td>\n",
       "      <td>-107.991707</td>\n",
       "      <td>2020-02-25</td>\n",
       "      <td>4</td>\n",
       "      <td>11</td>\n",
       "      <td>7.0</td>\n",
       "      <td>0</td>\n",
       "      <td>加拿大</td>\n",
       "    </tr>\n",
       "    <tr>\n",
       "      <th>4</th>\n",
       "      <td>Chongqing</td>\n",
       "      <td>29.558571</td>\n",
       "      <td>106.549282</td>\n",
       "      <td>2020-02-25</td>\n",
       "      <td>349</td>\n",
       "      <td>576</td>\n",
       "      <td>221.0</td>\n",
       "      <td>6</td>\n",
       "      <td>重庆市</td>\n",
       "    </tr>\n",
       "  </tbody>\n",
       "</table>\n",
       "</div>"
      ],
      "text/plain": [
       "   placeName        lat         lng updateTime  curedCount  confirmedCount  \\\n",
       "0      Anhui  32.000000  117.000000 2020-02-25         708             989   \n",
       "1  Australia -24.776109  134.755000 2020-02-25          15              22   \n",
       "2    Beijing  39.906217  116.391276 2020-02-25         215             400   \n",
       "3     Canada  61.066692 -107.991707 2020-02-25           4              11   \n",
       "4  Chongqing  29.558571  106.549282 2020-02-25         349             576   \n",
       "\n",
       "   currentConfirmedCount  deadCount placename  \n",
       "0                  275.0          6       安徽省  \n",
       "1                    7.0          0      澳大利亚  \n",
       "2                  181.0          4       北京市  \n",
       "3                    7.0          0       加拿大  \n",
       "4                  221.0          6       重庆市  "
      ]
     },
     "execution_count": 16,
     "metadata": {},
     "output_type": "execute_result"
    }
   ],
   "source": [
    "wordMapDate = pd.merge(crossDateList.sort_values(by='placeName'),crossDate.sort_values(by='placeName'),on='placeName')\n",
    "wordMapDate.head()"
   ]
  },
  {
   "cell_type": "code",
   "execution_count": 27,
   "metadata": {},
   "outputs": [],
   "source": [
    "def plotlyWordMap(wordMapDate):\n",
    "    mapbox_access_token='pk.eyJ1IjoieHV0aW5nZmVuZzEiLCJhIjoiY2s3MGF1dmZ6MHduMDNsbXZnZzNpNndmYSJ9.uHSe5THmmSEwpn-VY2iFXg'\n",
    "\n",
    "    fig1 = go.Figure(go.Scattermapbox(\n",
    "        lat=wordMapDate['lat'],\n",
    "        lon=wordMapDate['lng'],\n",
    "        mode='markers',\n",
    "        marker=go.scattermapbox.Marker(\n",
    "            color='#ca261d',\n",
    "            size=wordMapDate['currentConfirmedCount'].tolist(), \n",
    "            sizemin=2,\n",
    "            sizemode='area',\n",
    "            sizeref=2.*max(wordMapDate['currentConfirmedCount'].tolist())/(80.**2),\n",
    "        ),\n",
    "        text=wordMapDate['placename'],\n",
    "        hovertext=['Comfirmed: {}<br>Recovered: {}<br>Death: {}'.format(i, j, k) for i, j, k in zip(wordMapDate['currentConfirmedCount'],\n",
    "                                                                                                    wordMapDate['curedCount'],\n",
    "                                                                                                    wordMapDate['deadCount'])],\n",
    "    \n",
    "        hovertemplate = \"<b>%{text}</b><br><br>\" +\n",
    "                        \"%{hovertext}<br>\" +\n",
    "                        \"<extra></extra>\")\n",
    "    \n",
    "        )\n",
    "    fig1.update_layout(\n",
    "    #    title=dict(\n",
    "    #        text=\"<b>Latest Coronavirus Outbreak Map<b>\",\n",
    "    #        y=0.96, x=0.5, xanchor='center', yanchor='top',\n",
    "    #        font=dict(size=20, color=\"#292929\", family=\"Playfair Display\")\n",
    "    #    ),\n",
    "        plot_bgcolor='#151920',\n",
    "        paper_bgcolor='#cbd2d3',\n",
    "        margin=go.layout.Margin(\n",
    "            l=10,\n",
    "            r=10,\n",
    "            b=10,\n",
    "            t=0,\n",
    "            pad=40\n",
    "        ),\n",
    "        hovermode='closest',\n",
    "        mapbox=go.layout.Mapbox(\n",
    "            accesstoken=mapbox_access_token,\n",
    "            style=\"light\",\n",
    "            bearing=0,\n",
    "            center=go.layout.mapbox.Center(\n",
    "                lat=31.1517252, \n",
    "                lon=112.8783222\n",
    "            ),\n",
    "            pitch=0,\n",
    "            zoom=4\n",
    "        )\n",
    "    )\n",
    "    return fig1 \n",
    "    "
   ]
  },
  {
   "cell_type": "code",
   "execution_count": 28,
   "metadata": {},
   "outputs": [
    {
     "data": {
      "application/vnd.plotly.v1+json": {
       "config": {
        "plotlyServerURL": "https://plot.ly"
       },
       "data": [
        {
         "hovertemplate": "<b>%{text}</b><br><br>%{hovertext}<br><extra></extra>",
         "hovertext": [
          "Comfirmed: 275.0<br>Recovered: 708<br>Death: 6",
          "Comfirmed: 7.0<br>Recovered: 15<br>Death: 0",
          "Comfirmed: 181.0<br>Recovered: 215<br>Death: 4",
          "Comfirmed: 7.0<br>Recovered: 4<br>Death: 0",
          "Comfirmed: 221.0<br>Recovered: 349<br>Death: 6",
          "Comfirmed: 0.0<br>Recovered: 11<br>Death: 1",
          "Comfirmed: 100.0<br>Recovered: 193<br>Death: 1",
          "Comfirmed: 2.0<br>Recovered: 14<br>Death: 0",
          "Comfirmed: 533.0<br>Recovered: 807<br>Death: 7",
          "Comfirmed: 119.0<br>Recovered: 131<br>Death: 2",
          "Comfirmed: 41.0<br>Recovered: 103<br>Death: 2",
          "Comfirmed: 41.0<br>Recovered: 122<br>Death: 5",
          "Comfirmed: 64.0<br>Recovered: 241<br>Death: 6",
          "Comfirmed: 227.0<br>Recovered: 241<br>Death: 12",
          "Comfirmed: 263.0<br>Recovered: 989<br>Death: 19",
          "Comfirmed: 60.0<br>Recovered: 19<br>Death: 2",
          "Comfirmed: 43346.0<br>Recovered: 18877<br>Death: 2563",
          "Comfirmed: 260.0<br>Recovered: 752<br>Death: 4",
          "Comfirmed: 49.0<br>Recovered: 0<br>Death: 12",
          "Comfirmed: 1.0<br>Recovered: 0<br>Death: 0",
          "Comfirmed: 2.0<br>Recovered: 0<br>Death: 0",
          "Comfirmed: 221.0<br>Recovered: 1<br>Death: 7",
          "Comfirmed: 137.0<br>Recovered: 22<br>Death: 1",
          "Comfirmed: 173.0<br>Recovered: 458<br>Death: 0",
          "Comfirmed: 251.0<br>Recovered: 682<br>Death: 1",
          "Comfirmed: 863.0<br>Recovered: 22<br>Death: 8",
          "Comfirmed: 1.0<br>Recovered: 0<br>Death: 0",
          "Comfirmed: 37.0<br>Recovered: 83<br>Death: 1",
          "Comfirmed: 4.0<br>Recovered: 18<br>Death: 0",
          "Comfirmed: 10.0<br>Recovered: 61<br>Death: 0",
          "Comfirmed: 66.0<br>Recovered: 178<br>Death: 1",
          "Comfirmed: 406.0<br>Recovered: 343<br>Death: 6",
          "Comfirmed: 64.0<br>Recovered: 268<br>Death: 3",
          "Comfirmed: 37.0<br>Recovered: 96<br>Death: 0",
          "Comfirmed: 245.0<br>Recovered: 281<br>Death: 3",
          "Comfirmed: 37.0<br>Recovered: 53<br>Death: 0",
          "Comfirmed: 1.0<br>Recovered: 2<br>Death: 0",
          "Comfirmed: 14.0<br>Recovered: 21<br>Death: 0",
          "Comfirmed: 5.0<br>Recovered: 8<br>Death: 0",
          "Comfirmed: 50.0<br>Recovered: 3<br>Death: 0",
          "Comfirmed: 43.0<br>Recovered: 129<br>Death: 2",
          "Comfirmed: 410.0<br>Recovered: 794<br>Death: 1"
         ],
         "lat": [
          32,
          -24.7761086,
          39.906217,
          61.0666922,
          29.5585712,
          46.603353999999996,
          26.5450001,
          51.0834196,
          23.135769399999997,
          24,
          27,
          19.2000001,
          39.0000001,
          48.000004700000005,
          34.0000001,
          22.2793278,
          31.151725199999998,
          27.6662087,
          32.6475314,
          33.0955793,
          31.531311300000002,
          42.6384261,
          36.5748441,
          33.0000001,
          28,
          35.7724185,
          33.875062899999996,
          40.9739116,
          4.5693754,
          37.3095528,
          36,
          36.0000001,
          31.225298499999997,
          37,
          30.500000099999998,
          1.340863,
          39.3262345,
          14.8971921,
          54.702354500000006,
          39.7837304,
          25,
          29.000000099999998
         ],
         "lon": [
          117,
          134.755,
          116.3912757,
          -107.9917071,
          106.5492822,
          1.8883334999999999,
          117.84277800000001,
          10.4234469,
          113.19826880000001,
          109,
          107,
          109.5999999,
          116,
          127.99999199999999,
          113.9999999,
          114.16281310000001,
          112.87832220000001,
          111.74870630000001,
          54.56435160000001,
          44.174977500000004,
          34.8667654,
          12.674297,
          139.2394179,
          119.9999999,
          116,
          127.7965435,
          35.843409,
          122.3263915,
          102.2656823,
          105.9608553,
          109,
          118.9999999,
          121.4890497,
          112,
          102.4999999,
          103.8303918,
          -4.838064900000001,
          100.83273,
          -3.2765752999999997,
          -100.4458825,
          102,
          119.9999999
         ],
         "marker": {
          "color": "#ca261d",
          "size": [
           275,
           7,
           181,
           7,
           221,
           0,
           100,
           2,
           533,
           119,
           41,
           41,
           64,
           227,
           263,
           60,
           43346,
           260,
           49,
           1,
           2,
           221,
           137,
           173,
           251,
           863,
           1,
           37,
           4,
           10,
           66,
           406,
           64,
           37,
           245,
           37,
           1,
           14,
           5,
           50,
           43,
           410
          ],
          "sizemin": 2,
          "sizemode": "area",
          "sizeref": 13.545625
         },
         "mode": "markers",
         "text": [
          "安徽省",
          "澳大利亚",
          "北京市",
          "加拿大",
          "重庆市",
          "法国",
          "福建省",
          "德国",
          "广东省",
          "广西壮族自治区",
          "贵州省",
          "海南省",
          "河北省",
          "黑龙江省",
          "河南省",
          "香港",
          "湖北省",
          "湖南省",
          "伊朗",
          "伊拉克",
          "以色列",
          "意大利",
          "日本",
          "江苏省",
          "江西省",
          "韩国",
          "黎巴嫩",
          "辽宁省",
          "马来西亚",
          "宁夏回族自治区",
          "陕西省",
          "山东省",
          "上海市",
          "山西省",
          "四川省",
          "新加坡",
          "西班牙",
          "泰国",
          "英国",
          "美国",
          "云南省",
          "浙江省"
         ],
         "type": "scattermapbox"
        }
       ],
       "layout": {
        "hovermode": "closest",
        "mapbox": {
         "accesstoken": "pk.eyJ1IjoieHV0aW5nZmVuZzEiLCJhIjoiY2s3MGF1dmZ6MHduMDNsbXZnZzNpNndmYSJ9.uHSe5THmmSEwpn-VY2iFXg",
         "bearing": 0,
         "center": {
          "lat": 31.1517252,
          "lon": 112.8783222
         },
         "pitch": 0,
         "style": "light",
         "zoom": 4
        },
        "margin": {
         "b": 10,
         "l": 10,
         "pad": 40,
         "r": 10,
         "t": 0
        },
        "paper_bgcolor": "#cbd2d3",
        "plot_bgcolor": "#151920",
        "template": {
         "data": {
          "bar": [
           {
            "error_x": {
             "color": "#2a3f5f"
            },
            "error_y": {
             "color": "#2a3f5f"
            },
            "marker": {
             "line": {
              "color": "#E5ECF6",
              "width": 0.5
             }
            },
            "type": "bar"
           }
          ],
          "barpolar": [
           {
            "marker": {
             "line": {
              "color": "#E5ECF6",
              "width": 0.5
             }
            },
            "type": "barpolar"
           }
          ],
          "carpet": [
           {
            "aaxis": {
             "endlinecolor": "#2a3f5f",
             "gridcolor": "white",
             "linecolor": "white",
             "minorgridcolor": "white",
             "startlinecolor": "#2a3f5f"
            },
            "baxis": {
             "endlinecolor": "#2a3f5f",
             "gridcolor": "white",
             "linecolor": "white",
             "minorgridcolor": "white",
             "startlinecolor": "#2a3f5f"
            },
            "type": "carpet"
           }
          ],
          "choropleth": [
           {
            "colorbar": {
             "outlinewidth": 0,
             "ticks": ""
            },
            "type": "choropleth"
           }
          ],
          "contour": [
           {
            "colorbar": {
             "outlinewidth": 0,
             "ticks": ""
            },
            "colorscale": [
             [
              0,
              "#0d0887"
             ],
             [
              0.1111111111111111,
              "#46039f"
             ],
             [
              0.2222222222222222,
              "#7201a8"
             ],
             [
              0.3333333333333333,
              "#9c179e"
             ],
             [
              0.4444444444444444,
              "#bd3786"
             ],
             [
              0.5555555555555556,
              "#d8576b"
             ],
             [
              0.6666666666666666,
              "#ed7953"
             ],
             [
              0.7777777777777778,
              "#fb9f3a"
             ],
             [
              0.8888888888888888,
              "#fdca26"
             ],
             [
              1,
              "#f0f921"
             ]
            ],
            "type": "contour"
           }
          ],
          "contourcarpet": [
           {
            "colorbar": {
             "outlinewidth": 0,
             "ticks": ""
            },
            "type": "contourcarpet"
           }
          ],
          "heatmap": [
           {
            "colorbar": {
             "outlinewidth": 0,
             "ticks": ""
            },
            "colorscale": [
             [
              0,
              "#0d0887"
             ],
             [
              0.1111111111111111,
              "#46039f"
             ],
             [
              0.2222222222222222,
              "#7201a8"
             ],
             [
              0.3333333333333333,
              "#9c179e"
             ],
             [
              0.4444444444444444,
              "#bd3786"
             ],
             [
              0.5555555555555556,
              "#d8576b"
             ],
             [
              0.6666666666666666,
              "#ed7953"
             ],
             [
              0.7777777777777778,
              "#fb9f3a"
             ],
             [
              0.8888888888888888,
              "#fdca26"
             ],
             [
              1,
              "#f0f921"
             ]
            ],
            "type": "heatmap"
           }
          ],
          "heatmapgl": [
           {
            "colorbar": {
             "outlinewidth": 0,
             "ticks": ""
            },
            "colorscale": [
             [
              0,
              "#0d0887"
             ],
             [
              0.1111111111111111,
              "#46039f"
             ],
             [
              0.2222222222222222,
              "#7201a8"
             ],
             [
              0.3333333333333333,
              "#9c179e"
             ],
             [
              0.4444444444444444,
              "#bd3786"
             ],
             [
              0.5555555555555556,
              "#d8576b"
             ],
             [
              0.6666666666666666,
              "#ed7953"
             ],
             [
              0.7777777777777778,
              "#fb9f3a"
             ],
             [
              0.8888888888888888,
              "#fdca26"
             ],
             [
              1,
              "#f0f921"
             ]
            ],
            "type": "heatmapgl"
           }
          ],
          "histogram": [
           {
            "marker": {
             "colorbar": {
              "outlinewidth": 0,
              "ticks": ""
             }
            },
            "type": "histogram"
           }
          ],
          "histogram2d": [
           {
            "colorbar": {
             "outlinewidth": 0,
             "ticks": ""
            },
            "colorscale": [
             [
              0,
              "#0d0887"
             ],
             [
              0.1111111111111111,
              "#46039f"
             ],
             [
              0.2222222222222222,
              "#7201a8"
             ],
             [
              0.3333333333333333,
              "#9c179e"
             ],
             [
              0.4444444444444444,
              "#bd3786"
             ],
             [
              0.5555555555555556,
              "#d8576b"
             ],
             [
              0.6666666666666666,
              "#ed7953"
             ],
             [
              0.7777777777777778,
              "#fb9f3a"
             ],
             [
              0.8888888888888888,
              "#fdca26"
             ],
             [
              1,
              "#f0f921"
             ]
            ],
            "type": "histogram2d"
           }
          ],
          "histogram2dcontour": [
           {
            "colorbar": {
             "outlinewidth": 0,
             "ticks": ""
            },
            "colorscale": [
             [
              0,
              "#0d0887"
             ],
             [
              0.1111111111111111,
              "#46039f"
             ],
             [
              0.2222222222222222,
              "#7201a8"
             ],
             [
              0.3333333333333333,
              "#9c179e"
             ],
             [
              0.4444444444444444,
              "#bd3786"
             ],
             [
              0.5555555555555556,
              "#d8576b"
             ],
             [
              0.6666666666666666,
              "#ed7953"
             ],
             [
              0.7777777777777778,
              "#fb9f3a"
             ],
             [
              0.8888888888888888,
              "#fdca26"
             ],
             [
              1,
              "#f0f921"
             ]
            ],
            "type": "histogram2dcontour"
           }
          ],
          "mesh3d": [
           {
            "colorbar": {
             "outlinewidth": 0,
             "ticks": ""
            },
            "type": "mesh3d"
           }
          ],
          "parcoords": [
           {
            "line": {
             "colorbar": {
              "outlinewidth": 0,
              "ticks": ""
             }
            },
            "type": "parcoords"
           }
          ],
          "pie": [
           {
            "automargin": true,
            "type": "pie"
           }
          ],
          "scatter": [
           {
            "marker": {
             "colorbar": {
              "outlinewidth": 0,
              "ticks": ""
             }
            },
            "type": "scatter"
           }
          ],
          "scatter3d": [
           {
            "line": {
             "colorbar": {
              "outlinewidth": 0,
              "ticks": ""
             }
            },
            "marker": {
             "colorbar": {
              "outlinewidth": 0,
              "ticks": ""
             }
            },
            "type": "scatter3d"
           }
          ],
          "scattercarpet": [
           {
            "marker": {
             "colorbar": {
              "outlinewidth": 0,
              "ticks": ""
             }
            },
            "type": "scattercarpet"
           }
          ],
          "scattergeo": [
           {
            "marker": {
             "colorbar": {
              "outlinewidth": 0,
              "ticks": ""
             }
            },
            "type": "scattergeo"
           }
          ],
          "scattergl": [
           {
            "marker": {
             "colorbar": {
              "outlinewidth": 0,
              "ticks": ""
             }
            },
            "type": "scattergl"
           }
          ],
          "scattermapbox": [
           {
            "marker": {
             "colorbar": {
              "outlinewidth": 0,
              "ticks": ""
             }
            },
            "type": "scattermapbox"
           }
          ],
          "scatterpolar": [
           {
            "marker": {
             "colorbar": {
              "outlinewidth": 0,
              "ticks": ""
             }
            },
            "type": "scatterpolar"
           }
          ],
          "scatterpolargl": [
           {
            "marker": {
             "colorbar": {
              "outlinewidth": 0,
              "ticks": ""
             }
            },
            "type": "scatterpolargl"
           }
          ],
          "scatterternary": [
           {
            "marker": {
             "colorbar": {
              "outlinewidth": 0,
              "ticks": ""
             }
            },
            "type": "scatterternary"
           }
          ],
          "surface": [
           {
            "colorbar": {
             "outlinewidth": 0,
             "ticks": ""
            },
            "colorscale": [
             [
              0,
              "#0d0887"
             ],
             [
              0.1111111111111111,
              "#46039f"
             ],
             [
              0.2222222222222222,
              "#7201a8"
             ],
             [
              0.3333333333333333,
              "#9c179e"
             ],
             [
              0.4444444444444444,
              "#bd3786"
             ],
             [
              0.5555555555555556,
              "#d8576b"
             ],
             [
              0.6666666666666666,
              "#ed7953"
             ],
             [
              0.7777777777777778,
              "#fb9f3a"
             ],
             [
              0.8888888888888888,
              "#fdca26"
             ],
             [
              1,
              "#f0f921"
             ]
            ],
            "type": "surface"
           }
          ],
          "table": [
           {
            "cells": {
             "fill": {
              "color": "#EBF0F8"
             },
             "line": {
              "color": "white"
             }
            },
            "header": {
             "fill": {
              "color": "#C8D4E3"
             },
             "line": {
              "color": "white"
             }
            },
            "type": "table"
           }
          ]
         },
         "layout": {
          "annotationdefaults": {
           "arrowcolor": "#2a3f5f",
           "arrowhead": 0,
           "arrowwidth": 1
          },
          "coloraxis": {
           "colorbar": {
            "outlinewidth": 0,
            "ticks": ""
           }
          },
          "colorscale": {
           "diverging": [
            [
             0,
             "#8e0152"
            ],
            [
             0.1,
             "#c51b7d"
            ],
            [
             0.2,
             "#de77ae"
            ],
            [
             0.3,
             "#f1b6da"
            ],
            [
             0.4,
             "#fde0ef"
            ],
            [
             0.5,
             "#f7f7f7"
            ],
            [
             0.6,
             "#e6f5d0"
            ],
            [
             0.7,
             "#b8e186"
            ],
            [
             0.8,
             "#7fbc41"
            ],
            [
             0.9,
             "#4d9221"
            ],
            [
             1,
             "#276419"
            ]
           ],
           "sequential": [
            [
             0,
             "#0d0887"
            ],
            [
             0.1111111111111111,
             "#46039f"
            ],
            [
             0.2222222222222222,
             "#7201a8"
            ],
            [
             0.3333333333333333,
             "#9c179e"
            ],
            [
             0.4444444444444444,
             "#bd3786"
            ],
            [
             0.5555555555555556,
             "#d8576b"
            ],
            [
             0.6666666666666666,
             "#ed7953"
            ],
            [
             0.7777777777777778,
             "#fb9f3a"
            ],
            [
             0.8888888888888888,
             "#fdca26"
            ],
            [
             1,
             "#f0f921"
            ]
           ],
           "sequentialminus": [
            [
             0,
             "#0d0887"
            ],
            [
             0.1111111111111111,
             "#46039f"
            ],
            [
             0.2222222222222222,
             "#7201a8"
            ],
            [
             0.3333333333333333,
             "#9c179e"
            ],
            [
             0.4444444444444444,
             "#bd3786"
            ],
            [
             0.5555555555555556,
             "#d8576b"
            ],
            [
             0.6666666666666666,
             "#ed7953"
            ],
            [
             0.7777777777777778,
             "#fb9f3a"
            ],
            [
             0.8888888888888888,
             "#fdca26"
            ],
            [
             1,
             "#f0f921"
            ]
           ]
          },
          "colorway": [
           "#636efa",
           "#EF553B",
           "#00cc96",
           "#ab63fa",
           "#FFA15A",
           "#19d3f3",
           "#FF6692",
           "#B6E880",
           "#FF97FF",
           "#FECB52"
          ],
          "font": {
           "color": "#2a3f5f"
          },
          "geo": {
           "bgcolor": "white",
           "lakecolor": "white",
           "landcolor": "#E5ECF6",
           "showlakes": true,
           "showland": true,
           "subunitcolor": "white"
          },
          "hoverlabel": {
           "align": "left"
          },
          "hovermode": "closest",
          "mapbox": {
           "style": "light"
          },
          "paper_bgcolor": "white",
          "plot_bgcolor": "#E5ECF6",
          "polar": {
           "angularaxis": {
            "gridcolor": "white",
            "linecolor": "white",
            "ticks": ""
           },
           "bgcolor": "#E5ECF6",
           "radialaxis": {
            "gridcolor": "white",
            "linecolor": "white",
            "ticks": ""
           }
          },
          "scene": {
           "xaxis": {
            "backgroundcolor": "#E5ECF6",
            "gridcolor": "white",
            "gridwidth": 2,
            "linecolor": "white",
            "showbackground": true,
            "ticks": "",
            "zerolinecolor": "white"
           },
           "yaxis": {
            "backgroundcolor": "#E5ECF6",
            "gridcolor": "white",
            "gridwidth": 2,
            "linecolor": "white",
            "showbackground": true,
            "ticks": "",
            "zerolinecolor": "white"
           },
           "zaxis": {
            "backgroundcolor": "#E5ECF6",
            "gridcolor": "white",
            "gridwidth": 2,
            "linecolor": "white",
            "showbackground": true,
            "ticks": "",
            "zerolinecolor": "white"
           }
          },
          "shapedefaults": {
           "line": {
            "color": "#2a3f5f"
           }
          },
          "ternary": {
           "aaxis": {
            "gridcolor": "white",
            "linecolor": "white",
            "ticks": ""
           },
           "baxis": {
            "gridcolor": "white",
            "linecolor": "white",
            "ticks": ""
           },
           "bgcolor": "#E5ECF6",
           "caxis": {
            "gridcolor": "white",
            "linecolor": "white",
            "ticks": ""
           }
          },
          "title": {
           "x": 0.05
          },
          "xaxis": {
           "automargin": true,
           "gridcolor": "white",
           "linecolor": "white",
           "ticks": "",
           "title": {
            "standoff": 15
           },
           "zerolinecolor": "white",
           "zerolinewidth": 2
          },
          "yaxis": {
           "automargin": true,
           "gridcolor": "white",
           "linecolor": "white",
           "ticks": "",
           "title": {
            "standoff": 15
           },
           "zerolinecolor": "white",
           "zerolinewidth": 2
          }
         }
        }
       }
      },
      "text/html": [
       "<div>\n",
       "        \n",
       "        \n",
       "            <div id=\"41fbe35b-4a2e-4957-ad10-ea56b9f8213f\" class=\"plotly-graph-div\" style=\"height:525px; width:100%;\"></div>\n",
       "            <script type=\"text/javascript\">\n",
       "                require([\"plotly\"], function(Plotly) {\n",
       "                    window.PLOTLYENV=window.PLOTLYENV || {};\n",
       "                    \n",
       "                if (document.getElementById(\"41fbe35b-4a2e-4957-ad10-ea56b9f8213f\")) {\n",
       "                    Plotly.newPlot(\n",
       "                        '41fbe35b-4a2e-4957-ad10-ea56b9f8213f',\n",
       "                        [{\"hovertemplate\": \"<b>%{text}</b><br><br>%{hovertext}<br><extra></extra>\", \"hovertext\": [\"Comfirmed: 275.0<br>Recovered: 708<br>Death: 6\", \"Comfirmed: 7.0<br>Recovered: 15<br>Death: 0\", \"Comfirmed: 181.0<br>Recovered: 215<br>Death: 4\", \"Comfirmed: 7.0<br>Recovered: 4<br>Death: 0\", \"Comfirmed: 221.0<br>Recovered: 349<br>Death: 6\", \"Comfirmed: 0.0<br>Recovered: 11<br>Death: 1\", \"Comfirmed: 100.0<br>Recovered: 193<br>Death: 1\", \"Comfirmed: 2.0<br>Recovered: 14<br>Death: 0\", \"Comfirmed: 533.0<br>Recovered: 807<br>Death: 7\", \"Comfirmed: 119.0<br>Recovered: 131<br>Death: 2\", \"Comfirmed: 41.0<br>Recovered: 103<br>Death: 2\", \"Comfirmed: 41.0<br>Recovered: 122<br>Death: 5\", \"Comfirmed: 64.0<br>Recovered: 241<br>Death: 6\", \"Comfirmed: 227.0<br>Recovered: 241<br>Death: 12\", \"Comfirmed: 263.0<br>Recovered: 989<br>Death: 19\", \"Comfirmed: 60.0<br>Recovered: 19<br>Death: 2\", \"Comfirmed: 43346.0<br>Recovered: 18877<br>Death: 2563\", \"Comfirmed: 260.0<br>Recovered: 752<br>Death: 4\", \"Comfirmed: 49.0<br>Recovered: 0<br>Death: 12\", \"Comfirmed: 1.0<br>Recovered: 0<br>Death: 0\", \"Comfirmed: 2.0<br>Recovered: 0<br>Death: 0\", \"Comfirmed: 221.0<br>Recovered: 1<br>Death: 7\", \"Comfirmed: 137.0<br>Recovered: 22<br>Death: 1\", \"Comfirmed: 173.0<br>Recovered: 458<br>Death: 0\", \"Comfirmed: 251.0<br>Recovered: 682<br>Death: 1\", \"Comfirmed: 863.0<br>Recovered: 22<br>Death: 8\", \"Comfirmed: 1.0<br>Recovered: 0<br>Death: 0\", \"Comfirmed: 37.0<br>Recovered: 83<br>Death: 1\", \"Comfirmed: 4.0<br>Recovered: 18<br>Death: 0\", \"Comfirmed: 10.0<br>Recovered: 61<br>Death: 0\", \"Comfirmed: 66.0<br>Recovered: 178<br>Death: 1\", \"Comfirmed: 406.0<br>Recovered: 343<br>Death: 6\", \"Comfirmed: 64.0<br>Recovered: 268<br>Death: 3\", \"Comfirmed: 37.0<br>Recovered: 96<br>Death: 0\", \"Comfirmed: 245.0<br>Recovered: 281<br>Death: 3\", \"Comfirmed: 37.0<br>Recovered: 53<br>Death: 0\", \"Comfirmed: 1.0<br>Recovered: 2<br>Death: 0\", \"Comfirmed: 14.0<br>Recovered: 21<br>Death: 0\", \"Comfirmed: 5.0<br>Recovered: 8<br>Death: 0\", \"Comfirmed: 50.0<br>Recovered: 3<br>Death: 0\", \"Comfirmed: 43.0<br>Recovered: 129<br>Death: 2\", \"Comfirmed: 410.0<br>Recovered: 794<br>Death: 1\"], \"lat\": [32.0, -24.7761086, 39.906217, 61.0666922, 29.5585712, 46.603353999999996, 26.5450001, 51.0834196, 23.135769399999997, 24.0, 27.0, 19.2000001, 39.0000001, 48.000004700000005, 34.0000001, 22.2793278, 31.151725199999998, 27.6662087, 32.6475314, 33.0955793, 31.531311300000002, 42.6384261, 36.5748441, 33.0000001, 28.0, 35.7724185, 33.875062899999996, 40.9739116, 4.5693754, 37.3095528, 36.0, 36.0000001, 31.225298499999997, 37.0, 30.500000099999998, 1.340863, 39.3262345, 14.8971921, 54.702354500000006, 39.7837304, 25.0, 29.000000099999998], \"lon\": [117.0, 134.755, 116.3912757, -107.9917071, 106.5492822, 1.8883334999999999, 117.84277800000001, 10.4234469, 113.19826880000001, 109.0, 107.0, 109.5999999, 116.0, 127.99999199999999, 113.9999999, 114.16281310000001, 112.87832220000001, 111.74870630000001, 54.56435160000001, 44.174977500000004, 34.8667654, 12.674297, 139.2394179, 119.9999999, 116.0, 127.7965435, 35.843409, 122.3263915, 102.2656823, 105.9608553, 109.0, 118.9999999, 121.4890497, 112.0, 102.4999999, 103.8303918, -4.838064900000001, 100.83273, -3.2765752999999997, -100.4458825, 102.0, 119.9999999], \"marker\": {\"color\": \"#ca261d\", \"size\": [275.0, 7.0, 181.0, 7.0, 221.0, 0.0, 100.0, 2.0, 533.0, 119.0, 41.0, 41.0, 64.0, 227.0, 263.0, 60.0, 43346.0, 260.0, 49.0, 1.0, 2.0, 221.0, 137.0, 173.0, 251.0, 863.0, 1.0, 37.0, 4.0, 10.0, 66.0, 406.0, 64.0, 37.0, 245.0, 37.0, 1.0, 14.0, 5.0, 50.0, 43.0, 410.0], \"sizemin\": 2, \"sizemode\": \"area\", \"sizeref\": 13.545625}, \"mode\": \"markers\", \"text\": [\"\\u5b89\\u5fbd\\u7701\", \"\\u6fb3\\u5927\\u5229\\u4e9a\", \"\\u5317\\u4eac\\u5e02\", \"\\u52a0\\u62ff\\u5927\", \"\\u91cd\\u5e86\\u5e02\", \"\\u6cd5\\u56fd\", \"\\u798f\\u5efa\\u7701\", \"\\u5fb7\\u56fd\", \"\\u5e7f\\u4e1c\\u7701\", \"\\u5e7f\\u897f\\u58ee\\u65cf\\u81ea\\u6cbb\\u533a\", \"\\u8d35\\u5dde\\u7701\", \"\\u6d77\\u5357\\u7701\", \"\\u6cb3\\u5317\\u7701\", \"\\u9ed1\\u9f99\\u6c5f\\u7701\", \"\\u6cb3\\u5357\\u7701\", \"\\u9999\\u6e2f\", \"\\u6e56\\u5317\\u7701\", \"\\u6e56\\u5357\\u7701\", \"\\u4f0a\\u6717\", \"\\u4f0a\\u62c9\\u514b\", \"\\u4ee5\\u8272\\u5217\", \"\\u610f\\u5927\\u5229\", \"\\u65e5\\u672c\", \"\\u6c5f\\u82cf\\u7701\", \"\\u6c5f\\u897f\\u7701\", \"\\u97e9\\u56fd\", \"\\u9ece\\u5df4\\u5ae9\", \"\\u8fbd\\u5b81\\u7701\", \"\\u9a6c\\u6765\\u897f\\u4e9a\", \"\\u5b81\\u590f\\u56de\\u65cf\\u81ea\\u6cbb\\u533a\", \"\\u9655\\u897f\\u7701\", \"\\u5c71\\u4e1c\\u7701\", \"\\u4e0a\\u6d77\\u5e02\", \"\\u5c71\\u897f\\u7701\", \"\\u56db\\u5ddd\\u7701\", \"\\u65b0\\u52a0\\u5761\", \"\\u897f\\u73ed\\u7259\", \"\\u6cf0\\u56fd\", \"\\u82f1\\u56fd\", \"\\u7f8e\\u56fd\", \"\\u4e91\\u5357\\u7701\", \"\\u6d59\\u6c5f\\u7701\"], \"type\": \"scattermapbox\"}],\n",
       "                        {\"hovermode\": \"closest\", \"mapbox\": {\"accesstoken\": \"pk.eyJ1IjoieHV0aW5nZmVuZzEiLCJhIjoiY2s3MGF1dmZ6MHduMDNsbXZnZzNpNndmYSJ9.uHSe5THmmSEwpn-VY2iFXg\", \"bearing\": 0, \"center\": {\"lat\": 31.1517252, \"lon\": 112.8783222}, \"pitch\": 0, \"style\": \"light\", \"zoom\": 4}, \"margin\": {\"b\": 10, \"l\": 10, \"pad\": 40, \"r\": 10, \"t\": 0}, \"paper_bgcolor\": \"#cbd2d3\", \"plot_bgcolor\": \"#151920\", \"template\": {\"data\": {\"bar\": [{\"error_x\": {\"color\": \"#2a3f5f\"}, \"error_y\": {\"color\": \"#2a3f5f\"}, \"marker\": {\"line\": {\"color\": \"#E5ECF6\", \"width\": 0.5}}, \"type\": \"bar\"}], \"barpolar\": [{\"marker\": {\"line\": {\"color\": \"#E5ECF6\", \"width\": 0.5}}, \"type\": \"barpolar\"}], \"carpet\": [{\"aaxis\": {\"endlinecolor\": \"#2a3f5f\", \"gridcolor\": \"white\", \"linecolor\": \"white\", \"minorgridcolor\": \"white\", \"startlinecolor\": \"#2a3f5f\"}, \"baxis\": {\"endlinecolor\": \"#2a3f5f\", \"gridcolor\": \"white\", \"linecolor\": \"white\", \"minorgridcolor\": \"white\", \"startlinecolor\": \"#2a3f5f\"}, \"type\": \"carpet\"}], \"choropleth\": [{\"colorbar\": {\"outlinewidth\": 0, \"ticks\": \"\"}, \"type\": \"choropleth\"}], \"contour\": [{\"colorbar\": {\"outlinewidth\": 0, \"ticks\": \"\"}, \"colorscale\": [[0.0, \"#0d0887\"], [0.1111111111111111, \"#46039f\"], [0.2222222222222222, \"#7201a8\"], [0.3333333333333333, \"#9c179e\"], [0.4444444444444444, \"#bd3786\"], [0.5555555555555556, \"#d8576b\"], [0.6666666666666666, \"#ed7953\"], [0.7777777777777778, \"#fb9f3a\"], [0.8888888888888888, \"#fdca26\"], [1.0, \"#f0f921\"]], \"type\": \"contour\"}], \"contourcarpet\": [{\"colorbar\": {\"outlinewidth\": 0, \"ticks\": \"\"}, \"type\": \"contourcarpet\"}], \"heatmap\": [{\"colorbar\": {\"outlinewidth\": 0, \"ticks\": \"\"}, \"colorscale\": [[0.0, \"#0d0887\"], [0.1111111111111111, \"#46039f\"], [0.2222222222222222, \"#7201a8\"], [0.3333333333333333, \"#9c179e\"], [0.4444444444444444, \"#bd3786\"], [0.5555555555555556, \"#d8576b\"], [0.6666666666666666, \"#ed7953\"], [0.7777777777777778, \"#fb9f3a\"], [0.8888888888888888, \"#fdca26\"], [1.0, \"#f0f921\"]], \"type\": \"heatmap\"}], \"heatmapgl\": [{\"colorbar\": {\"outlinewidth\": 0, \"ticks\": \"\"}, \"colorscale\": [[0.0, \"#0d0887\"], [0.1111111111111111, \"#46039f\"], [0.2222222222222222, \"#7201a8\"], [0.3333333333333333, \"#9c179e\"], [0.4444444444444444, \"#bd3786\"], [0.5555555555555556, \"#d8576b\"], [0.6666666666666666, \"#ed7953\"], [0.7777777777777778, \"#fb9f3a\"], [0.8888888888888888, \"#fdca26\"], [1.0, \"#f0f921\"]], \"type\": \"heatmapgl\"}], \"histogram\": [{\"marker\": {\"colorbar\": {\"outlinewidth\": 0, \"ticks\": \"\"}}, \"type\": \"histogram\"}], \"histogram2d\": [{\"colorbar\": {\"outlinewidth\": 0, \"ticks\": \"\"}, \"colorscale\": [[0.0, \"#0d0887\"], [0.1111111111111111, \"#46039f\"], [0.2222222222222222, \"#7201a8\"], [0.3333333333333333, \"#9c179e\"], [0.4444444444444444, \"#bd3786\"], [0.5555555555555556, \"#d8576b\"], [0.6666666666666666, \"#ed7953\"], [0.7777777777777778, \"#fb9f3a\"], [0.8888888888888888, \"#fdca26\"], [1.0, \"#f0f921\"]], \"type\": \"histogram2d\"}], \"histogram2dcontour\": [{\"colorbar\": {\"outlinewidth\": 0, \"ticks\": \"\"}, \"colorscale\": [[0.0, \"#0d0887\"], [0.1111111111111111, \"#46039f\"], [0.2222222222222222, \"#7201a8\"], [0.3333333333333333, \"#9c179e\"], [0.4444444444444444, \"#bd3786\"], [0.5555555555555556, \"#d8576b\"], [0.6666666666666666, \"#ed7953\"], [0.7777777777777778, \"#fb9f3a\"], [0.8888888888888888, \"#fdca26\"], [1.0, \"#f0f921\"]], \"type\": \"histogram2dcontour\"}], \"mesh3d\": [{\"colorbar\": {\"outlinewidth\": 0, \"ticks\": \"\"}, \"type\": \"mesh3d\"}], \"parcoords\": [{\"line\": {\"colorbar\": {\"outlinewidth\": 0, \"ticks\": \"\"}}, \"type\": \"parcoords\"}], \"pie\": [{\"automargin\": true, \"type\": \"pie\"}], \"scatter\": [{\"marker\": {\"colorbar\": {\"outlinewidth\": 0, \"ticks\": \"\"}}, \"type\": \"scatter\"}], \"scatter3d\": [{\"line\": {\"colorbar\": {\"outlinewidth\": 0, \"ticks\": \"\"}}, \"marker\": {\"colorbar\": {\"outlinewidth\": 0, \"ticks\": \"\"}}, \"type\": \"scatter3d\"}], \"scattercarpet\": [{\"marker\": {\"colorbar\": {\"outlinewidth\": 0, \"ticks\": \"\"}}, \"type\": \"scattercarpet\"}], \"scattergeo\": [{\"marker\": {\"colorbar\": {\"outlinewidth\": 0, \"ticks\": \"\"}}, \"type\": \"scattergeo\"}], \"scattergl\": [{\"marker\": {\"colorbar\": {\"outlinewidth\": 0, \"ticks\": \"\"}}, \"type\": \"scattergl\"}], \"scattermapbox\": [{\"marker\": {\"colorbar\": {\"outlinewidth\": 0, \"ticks\": \"\"}}, \"type\": \"scattermapbox\"}], \"scatterpolar\": [{\"marker\": {\"colorbar\": {\"outlinewidth\": 0, \"ticks\": \"\"}}, \"type\": \"scatterpolar\"}], \"scatterpolargl\": [{\"marker\": {\"colorbar\": {\"outlinewidth\": 0, \"ticks\": \"\"}}, \"type\": \"scatterpolargl\"}], \"scatterternary\": [{\"marker\": {\"colorbar\": {\"outlinewidth\": 0, \"ticks\": \"\"}}, \"type\": \"scatterternary\"}], \"surface\": [{\"colorbar\": {\"outlinewidth\": 0, \"ticks\": \"\"}, \"colorscale\": [[0.0, \"#0d0887\"], [0.1111111111111111, \"#46039f\"], [0.2222222222222222, \"#7201a8\"], [0.3333333333333333, \"#9c179e\"], [0.4444444444444444, \"#bd3786\"], [0.5555555555555556, \"#d8576b\"], [0.6666666666666666, \"#ed7953\"], [0.7777777777777778, \"#fb9f3a\"], [0.8888888888888888, \"#fdca26\"], [1.0, \"#f0f921\"]], \"type\": \"surface\"}], \"table\": [{\"cells\": {\"fill\": {\"color\": \"#EBF0F8\"}, \"line\": {\"color\": \"white\"}}, \"header\": {\"fill\": {\"color\": \"#C8D4E3\"}, \"line\": {\"color\": \"white\"}}, \"type\": \"table\"}]}, \"layout\": {\"annotationdefaults\": {\"arrowcolor\": \"#2a3f5f\", \"arrowhead\": 0, \"arrowwidth\": 1}, \"coloraxis\": {\"colorbar\": {\"outlinewidth\": 0, \"ticks\": \"\"}}, \"colorscale\": {\"diverging\": [[0, \"#8e0152\"], [0.1, \"#c51b7d\"], [0.2, \"#de77ae\"], [0.3, \"#f1b6da\"], [0.4, \"#fde0ef\"], [0.5, \"#f7f7f7\"], [0.6, \"#e6f5d0\"], [0.7, \"#b8e186\"], [0.8, \"#7fbc41\"], [0.9, \"#4d9221\"], [1, \"#276419\"]], \"sequential\": [[0.0, \"#0d0887\"], [0.1111111111111111, \"#46039f\"], [0.2222222222222222, \"#7201a8\"], [0.3333333333333333, \"#9c179e\"], [0.4444444444444444, \"#bd3786\"], [0.5555555555555556, \"#d8576b\"], [0.6666666666666666, \"#ed7953\"], [0.7777777777777778, \"#fb9f3a\"], [0.8888888888888888, \"#fdca26\"], [1.0, \"#f0f921\"]], \"sequentialminus\": [[0.0, \"#0d0887\"], [0.1111111111111111, \"#46039f\"], [0.2222222222222222, \"#7201a8\"], [0.3333333333333333, \"#9c179e\"], [0.4444444444444444, \"#bd3786\"], [0.5555555555555556, \"#d8576b\"], [0.6666666666666666, \"#ed7953\"], [0.7777777777777778, \"#fb9f3a\"], [0.8888888888888888, \"#fdca26\"], [1.0, \"#f0f921\"]]}, \"colorway\": [\"#636efa\", \"#EF553B\", \"#00cc96\", \"#ab63fa\", \"#FFA15A\", \"#19d3f3\", \"#FF6692\", \"#B6E880\", \"#FF97FF\", \"#FECB52\"], \"font\": {\"color\": \"#2a3f5f\"}, \"geo\": {\"bgcolor\": \"white\", \"lakecolor\": \"white\", \"landcolor\": \"#E5ECF6\", \"showlakes\": true, \"showland\": true, \"subunitcolor\": \"white\"}, \"hoverlabel\": {\"align\": \"left\"}, \"hovermode\": \"closest\", \"mapbox\": {\"style\": \"light\"}, \"paper_bgcolor\": \"white\", \"plot_bgcolor\": \"#E5ECF6\", \"polar\": {\"angularaxis\": {\"gridcolor\": \"white\", \"linecolor\": \"white\", \"ticks\": \"\"}, \"bgcolor\": \"#E5ECF6\", \"radialaxis\": {\"gridcolor\": \"white\", \"linecolor\": \"white\", \"ticks\": \"\"}}, \"scene\": {\"xaxis\": {\"backgroundcolor\": \"#E5ECF6\", \"gridcolor\": \"white\", \"gridwidth\": 2, \"linecolor\": \"white\", \"showbackground\": true, \"ticks\": \"\", \"zerolinecolor\": \"white\"}, \"yaxis\": {\"backgroundcolor\": \"#E5ECF6\", \"gridcolor\": \"white\", \"gridwidth\": 2, \"linecolor\": \"white\", \"showbackground\": true, \"ticks\": \"\", \"zerolinecolor\": \"white\"}, \"zaxis\": {\"backgroundcolor\": \"#E5ECF6\", \"gridcolor\": \"white\", \"gridwidth\": 2, \"linecolor\": \"white\", \"showbackground\": true, \"ticks\": \"\", \"zerolinecolor\": \"white\"}}, \"shapedefaults\": {\"line\": {\"color\": \"#2a3f5f\"}}, \"ternary\": {\"aaxis\": {\"gridcolor\": \"white\", \"linecolor\": \"white\", \"ticks\": \"\"}, \"baxis\": {\"gridcolor\": \"white\", \"linecolor\": \"white\", \"ticks\": \"\"}, \"bgcolor\": \"#E5ECF6\", \"caxis\": {\"gridcolor\": \"white\", \"linecolor\": \"white\", \"ticks\": \"\"}}, \"title\": {\"x\": 0.05}, \"xaxis\": {\"automargin\": true, \"gridcolor\": \"white\", \"linecolor\": \"white\", \"ticks\": \"\", \"title\": {\"standoff\": 15}, \"zerolinecolor\": \"white\", \"zerolinewidth\": 2}, \"yaxis\": {\"automargin\": true, \"gridcolor\": \"white\", \"linecolor\": \"white\", \"ticks\": \"\", \"title\": {\"standoff\": 15}, \"zerolinecolor\": \"white\", \"zerolinewidth\": 2}}}},\n",
       "                        {\"responsive\": true}\n",
       "                    ).then(function(){\n",
       "                            \n",
       "var gd = document.getElementById('41fbe35b-4a2e-4957-ad10-ea56b9f8213f');\n",
       "var x = new MutationObserver(function (mutations, observer) {{\n",
       "        var display = window.getComputedStyle(gd).display;\n",
       "        if (!display || display === 'none') {{\n",
       "            console.log([gd, 'removed!']);\n",
       "            Plotly.purge(gd);\n",
       "            observer.disconnect();\n",
       "        }}\n",
       "}});\n",
       "\n",
       "// Listen for the removal of the full notebook cells\n",
       "var notebookContainer = gd.closest('#notebook-container');\n",
       "if (notebookContainer) {{\n",
       "    x.observe(notebookContainer, {childList: true});\n",
       "}}\n",
       "\n",
       "// Listen for the clearing of the current output cell\n",
       "var outputEl = gd.closest('.output');\n",
       "if (outputEl) {{\n",
       "    x.observe(outputEl, {childList: true});\n",
       "}}\n",
       "\n",
       "                        })\n",
       "                };\n",
       "                });\n",
       "            </script>\n",
       "        </div>"
      ]
     },
     "metadata": {},
     "output_type": "display_data"
    }
   ],
   "source": [
    "fig1 = plotlyWordMap(wordMapDate)\n",
    "fig1.show()"
   ]
  },
  {
   "cell_type": "code",
   "execution_count": 18,
   "metadata": {
    "scrolled": true
   },
   "outputs": [
    {
     "ename": "NameError",
     "evalue": "name 'fig1' is not defined",
     "output_type": "error",
     "traceback": [
      "\u001b[1;31m---------------------------------------------------------------------------\u001b[0m",
      "\u001b[1;31mNameError\u001b[0m                                 Traceback (most recent call last)",
      "\u001b[1;32m<ipython-input-18-93dad87038b6>\u001b[0m in \u001b[0;36m<module>\u001b[1;34m\u001b[0m\n\u001b[0;32m      1\u001b[0m \u001b[0mapp\u001b[0m \u001b[1;33m=\u001b[0m \u001b[0mJupyterDash\u001b[0m\u001b[1;33m(\u001b[0m\u001b[1;34m'test'\u001b[0m\u001b[1;33m)\u001b[0m\u001b[1;33m\u001b[0m\u001b[1;33m\u001b[0m\u001b[0m\n\u001b[0;32m      2\u001b[0m app.layout= html.Div(\n\u001b[1;32m----> 3\u001b[1;33m     children = [dcc.Graph(id = 'graph-with-slider',figure = fig1),\n\u001b[0m\u001b[0;32m      4\u001b[0m                 dcc.Slider(\n\u001b[0;32m      5\u001b[0m                 \u001b[0mid\u001b[0m \u001b[1;33m=\u001b[0m \u001b[1;34m'day-slider'\u001b[0m\u001b[1;33m,\u001b[0m\u001b[1;33m\u001b[0m\u001b[1;33m\u001b[0m\u001b[0m\n",
      "\u001b[1;31mNameError\u001b[0m: name 'fig1' is not defined"
     ]
    }
   ],
   "source": [
    "app = JupyterDash('test')\n",
    "app.layout= html.Div(\n",
    "    children = [dcc.Graph(id = 'graph-with-slider',figure = fig1),\n",
    "                dcc.Slider(\n",
    "                id = 'day-slider',\n",
    "                min =resortForeignDate.updateTime.min(),\n",
    "                max = resortForeignDate.updateTime.max(),\n",
    "                value=resortForeignDate.updateTime.min(),\n",
    "                marks = {str(day):str(day) for day in resortForeignDate.updateTime.unique()},\n",
    "                step = None )\n",
    "                ])\n",
    "\n",
    "\n",
    "app "
   ]
  },
  {
   "cell_type": "markdown",
   "metadata": {},
   "source": [
    "#### 画 slider决定的世界地图\n"
   ]
  },
  {
   "cell_type": "code",
   "execution_count": 30,
   "metadata": {},
   "outputs": [
    {
     "data": {
      "text/html": [
       "<div>\n",
       "  <iframe src=\"/app/endpoints/c9b3e2f7f2854381a06e75b4730b2ead/\" width=800 height=600 frameborder=\"0\"></iframe>\n",
       "  <hr/><a href=\"/app/endpoints/c9b3e2f7f2854381a06e75b4730b2ead/\" target=\"_new\">Open in new window</a> for /app/endpoints/c9b3e2f7f2854381a06e75b4730b2ead/\n",
       "</div>"
      ],
      "text/plain": [
       "<jupyter_plotly_dash.dash_wrapper.JupyterDash at 0x1fce03394e0>"
      ]
     },
     "execution_count": 30,
     "metadata": {},
     "output_type": "execute_result"
    }
   ],
   "source": [
    "\n",
    "sliderMap = resortProvinceDate.append(resortForeignDate,ignore_index=True)\n",
    "app = JupyterDash('test')\n",
    "app.layout= html.Div(\n",
    "    children = [dcc.Graph(id = 'graph-with-slider'),\n",
    "                dcc.Slider(\n",
    "                id = 'day-slider',\n",
    "                min =0,\n",
    "                max = len(resortProvinceDate.updateTime.unique()),\n",
    "                value=9,\n",
    "                marks = {i:day for i,day in enumerate(resortProvinceDate.updateTime.unique())},\n",
    "                step = None  )\n",
    "                ])\n",
    "\n",
    "# 回调函数\n",
    "@app.callback(\n",
    "    Output('graph-with-slider', 'figure'),\n",
    "    [Input('day-slider', 'value')]\n",
    ")\n",
    "\n",
    "# 设置布局\n",
    "def update_figure(selected_year):\n",
    "\n",
    "    wordMapDate = sliderMap[sliderMap.updateTime== selected_year]\n",
    "    fig1 = plotlyWordMap(wordMapDate)\n",
    "    return fig1 \n",
    "    \n",
    "app\n"
   ]
  },
  {
   "cell_type": "markdown",
   "metadata": {},
   "source": [
    "### 文本编辑处 Markdown"
   ]
  },
  {
   "cell_type": "code",
   "execution_count": 19,
   "metadata": {},
   "outputs": [],
   "source": [
    "text_notes = '''\n",
    "#### Coronavirus (COVID-19) Outbreak Global Cases Monitor\n",
    "On Dec 31, 2019, the World Health Organization (WHO) was informed of \\\n",
    "                    an outbreak of “pneumonia of unknown cause” detected in Wuhan City, Hubei Province, China – the \\\n",
    "                    seventh-largest city in China with 11 million residents. As of {}, there are over {:,d} cases \\\n",
    "                    of COVID-19 confirmed globally.\\\n",
    "                    This dash board is developed to visualise and track the recent reported \\\n",
    "                    cases on a daily timescale.\n",
    "\n",
    "'''.format(confirmedDate.iloc[0,0],confirmedDate.iloc[0,-1])\n",
    "\n",
    "\n",
    "\n",
    "\n"
   ]
  },
  {
   "cell_type": "code",
   "execution_count": 20,
   "metadata": {},
   "outputs": [],
   "source": [
    "daysOutbreak = (datetime.today() - datetime(2019,12,31)).days\n",
    "\n",
    "plusConfirmedNum = confirmedDate.Mainland[0] - confirmedDate.Mainland[1]\n",
    "plusPercentNum1 = confirmedDate.Mainland.pct_change(periods=-1)[0]\n",
    "confirmedCases = confirmedDate.Mainland[0]\n",
    "\n",
    "\n",
    "\n",
    "plusRecoveredNum =curedDate.Mainland[0] - curedDate.Mainland[1]\n",
    "plusPercentNum2 = curedDate.Mainland.pct_change(periods = -1)[0]\n",
    "recoveredCases = curedDate.Mainland[0]\n",
    "\n",
    "plusDeathNum = deadDate.Mainland[0]- deadDate.Mainland[1] \n",
    "plusPercentNum3 =  deadDate.Mainland.pct_change(periods = -1)[0]\n",
    "deathsCases =  deadDate.Mainland[0]"
   ]
  },
  {
   "cell_type": "markdown",
   "metadata": {},
   "source": [
    "### Table 处理"
   ]
  },
  {
   "cell_type": "code",
   "execution_count": 21,
   "metadata": {},
   "outputs": [],
   "source": [
    "MainlandDate['country'] = '中国'\n",
    "df =resortForeignDate\n",
    "out = []\n",
    "for country in df.provinceName.unique():\n",
    "    dfChosen = df[df.provinceName == country]\n",
    "    Date = dfChosen.updateTime.unique()[0]\n",
    "    \n",
    "    curedCount = dfChosen['curedCount'].sum()\n",
    "    deadCount = dfChosen['deadCount'].sum()\n",
    "    confirmedCount = dfChosen['confirmedCount'].sum()\n",
    "    currentConfirmedCount = dfChosen['currentConfirmedCount'].sum()\n",
    "    countrysum = {'Date':Date,'confirmedCount':confirmedCount,'curedCount':curedCount\n",
    "                               ,'currentConfirmedCount':currentConfirmedCount\n",
    "                               ,'deadCount':deadCount\n",
    "                               ,'country':country}\n",
    "\n",
    "    out.append(countrysum)\n",
    "\n",
    "out.append(dict(MainlandDate.iloc[0,:]))\n",
    "SumData = pd.DataFrame(out) \n",
    "SumData.insert(loc=5,column = 'country',value= SumData.pop('country')   ) "
   ]
  },
  {
   "cell_type": "markdown",
   "metadata": {},
   "source": [
    "# 网页代码"
   ]
  },
  {
   "cell_type": "code",
   "execution_count": 29,
   "metadata": {},
   "outputs": [
    {
     "data": {
      "text/html": [
       "<div>\n",
       "  <iframe src=\"/app/endpoints/b9be0804a50642a69b0f70bd30c17d3f/\" width=800 height=600 frameborder=\"0\"></iframe>\n",
       "  <hr/><a href=\"/app/endpoints/b9be0804a50642a69b0f70bd30c17d3f/\" target=\"_new\">Open in new window</a> for /app/endpoints/b9be0804a50642a69b0f70bd30c17d3f/\n",
       "</div>"
      ],
      "text/plain": [
       "<jupyter_plotly_dash.dash_wrapper.JupyterDash at 0x24b2b24c7f0>"
      ]
     },
     "execution_count": 29,
     "metadata": {},
     "output_type": "execute_result"
    }
   ],
   "source": [
    "\n",
    "\n",
    "app = JupyterDash('Hello Dash', )\n",
    "colors = dict(background = '#22222', text = '#7FDBFF')\n",
    "app.layout =html.Div(\n",
    "    style = dict(background = '#f4f4f2'),\n",
    "    children=[\n",
    "        html.Div(\n",
    "            id = 'Title',\n",
    "            children=[dcc.Markdown(children=text_notes)\n",
    "                \n",
    "            ]),\n",
    "        html.Div(\n",
    "            id=\"number-plate\",\n",
    "            style={'marginLeft':'1.5%','marginRight':'1.5%','marginBottom':'.5%'},\n",
    "                 children=[\n",
    "                     \n",
    "                     html.Div(\n",
    "                         style={'width':'24.4%','backgroundColor':'#cbd2d3','display':'inline-block',\n",
    "                                'marginRight':'.8%','verticalAlign':'top'},\n",
    "                              children=[\n",
    "                                  html.H3(style={'textAlign':'center',\n",
    "                                                 'fontWeight':'bold','color':'#2674f6'},\n",
    "                                               children=[\n",
    "                                                   html.P(style={'color':'#cbd2d3','padding':'.5rem'},\n",
    "                                                              children='xxxx xx xxx xxxx xxx xxxxx'),\n",
    "                                                   '{}'.format(daysOutbreak),\n",
    "                                               ]),\n",
    "                                  html.H5(style={'textAlign':'center','color':'#2674f6','padding':'.1rem'},\n",
    "                                               children=\"Days Since Outbreak\")                                        \n",
    "                                       ]),\n",
    "                     html.Div(\n",
    "                         style={'width':'24.4%','backgroundColor':'#cbd2d3','display':'inline-block',\n",
    "                                'marginRight':'.8%','verticalAlign':'top'},\n",
    "                              children=[\n",
    "                                  html.H3(style={'textAlign':'center',\n",
    "                                                 'fontWeight':'bold','color':'#d7191c'},\n",
    "                                                children=[\n",
    "                                                    html.P(style={'padding':'.5rem'},\n",
    "                                                              children='+ {:,d} in the past 24h ({:.1%})'.format(plusConfirmedNum, plusPercentNum1)),\n",
    "                                                    '{:,d}'.format(confirmedCases)\n",
    "                                                         ]),\n",
    "                                  html.H5(style={'textAlign':'center','color':'#d7191c','padding':'.1rem'},\n",
    "                                               children=\"Confirmed Cases\")                                        \n",
    "                                       ]),\n",
    "                     html.Div(\n",
    "                         style={'width':'24.4%','backgroundColor':'#cbd2d3','display':'inline-block',\n",
    "                                'marginRight':'.8%','verticalAlign':'top'},\n",
    "                              children=[\n",
    "                                  html.H3(style={'textAlign':'center',\n",
    "                                                       'fontWeight':'bold','color':'#1a9622'},\n",
    "                                               children=[\n",
    "                                                   html.P(style={'padding':'.5rem'},\n",
    "                                                              children='+ {:,d} in the past 24h ({:.1%})'.format(plusRecoveredNum, plusPercentNum2)),\n",
    "                                                   '{:,d}'.format(recoveredCases),\n",
    "                                               ]),\n",
    "                                  html.H5(style={'textAlign':'center','color':'#1a9622','padding':'.1rem'},\n",
    "                                               children=\"Recovered Cases\")                                        \n",
    "                                       ]),\n",
    "                     html.Div(\n",
    "                         style={'width':'24.4%','backgroundColor':'#cbd2d3','display':'inline-block',\n",
    "                                'verticalAlign':'top'},\n",
    "                              children=[\n",
    "                                  html.H3(style={'textAlign':'center',\n",
    "                                                       'fontWeight':'bold','color':'#6c6c6c'},\n",
    "                                                children=[\n",
    "                                                    html.P(style={'padding':'.5rem'},\n",
    "                                                              children='+ {:,d} in the past 24h ({:.1%})'.format(plusDeathNum, plusPercentNum3)),\n",
    "                                                    '{:,d}'.format(deathsCases)\n",
    "                                                ]),\n",
    "                                  html.H5(style={'textAlign':'center','color':'#6c6c6c','padding':'.1rem'},\n",
    "                                               children=\"Death Cases\")                                        \n",
    "                                       ])\n",
    "\n",
    "                 ]),\n",
    "        \n",
    "        html.Div(\n",
    "            id = 'TimeLine',\n",
    "            style = dict(marginRight = '1.5%',marginLeft='1.5%',marginBottom='.35%',marginTop='.5%'),\n",
    "            children = [\n",
    "                html.Div(style = dict(backgroundColor = colors['background'],width='32.79%',display='inline-block',marginRight='.8%'),\n",
    "                    children=[dcc.Graph(figure = fig_confirmed)]),\n",
    "                html.Div(style = dict(backgroundColor = colors['background'],width='32.79%',display='inline-block',marginRight='.8%'),\n",
    "                    children=[dcc.Graph(figure = fig_Grow)]),\n",
    "                html.Div(style = dict(backgroundColor = colors['background'],width='32.79%',display='inline-block'),\n",
    "                    children=[dcc.Graph(figure = fig_Dead)])\n",
    "                        ]\n",
    "                ),\n",
    "        \n",
    "        html.Div(\n",
    "            id='dcc-map',\n",
    "            style={'marginLeft':'1.5%','marginRight':'1.5%','marginBottom':'.5%'},\n",
    "                 children=[\n",
    "                     html.Div(style={'width':'72.6%','marginRight':'.8%','display':'inline-block','verticalAlign':'top'},\n",
    "                              children=[\n",
    "                                  html.H5(style={'textAlign':'center','backgroundColor':'#cbd2d3',\n",
    "                                                 'color':'#292929','padding':'1rem','marginBottom':'0'},\n",
    "                                               children='Latest Coronavirus Outbreak Map'),\n",
    "                                  dcc.Graph(style={'height':'500px'}, figure=fig1)]),\n",
    "                     html.Div(style={'width':'26.6%','display':'inline-block','verticalAlign':'top'},\n",
    "                              children=[\n",
    "                                  html.H5(style={'textAlign':'center','backgroundColor':'#cbd2d3',\n",
    "                                                 'color':'#292929','padding':'1rem','marginBottom':'0'},\n",
    "                                               children='Cases by Country/Regions'), dash_table.DataTable(\n",
    "                                      columns=[{\"name\": i, \"id\": i} for i in SumData.columns],\n",
    "                                      data=SumData.to_dict(\"rows\"),\n",
    "                                      row_selectable=\"single\",\n",
    "                                      selected_rows=[],\n",
    "                                      sort_action=\"native\",\n",
    "                                      style_as_list_view=True,\n",
    "                                      style_cell={\n",
    "                                          'font_family':'Arial',\n",
    "                                          'font_size':'1.5rem',\n",
    "                                          'padding':'.1rem',\n",
    "                                          'backgroundColor':'#f4f4f2'\n",
    "                                      },\n",
    "                                      fixed_rows={ 'headers': True, 'data': 0 },\n",
    "                                      style_header={\n",
    "                                        'backgroundColor': '#f4f4f2',\n",
    "                                        'fontWeight':'bold'},\n",
    "                                      style_table={\n",
    "                                          'maxHeight':'500px',\n",
    "                                          'overflowX':'scroll',\n",
    "                                      },\n",
    "                                      style_cell_conditional=[\n",
    "                                          {'if': {'column_id':'country'},'width':'20%'},\n",
    "                                          {'if': {'column_id':'Date'},'width':'20%'},\n",
    "                                          {'if': {'column_id':'currentConfirmedCount'},'width':'20%'},\n",
    "                                          {'if': {'column_id':'confirmedCount'},'width':'20%'},\n",
    "                                          {'if': {'column_id':'curedCount'},'width':'20%'},\n",
    "                                          {'if': {'column_id':'deadCount'},'width':'20%'},\n",
    "                                          {'if': {'column_id':'Confirmed'},'color':'#d7191c'},\n",
    "                                          {'if': {'column_id':'curedCount'},'color':'#1a9622'},\n",
    "                                          {'if': {'column_id':'deadCount'},'color':'#6c6c6c'},\n",
    "                                          {'textAlign': 'center'}\n",
    "                                      ],\n",
    "                                  )\n",
    "                                 \n",
    "                              ])\n",
    "                 ]),\n",
    "\n",
    "            ]\n",
    "                )\n",
    "\n",
    "\n",
    "\n",
    "app \n",
    "\n",
    "      "
   ]
  },
  {
   "cell_type": "markdown",
   "metadata": {},
   "source": [
    "多索引标签的选择\n",
    "\n",
    "```python\n",
    "pd.loc[   ( index1,index2 ,index3,......  )    , ] #index1可以是个列表，就会选择所有的列表中的\n",
    "\n",
    "\n",
    "cityChosen=provinceChosen.loc[(provinceChosen.index.levels[0],provinceChosen.index.levels[1],provinceChosen.index.levels[2][1])]\n",
    "\n",
    "```\n",
    "` (provinceChosen.index.levels[0]`表示选取index1中的所有可选指。使用`pd.index.levels`获取所有多个索引的列表，\n",
    "\n",
    "`cityChosen=provinceChosen.loc[(provinceChosen.index.levels[0],provinceChosen.index.levels[1],provinceChosen.index.levels[2][1])]` 实现的是index1 中的所有 index2中的所有， index3中的第二类。"
   ]
  },
  {
   "cell_type": "code",
   "execution_count": 225,
   "metadata": {},
   "outputs": [
    {
     "name": "stdout",
     "output_type": "stream",
     "text": [
      "吉林 四平\n"
     ]
    }
   ],
   "source": [
    "#取出某格省份的数据\n",
    "province = allData[5]\n",
    "provinceChosen = pd.read_csv(root_path+province,index_col=[0,1,2])\n",
    "#print(provinceChosen)\n",
    "#选择某一个地级市的数据出来\n",
    "city1 = provinceChosen.index.levels[2][1]\n",
    "city2 = provinceChosen.index.levels[2][3]\n",
    "print(city1,city2)\n",
    "#\n",
    "cityChosen1 = provinceChosen.loc[(provinceChosen.index.levels[0],provinceChosen.index.levels[1],city1)]\n",
    "cityChosen2 = provinceChosen.loc[(provinceChosen.index.levels[0],provinceChosen.index.levels[1],city2)]"
   ]
  },
  {
   "cell_type": "code",
   "execution_count": 222,
   "metadata": {},
   "outputs": [
    {
     "data": {
      "text/plain": [
       "updateTime           provinceName  cityName\n",
       "2020-02-04 08:22:39  吉林省           吉林          5\n",
       "2020-02-03 09:28:34  吉林省           吉林          4\n",
       "2020-02-02 10:29:44  吉林省           吉林          3\n",
       "2020-02-02 09:44:41  吉林省           吉林          3\n",
       "2020-02-01 20:57:18  吉林省           吉林          3\n",
       "2020-02-01 18:29:15  吉林省           吉林          3\n",
       "2020-02-01 16:09:04  吉林省           吉林          3\n",
       "2020-02-01 09:39:21  吉林省           吉林          3\n",
       "2020-01-31 13:42:13  吉林省           吉林          3\n",
       "2020-01-30 09:53:34  吉林省           吉林          3\n",
       "2020-01-30 09:17:16  吉林省           吉林          3\n",
       "2020-01-29 09:15:29  吉林省           吉林          3\n",
       "2020-01-28 15:43:29  吉林省           吉林          3\n",
       "2020-01-27 09:13:04  吉林省           吉林          2\n",
       "2020-01-25 11:26:40  吉林省           吉林          2\n",
       "2020-01-25 09:54:48  吉林省           吉林          1\n",
       "2020-01-24 10:33:03  吉林省           吉林          1\n",
       "2020-01-24 10:32:03  吉林省           吉林          1\n",
       "Name: confirmedCount, dtype: int64"
      ]
     },
     "execution_count": 222,
     "metadata": {},
     "output_type": "execute_result"
    }
   ],
   "source": [
    "cityChosen1.confirmedCount"
   ]
  },
  {
   "cell_type": "markdown",
   "metadata": {},
   "source": [
    "## Dash "
   ]
  },
  {
   "cell_type": "code",
   "execution_count": 382,
   "metadata": {},
   "outputs": [
    {
     "data": {
      "text/html": [
       "<div>\n",
       "  <iframe src=\"/app/endpoints/670ed874ca1f4adea8ecf19c87086873/\" width=800 height=600 frameborder=\"0\"></iframe>\n",
       "  <hr/><a href=\"/app/endpoints/670ed874ca1f4adea8ecf19c87086873/\" target=\"_new\">Open in new window</a> for /app/endpoints/670ed874ca1f4adea8ecf19c87086873/\n",
       "</div>"
      ],
      "text/plain": [
       "<jupyter_plotly_dash.dash_wrapper.JupyterDash at 0x285778bb0f0>"
      ]
     },
     "execution_count": 382,
     "metadata": {},
     "output_type": "execute_result"
    }
   ],
   "source": [
    "app = JupyterDash('Hello Dash', )\n",
    "colors = dict(background = '#22222', text = '#7FDBFF')\n",
    "app.layout = html.Div(\n",
    "    style = dict(backgroundColor = colors['background']),\n",
    "    children = [\n",
    "        html.H1('你好，Dash',\n",
    "                style = dict(textAlign = 'center', color = colors['text'])),\n",
    "        html.Div('''Dash: Python网络应用框架''',\n",
    "                 style = dict(textAlign = 'center', color = colors['text'])),\n",
    "        dcc.Graph(\n",
    "            id='example-graph',\n",
    "            figure = dict(\n",
    "                data = [{'x': cityChosen1.index.levels[0], 'y': cityChosen1.confirmedCount, 'type': 'scattle', 'name': city1},\n",
    "                       {'x': cityChosen2.index.levels[0], 'y': cityChosen2.confirmedCount, 'type': 'scattle', 'name': city2}],\n",
    "                layout = dict(title = 'Dash数据可视化',\n",
    "                    plot_bgcolor = colors['background'], \n",
    "                    paper_bgcolor = colors['background'],\n",
    "                    font = dict(color = colors['text'])\n",
    "                )\n",
    "            )\n",
    "        )\n",
    "    ]\n",
    ")\n",
    "\n",
    "app"
   ]
  },
  {
   "cell_type": "markdown",
   "metadata": {},
   "source": [
    "# 音频整合小程序\n"
   ]
  },
  {
   "cell_type": "code",
   "execution_count": 41,
   "metadata": {},
   "outputs": [],
   "source": [
    "from ffmpy3 import FFmpeg\n",
    "import pydub\n",
    "import os  \n",
    "\n",
    "def get_file_list(file_path):\n",
    "    dir_list = os.listdir(file_path)\n",
    "    if not dir_list:\n",
    "        return\n",
    "    else:\n",
    "        # 注意，这里使用lambda表达式，将文件按照最后修改时间顺序升序排列\n",
    "        # os.path.getmtime() 函数是获取文件最后修改时间\n",
    "        # os.path.getctime() 函数是获取文件最后创建时间\n",
    "        dir_list = sorted(dir_list,key=lambda x: os.path.getmtime(os.path.join(file_path, x)))\n",
    "        # print(dir_list)\n",
    "        return dir_lis\n",
    "    \n",
    "    \n",
    "    \n",
    "filePath = 'D:\\data_of_tf\\课程\\时间与他者：历史人类学导论2020\\第一节音频'\n",
    "os.chdir(filePath)\n",
    "files = get_file_list(filePath)\n",
    "\n",
    "\n",
    "i = 0 \n",
    "tmp = {}\n",
    "for file in files:\n",
    "    i+=1 \n",
    "    os.rename(file, '{}.amr'.format(i))\n",
    "    tmp[file] = i \n",
    "files = get_file_list(filePath)\n",
    "files "
   ]
  },
  {
   "cell_type": "markdown",
   "metadata": {},
   "source": [
    "## python-对目录下的文件按时间排序\n",
    "1. 按照时间来排序\n",
    "\n",
    "\n",
    "``` python\n",
    "def get_file_list(file_path):\n",
    "    dir_list = os.listdir(file_path)\n",
    "    if not dir_list:\n",
    "        return\n",
    "    else:\n",
    "        # 注意，这里使用lambda表达式，将文件按照最后修改时间顺序升序排列\n",
    "        # os.path.getmtime() 函数是获取文件最后修改时间\n",
    "        # os.path.getctime() 函数是获取文件最后创建时间\n",
    "        dir_list = sorted(dir_list,key=lambda x: os.path.getmtime(os.path.join(file_path, x)))\n",
    "        # print(dir_list)\n",
    "        return dir_list\n",
    "```\n",
    "2. 获取最后修改时间的文件路径\n",
    "\n",
    "``` python\n",
    "1 import os\n",
    "2 \n",
    "3 url='D:\\PycharmProjects\\Ambulance_Api\\logs'\n",
    "4 lists=os.listdir(url)\n",
    "5 print(lists)\n",
    "6 lists.sort(key=lambda fn: os.path.getmtime(url+'\\\\'+fn))\n",
    "7 filepath=os.path.join(url,lists[-1])\n",
    "8 print(filepath)\n",
    "```\n",
    "\n",
    "3. 按照文件名字来排序\n",
    "\n",
    "    1）用库函数sorted()对字符串排序，它的对象是字符\n",
    "    2）用函数sort()对数字排序，它的对象是数字，如果读取文件的话，需要进行处理（把文件后缀名‘屏蔽’）\n",
    "\n",
    "``` python\n",
    "1 import os\n",
    "2 \n",
    "3 img_path ='./img/'\n",
    "4 img_list =sorted(os.listdir(img_path))    #文件名按字母排序\n",
    "5 img_nums =len(img_list)\n",
    "6 for i in range(img_nums):\n",
    "7 img_name = img_path + img_list[i]\n",
    "8 print(img_name)\n",
    "```\n",
    ">注意：顺便提下，sort函数中用到了匿名函数(key = lambda x:int(x[:-4]))，其作用是将后缀名'.jpg'“屏蔽”（因为‘.jpg’是4个字符，所以[:-4]的含义是从文件名开始到倒数第四个字符为止）"
   ]
  },
  {
   "cell_type": "code",
   "execution_count": 16,
   "metadata": {},
   "outputs": [],
   "source": [
    "#对目录内文件按时间排序后取出\n",
    "def get_file_list(file_path):\n",
    "    dir_list = os.listdir(file_path)\n",
    "    if not dir_list:\n",
    "        return\n",
    "    else:\n",
    "        # 注意，这里使用lambda表达式，将文件按照最后修改时间顺序升序排列\n",
    "        # os.path.getmtime() 函数是获取文件最后修改时间\n",
    "        # os.path.getctime() 函数是获取文件最后创建时间\n",
    "        dir_list = sorted(dir_list,key=lambda x: os.path.getmtime(os.path.join(file_path, x)))\n",
    "        # print(dir_list)\n",
    "        return dir_list"
   ]
  },
  {
   "cell_type": "code",
   "execution_count": 21,
   "metadata": {
    "collapsed": true
   },
   "outputs": [
    {
     "data": {
      "text/plain": [
       "['$)G4}AZZI@]~H)LYK4QNC{4.amr',\n",
       " '6YZOV%KQD_OC6FLN24]Q575.amr',\n",
       " 'C)[2VAXQC]5RSS){)DIE{DT.amr',\n",
       " '}]EFMKF9GLH)W3WELK%9T2S.amr',\n",
       " 'ZT48FTV7U`LN{`R{%Z4BH6R.amr',\n",
       " '@M_5@SYO_M0222O61KXPTDU.amr',\n",
       " '$SH}(P_6GLID4LY4LL~R4RV.amr',\n",
       " '8[37H1W~P_ENY5281A{`{]Q.amr',\n",
       " 'M{}O)UQ84MO10A]Q](`5J@K.amr',\n",
       " '}QO8$ZX9]4J~XL9N}4VI~5A.amr',\n",
       " '7E0EQ]MH[1A9@8E~WV9[JTI.amr',\n",
       " 'Q4{CGO7V(I_}U@`6B[7]SZ2.amr',\n",
       " 'M1R00HU)JL)JQ@T0DKQ([{2.amr',\n",
       " 'YX596]~J2A}CKXB$04(5{ND.amr',\n",
       " '[C3O`MY8HM9NP5DHPAG03WY.amr',\n",
       " 'K4PC$1D{MTWH5IT@ZN%0VL7.amr',\n",
       " 'I}07DEI74@EWD2HUCXH}Z8A.amr',\n",
       " '`50K~3VH24%A[R65`$_A(L8.amr',\n",
       " '07$$6V1)OT5`~HE913JO42P.amr',\n",
       " '3X0G(4$Z2[$NV~D2{D43T1V.amr',\n",
       " 'ZAMWLO~EXLWY2}LB8KNWSQH.amr',\n",
       " '}YKA%$O)[@G8E@EUU1$99LG.amr',\n",
       " 'S)5}{BFABWUHOGA0QW2`@R9.amr',\n",
       " '{QC8XTRD8GERVE3FVWA~BE5.amr',\n",
       " '9FERT(EL@DG[@M0TB7$G54V.amr',\n",
       " '})4}XO_S~$}$T]F`2Z%X@P6.amr',\n",
       " 'QL}UFT$6}S11IH5H4SW7OIL.amr',\n",
       " 'QOZ(CW[T@1_EB5IQ1H%CI0M.amr',\n",
       " 'E_`C$`JQ5)V96(VV@W0(9UU.amr',\n",
       " '_KED{~XKC_9[KPYN(}5@UMV.amr',\n",
       " '%66HV4PW`7D({N]E`A%9]{X.amr',\n",
       " 'WPKXQM~3Z(AEFO}T8}~$_(K.amr',\n",
       " 'PY0KVPT){BV[Z(X9FAAN]2R.amr',\n",
       " 'KWFQRA`]$Z10SJZYG(}}J67.amr',\n",
       " 'WG_A]YPJ@L`L5FY~L24[2S1.amr',\n",
       " '8@4GII}4D397{DMYC]VKFD9.amr',\n",
       " '~JO363NMU1{KUD56Q{L(BBF.amr',\n",
       " '75RUOW{L6}KF94$~{D}C~`Y.amr',\n",
       " '9[VV)~MRYGIOM1RGRA%8$F3.amr',\n",
       " 'LKP}I~X(A_$YH4})BOK3PC8.amr',\n",
       " '5P0Y`EW7T)JB9X1Y@%7L29Q.amr',\n",
       " 'AAC[](%2LW4CS~QCIULO~Z3.amr',\n",
       " 'I83E~$XTIE~JJ2_L%K7]VEO.amr',\n",
       " '`%FL}NG1PB3{%9UQP8XI[51.amr',\n",
       " '[X7E837RO1[ZSH[})C%)LC1.amr',\n",
       " 'XN@48A0CJA38Z98~J)B])`7.amr',\n",
       " 'G1%%6I_X[GX)CFK4[NE1X_U.amr',\n",
       " 'Z0_Y@U6%V2AC49K3_Z[9`NC.amr',\n",
       " '9YCLQ3QZ~G27NRR@N(SJK1G.amr',\n",
       " 'S}~C(76746O1Z$E5~XO`{MV.amr',\n",
       " '0`V6}_OL6R[VQJF%EOR{UZ3.amr',\n",
       " 'BCUH[P$DM~ON(F6]I{TRWMB.amr',\n",
       " '%@[A)XJ{LON1BIXTSC)(WSA.amr',\n",
       " 'N}KE7VN_6AI)O{SCD3[X%8S.amr',\n",
       " 'I}WP3{2VRJ1[]Y0M3VFT9}E.amr',\n",
       " '4T@AK)7OSP8P{4`UN6P8I(V.amr',\n",
       " 'HV{$Y{UC%BC7J`P}NC18V[H.amr',\n",
       " '{Q2L~X}U72674JYD00M9E9T.amr',\n",
       " '`(%$}W]ER5[0J7FT5MUTXRA.amr',\n",
       " '7UAJJWFV%2QV6`0]R{7J3[T.amr',\n",
       " '6%`1}_LWG2CF5D`}KN(NT7E.amr',\n",
       " '`$F3{CPDX$FIWVQ~0}@DZW3.amr',\n",
       " '${WAUKK13]RJ5B~`VA]TQWW.amr',\n",
       " 'V[6QSOSLH7~)Y7%W]LRFV4D.amr',\n",
       " 'GIS3[`KU57HI2_ZNBMGDT4S.amr',\n",
       " 'D4TK57{QF2_LQAN%`NURL]4.amr',\n",
       " ']D8KIDN4AL4QC{P(X)I~9)B.amr',\n",
       " 'ER5J4`1H@]@[FP{9AYI50HH.amr',\n",
       " 'AXEUTN@429W`0MCHN`EZ7MN.amr',\n",
       " '_9@85RZ{3KBF{I)X7_U423V.amr',\n",
       " 'E2PV3AXXZINKWKAWAE@LA7C.amr',\n",
       " '_IG]F@G%$[A8~1$4GPCG8}T.amr',\n",
       " 'M[$1@65P(%R@OISMMUU4QTL.amr',\n",
       " '_03WQHZC[G}GCBFVF)O[5Q9.amr',\n",
       " 'AQ)ITOISGYL)F~V6J4A0`66.amr']"
      ]
     },
     "execution_count": 21,
     "metadata": {},
     "output_type": "execute_result"
    }
   ],
   "source": [
    "filePath = 'D:\\data_of_tf\\课程\\时间与他者：历史人类学导论2020\\第一节音频'\n",
    "os.chdir(filePath)\n",
    "files = get_file_list(filePath)\n",
    "files "
   ]
  },
  {
   "cell_type": "markdown",
   "metadata": {},
   "source": [
    "## 修改所有音频文件的文件名"
   ]
  },
  {
   "cell_type": "code",
   "execution_count": 23,
   "metadata": {},
   "outputs": [],
   "source": [
    "i = 0 \n",
    "tmp = {}\n",
    "for file in files:\n",
    "    i+=1 \n",
    "    os.rename(file, '{}.amr'.format(i))\n",
    "    tmp[file] = i \n",
    "files = get_file_list(filePath)\n",
    "files "
   ]
  },
  {
   "cell_type": "markdown",
   "metadata": {},
   "source": [
    "# 下载科学出版社的图书\n",
    "\n",
    "1. 获取想要下载的图书在科学出版社的连接\n",
    "![](./img/Snipaste_2020-02-21_17-46-24.png)\n",
    "2. 获取对应的url\n",
    "3. 点击阅读获取总页数，或者指定想要下载多少叶\n",
    "4. 运行"
   ]
  },
  {
   "cell_type": "code",
   "execution_count": 1,
   "metadata": {},
   "outputs": [],
   "source": [
    "import requests\n",
    "import time \n",
    "from PIL import Image\n",
    "from PyPDF2 import PdfFileReader, PdfFileWriter\n",
    "import os \n",
    "\n",
    "def mkdir(path): \n",
    "    if os.path.isdir(path):\n",
    "        pass \n",
    "    else:\n",
    "        os.makedirs(path)\n",
    "\n"
   ]
  },
  {
   "cell_type": "code",
   "execution_count": 6,
   "metadata": {},
   "outputs": [],
   "source": [
    "\n",
    "b = bookurl.split('id=')[-1]\n",
    "url = 'http://159.226.29.160/knReader/request/TebReadHandler.ashx?'\n",
    "headers = {'user-agent':'Mozilla/5.0 (Windows NT 10.0; Win64; x64) AppleWebKit/537.36 (KHTML, like Gecko) Chrome/79.0.3945.130 Safari/537.36'}\n",
    "page = 1 \n",
    "params ={'b':b, 'page' :page }\n",
    "r = requests.post(url , params=params,headers=headers)\n",
    "\n"
   ]
  },
  {
   "cell_type": "code",
   "execution_count": 8,
   "metadata": {},
   "outputs": [
    {
     "data": {
      "text/plain": [
       "'http://159.226.29.160/knReader/request/TebReadHandler.ashx?b=B6F0A1FC03CFCB1C3E053020B0A0AF931000&page=1'"
      ]
     },
     "execution_count": 8,
     "metadata": {},
     "output_type": "execute_result"
    }
   ],
   "source": [
    "r .url "
   ]
  },
  {
   "cell_type": "code",
   "execution_count": 2,
   "metadata": {},
   "outputs": [],
   "source": [
    "def downloadSciReading(bookname,bookurl,end):\n",
    "    #输入 书名，书连接和书的页数\n",
    "    #自定义输入的\n",
    "    # 书名，保存本地也是这个名字\n",
    "\n",
    "\n",
    "    b = bookurl.split('id=')[-1]\n",
    "    url = 'http://159.226.29.160/knReader/request/TebReadHandler.ashx?'\n",
    "    headers = {'user-agent':'Mozilla/5.0 (Windows NT 10.0; Win64; x64) AppleWebKit/537.36 (KHTML, like Gecko) Chrome/79.0.3945.130 Safari/537.36'}\n",
    "\n",
    "\n",
    "\n",
    "    for page in range(1,end+1):\n",
    "        page = str(page)\n",
    "        params ={'b':b, 'page' :page }\n",
    "        r = requests.post(url , params=params,headers=headers)\n",
    "        path = './/'+bookname\n",
    "        mkdir(path)\n",
    "        img = r.content\n",
    "        with open(path + '//'+str(page)+'.jpg', 'wb') as f:\n",
    "            f.write(img)\n",
    "            print(path + '//'+str(page)+'.jpg')\n",
    "        time.sleep(0.1)\n",
    "\n",
    "\n",
    "    path ='.//'+bookname\n",
    "    listPicture = get_file_list(path)\n",
    "\n",
    "    out_pdf = PdfFileWriter()\n",
    "    for pic in listPicture:\n",
    "        #排除存在的.pdf文件只使用\n",
    "        if '.pdf' in pic:\n",
    "            continue \n",
    "        pathPic = path  +'//'+ pic \n",
    "        print(pathPic)\n",
    "        img = Image.open(pathPic)\n",
    "        img2Pdf = pathPic.replace('.jpg','.pdf')\n",
    "        img.save(img2Pdf)\n",
    "        out_pdf.appendPagesFromReader(PdfFileReader(open(img2Pdf,'rb')))\n",
    "    out_pdf.write(open('.//'+bookname+'.pdf','wb'))"
   ]
  },
  {
   "cell_type": "code",
   "execution_count": 5,
   "metadata": {
    "scrolled": true
   },
   "outputs": [
    {
     "name": "stdout",
     "output_type": "stream",
     "text": [
      ".//医学高等数学//1.jpg wb\n",
      ".//医学高等数学//2.jpg wb\n",
      ".//医学高等数学//3.jpg wb\n",
      ".//医学高等数学//4.jpg wb\n",
      ".//医学高等数学//5.jpg wb\n",
      ".//医学高等数学//6.jpg wb\n",
      ".//医学高等数学//7.jpg wb\n",
      ".//医学高等数学//8.jpg wb\n",
      ".//医学高等数学//9.jpg wb\n",
      ".//医学高等数学//10.jpg wb\n",
      ".//医学高等数学//11.jpg wb\n",
      ".//医学高等数学//12.jpg wb\n",
      ".//医学高等数学//13.jpg wb\n",
      ".//医学高等数学//14.jpg wb\n",
      ".//医学高等数学//15.jpg wb\n",
      ".//医学高等数学//16.jpg wb\n",
      ".//医学高等数学//17.jpg wb\n",
      ".//医学高等数学//18.jpg wb\n",
      ".//医学高等数学//19.jpg wb\n",
      ".//医学高等数学//20.jpg wb\n",
      ".//医学高等数学//21.jpg wb\n",
      ".//医学高等数学//22.jpg wb\n",
      ".//医学高等数学//23.jpg wb\n",
      ".//医学高等数学//24.jpg wb\n",
      ".//医学高等数学//25.jpg wb\n",
      ".//医学高等数学//26.jpg wb\n",
      ".//医学高等数学//27.jpg wb\n",
      ".//医学高等数学//28.jpg wb\n",
      ".//医学高等数学//29.jpg wb\n",
      ".//医学高等数学//30.jpg wb\n",
      ".//医学高等数学//31.jpg wb\n",
      ".//医学高等数学//32.jpg wb\n",
      ".//医学高等数学//33.jpg wb\n",
      ".//医学高等数学//34.jpg wb\n",
      ".//医学高等数学//35.jpg wb\n",
      ".//医学高等数学//36.jpg wb\n",
      ".//医学高等数学//37.jpg wb\n",
      ".//医学高等数学//38.jpg wb\n",
      ".//医学高等数学//39.jpg wb\n",
      ".//医学高等数学//40.jpg wb\n",
      ".//医学高等数学//41.jpg wb\n",
      ".//医学高等数学//42.jpg wb\n",
      ".//医学高等数学//43.jpg wb\n",
      ".//医学高等数学//44.jpg wb\n",
      ".//医学高等数学//45.jpg wb\n",
      ".//医学高等数学//46.jpg wb\n",
      ".//医学高等数学//47.jpg wb\n",
      ".//医学高等数学//48.jpg wb\n",
      ".//医学高等数学//49.jpg wb\n",
      ".//医学高等数学//50.jpg wb\n",
      ".//医学高等数学//51.jpg wb\n",
      ".//医学高等数学//52.jpg wb\n",
      ".//医学高等数学//53.jpg wb\n",
      ".//医学高等数学//54.jpg wb\n",
      ".//医学高等数学//55.jpg wb\n",
      ".//医学高等数学//56.jpg wb\n",
      ".//医学高等数学//57.jpg wb\n",
      ".//医学高等数学//58.jpg wb\n",
      ".//医学高等数学//59.jpg wb\n",
      ".//医学高等数学//60.jpg wb\n",
      ".//医学高等数学//61.jpg wb\n",
      ".//医学高等数学//62.jpg wb\n",
      ".//医学高等数学//63.jpg wb\n",
      ".//医学高等数学//64.jpg wb\n",
      ".//医学高等数学//65.jpg wb\n",
      ".//医学高等数学//66.jpg wb\n",
      ".//医学高等数学//67.jpg wb\n",
      ".//医学高等数学//68.jpg wb\n",
      ".//医学高等数学//69.jpg wb\n",
      ".//医学高等数学//70.jpg wb\n",
      ".//医学高等数学//71.jpg wb\n",
      ".//医学高等数学//72.jpg wb\n",
      ".//医学高等数学//73.jpg wb\n",
      ".//医学高等数学//74.jpg wb\n",
      ".//医学高等数学//75.jpg wb\n",
      ".//医学高等数学//76.jpg wb\n",
      ".//医学高等数学//77.jpg wb\n",
      ".//医学高等数学//78.jpg wb\n",
      ".//医学高等数学//79.jpg wb\n",
      ".//医学高等数学//80.jpg wb\n",
      ".//医学高等数学//81.jpg wb\n",
      ".//医学高等数学//82.jpg wb\n",
      ".//医学高等数学//83.jpg wb\n",
      ".//医学高等数学//84.jpg wb\n",
      ".//医学高等数学//85.jpg wb\n",
      ".//医学高等数学//86.jpg wb\n",
      ".//医学高等数学//87.jpg wb\n",
      ".//医学高等数学//88.jpg wb\n",
      ".//医学高等数学//89.jpg wb\n",
      ".//医学高等数学//90.jpg wb\n",
      ".//医学高等数学//91.jpg wb\n",
      ".//医学高等数学//92.jpg wb\n",
      ".//医学高等数学//93.jpg wb\n",
      ".//医学高等数学//94.jpg wb\n",
      ".//医学高等数学//95.jpg wb\n",
      ".//医学高等数学//96.jpg wb\n",
      ".//医学高等数学//97.jpg wb\n",
      ".//医学高等数学//98.jpg wb\n",
      ".//医学高等数学//99.jpg wb\n",
      ".//医学高等数学//100.jpg wb\n",
      ".//医学高等数学//101.jpg wb\n",
      ".//医学高等数学//102.jpg wb\n",
      ".//医学高等数学//103.jpg wb\n",
      ".//医学高等数学//104.jpg wb\n",
      ".//医学高等数学//105.jpg wb\n",
      ".//医学高等数学//106.jpg wb\n",
      ".//医学高等数学//107.jpg wb\n",
      ".//医学高等数学//108.jpg wb\n",
      ".//医学高等数学//109.jpg wb\n",
      ".//医学高等数学//110.jpg wb\n",
      ".//医学高等数学//111.jpg wb\n",
      ".//医学高等数学//112.jpg wb\n",
      ".//医学高等数学//113.jpg wb\n",
      ".//医学高等数学//114.jpg wb\n",
      ".//医学高等数学//115.jpg wb\n",
      ".//医学高等数学//116.jpg wb\n",
      ".//医学高等数学//117.jpg wb\n",
      ".//医学高等数学//118.jpg wb\n",
      ".//医学高等数学//119.jpg wb\n",
      ".//医学高等数学//120.jpg wb\n",
      ".//医学高等数学//121.jpg wb\n",
      ".//医学高等数学//122.jpg wb\n",
      ".//医学高等数学//123.jpg wb\n",
      ".//医学高等数学//124.jpg wb\n",
      ".//医学高等数学//125.jpg wb\n",
      ".//医学高等数学//126.jpg wb\n",
      ".//医学高等数学//127.jpg wb\n",
      ".//医学高等数学//128.jpg wb\n",
      ".//医学高等数学//129.jpg wb\n",
      ".//医学高等数学//130.jpg wb\n",
      ".//医学高等数学//131.jpg wb\n",
      ".//医学高等数学//132.jpg wb\n",
      ".//医学高等数学//133.jpg wb\n",
      ".//医学高等数学//134.jpg wb\n",
      ".//医学高等数学//135.jpg wb\n",
      ".//医学高等数学//136.jpg wb\n",
      ".//医学高等数学//137.jpg wb\n",
      ".//医学高等数学//138.jpg wb\n",
      ".//医学高等数学//139.jpg wb\n",
      ".//医学高等数学//140.jpg wb\n",
      ".//医学高等数学//141.jpg wb\n",
      ".//医学高等数学//142.jpg wb\n",
      ".//医学高等数学//143.jpg wb\n",
      ".//医学高等数学//144.jpg wb\n"
     ]
    },
    {
     "ename": "KeyboardInterrupt",
     "evalue": "",
     "output_type": "error",
     "traceback": [
      "\u001b[1;31m---------------------------------------------------------------------------\u001b[0m",
      "\u001b[1;31mTypeError\u001b[0m                                 Traceback (most recent call last)",
      "\u001b[1;32mD:\\Anaconda\\lib\\site-packages\\urllib3\\connectionpool.py\u001b[0m in \u001b[0;36m_make_request\u001b[1;34m(self, conn, method, url, timeout, chunked, **httplib_request_kw)\u001b[0m\n\u001b[0;32m    376\u001b[0m             \u001b[1;32mtry\u001b[0m\u001b[1;33m:\u001b[0m  \u001b[1;31m# Python 2.7, use buffering of HTTP responses\u001b[0m\u001b[1;33m\u001b[0m\u001b[1;33m\u001b[0m\u001b[0m\n\u001b[1;32m--> 377\u001b[1;33m                 \u001b[0mhttplib_response\u001b[0m \u001b[1;33m=\u001b[0m \u001b[0mconn\u001b[0m\u001b[1;33m.\u001b[0m\u001b[0mgetresponse\u001b[0m\u001b[1;33m(\u001b[0m\u001b[0mbuffering\u001b[0m\u001b[1;33m=\u001b[0m\u001b[1;32mTrue\u001b[0m\u001b[1;33m)\u001b[0m\u001b[1;33m\u001b[0m\u001b[1;33m\u001b[0m\u001b[0m\n\u001b[0m\u001b[0;32m    378\u001b[0m             \u001b[1;32mexcept\u001b[0m \u001b[0mTypeError\u001b[0m\u001b[1;33m:\u001b[0m  \u001b[1;31m# Python 3\u001b[0m\u001b[1;33m\u001b[0m\u001b[1;33m\u001b[0m\u001b[0m\n",
      "\u001b[1;31mTypeError\u001b[0m: getresponse() got an unexpected keyword argument 'buffering'",
      "\nDuring handling of the above exception, another exception occurred:\n",
      "\u001b[1;31mKeyboardInterrupt\u001b[0m                         Traceback (most recent call last)",
      "\u001b[1;32m<ipython-input-5-85d0228d3e82>\u001b[0m in \u001b[0;36m<module>\u001b[1;34m\u001b[0m\n\u001b[0;32m      3\u001b[0m \u001b[0mend\u001b[0m \u001b[1;33m=\u001b[0m \u001b[1;36m360\u001b[0m\u001b[1;33m\u001b[0m\u001b[1;33m\u001b[0m\u001b[0m\n\u001b[0;32m      4\u001b[0m \u001b[1;33m\u001b[0m\u001b[0m\n\u001b[1;32m----> 5\u001b[1;33m \u001b[0mdownloadSciReading\u001b[0m\u001b[1;33m(\u001b[0m\u001b[0mbookname\u001b[0m\u001b[1;33m,\u001b[0m\u001b[0mbookurl\u001b[0m\u001b[1;33m,\u001b[0m\u001b[0mend\u001b[0m\u001b[1;33m)\u001b[0m\u001b[1;33m\u001b[0m\u001b[1;33m\u001b[0m\u001b[0m\n\u001b[0m",
      "\u001b[1;32m<ipython-input-2-b1f8e087d4e8>\u001b[0m in \u001b[0;36mdownloadSciReading\u001b[1;34m(bookname, bookurl, end)\u001b[0m\n\u001b[0;32m     14\u001b[0m         \u001b[0mpage\u001b[0m \u001b[1;33m=\u001b[0m \u001b[0mstr\u001b[0m\u001b[1;33m(\u001b[0m\u001b[0mpage\u001b[0m\u001b[1;33m)\u001b[0m\u001b[1;33m\u001b[0m\u001b[1;33m\u001b[0m\u001b[0m\n\u001b[0;32m     15\u001b[0m         \u001b[0mparams\u001b[0m \u001b[1;33m=\u001b[0m\u001b[1;33m{\u001b[0m\u001b[1;34m'b'\u001b[0m\u001b[1;33m:\u001b[0m\u001b[0mb\u001b[0m\u001b[1;33m,\u001b[0m \u001b[1;34m'page'\u001b[0m \u001b[1;33m:\u001b[0m\u001b[0mpage\u001b[0m \u001b[1;33m}\u001b[0m\u001b[1;33m\u001b[0m\u001b[1;33m\u001b[0m\u001b[0m\n\u001b[1;32m---> 16\u001b[1;33m         \u001b[0mr\u001b[0m \u001b[1;33m=\u001b[0m \u001b[0mrequests\u001b[0m\u001b[1;33m.\u001b[0m\u001b[0mpost\u001b[0m\u001b[1;33m(\u001b[0m\u001b[0murl\u001b[0m \u001b[1;33m,\u001b[0m \u001b[0mparams\u001b[0m\u001b[1;33m=\u001b[0m\u001b[0mparams\u001b[0m\u001b[1;33m,\u001b[0m\u001b[0mheaders\u001b[0m\u001b[1;33m=\u001b[0m\u001b[0mheaders\u001b[0m\u001b[1;33m)\u001b[0m\u001b[1;33m\u001b[0m\u001b[1;33m\u001b[0m\u001b[0m\n\u001b[0m\u001b[0;32m     17\u001b[0m         \u001b[0mpath\u001b[0m \u001b[1;33m=\u001b[0m \u001b[1;34m'.//'\u001b[0m\u001b[1;33m+\u001b[0m\u001b[0mbookname\u001b[0m\u001b[1;33m\u001b[0m\u001b[1;33m\u001b[0m\u001b[0m\n\u001b[0;32m     18\u001b[0m         \u001b[0mmkdir\u001b[0m\u001b[1;33m(\u001b[0m\u001b[0mpath\u001b[0m\u001b[1;33m)\u001b[0m\u001b[1;33m\u001b[0m\u001b[1;33m\u001b[0m\u001b[0m\n",
      "\u001b[1;32mD:\\Anaconda\\lib\\site-packages\\requests\\api.py\u001b[0m in \u001b[0;36mpost\u001b[1;34m(url, data, json, **kwargs)\u001b[0m\n\u001b[0;32m    114\u001b[0m     \"\"\"\n\u001b[0;32m    115\u001b[0m \u001b[1;33m\u001b[0m\u001b[0m\n\u001b[1;32m--> 116\u001b[1;33m     \u001b[1;32mreturn\u001b[0m \u001b[0mrequest\u001b[0m\u001b[1;33m(\u001b[0m\u001b[1;34m'post'\u001b[0m\u001b[1;33m,\u001b[0m \u001b[0murl\u001b[0m\u001b[1;33m,\u001b[0m \u001b[0mdata\u001b[0m\u001b[1;33m=\u001b[0m\u001b[0mdata\u001b[0m\u001b[1;33m,\u001b[0m \u001b[0mjson\u001b[0m\u001b[1;33m=\u001b[0m\u001b[0mjson\u001b[0m\u001b[1;33m,\u001b[0m \u001b[1;33m**\u001b[0m\u001b[0mkwargs\u001b[0m\u001b[1;33m)\u001b[0m\u001b[1;33m\u001b[0m\u001b[1;33m\u001b[0m\u001b[0m\n\u001b[0m\u001b[0;32m    117\u001b[0m \u001b[1;33m\u001b[0m\u001b[0m\n\u001b[0;32m    118\u001b[0m \u001b[1;33m\u001b[0m\u001b[0m\n",
      "\u001b[1;32mD:\\Anaconda\\lib\\site-packages\\requests\\api.py\u001b[0m in \u001b[0;36mrequest\u001b[1;34m(method, url, **kwargs)\u001b[0m\n\u001b[0;32m     58\u001b[0m     \u001b[1;31m# cases, and look like a memory leak in others.\u001b[0m\u001b[1;33m\u001b[0m\u001b[1;33m\u001b[0m\u001b[1;33m\u001b[0m\u001b[0m\n\u001b[0;32m     59\u001b[0m     \u001b[1;32mwith\u001b[0m \u001b[0msessions\u001b[0m\u001b[1;33m.\u001b[0m\u001b[0mSession\u001b[0m\u001b[1;33m(\u001b[0m\u001b[1;33m)\u001b[0m \u001b[1;32mas\u001b[0m \u001b[0msession\u001b[0m\u001b[1;33m:\u001b[0m\u001b[1;33m\u001b[0m\u001b[1;33m\u001b[0m\u001b[0m\n\u001b[1;32m---> 60\u001b[1;33m         \u001b[1;32mreturn\u001b[0m \u001b[0msession\u001b[0m\u001b[1;33m.\u001b[0m\u001b[0mrequest\u001b[0m\u001b[1;33m(\u001b[0m\u001b[0mmethod\u001b[0m\u001b[1;33m=\u001b[0m\u001b[0mmethod\u001b[0m\u001b[1;33m,\u001b[0m \u001b[0murl\u001b[0m\u001b[1;33m=\u001b[0m\u001b[0murl\u001b[0m\u001b[1;33m,\u001b[0m \u001b[1;33m**\u001b[0m\u001b[0mkwargs\u001b[0m\u001b[1;33m)\u001b[0m\u001b[1;33m\u001b[0m\u001b[1;33m\u001b[0m\u001b[0m\n\u001b[0m\u001b[0;32m     61\u001b[0m \u001b[1;33m\u001b[0m\u001b[0m\n\u001b[0;32m     62\u001b[0m \u001b[1;33m\u001b[0m\u001b[0m\n",
      "\u001b[1;32mD:\\Anaconda\\lib\\site-packages\\requests\\sessions.py\u001b[0m in \u001b[0;36mrequest\u001b[1;34m(self, method, url, params, data, headers, cookies, files, auth, timeout, allow_redirects, proxies, hooks, stream, verify, cert, json)\u001b[0m\n\u001b[0;32m    531\u001b[0m         }\n\u001b[0;32m    532\u001b[0m         \u001b[0msend_kwargs\u001b[0m\u001b[1;33m.\u001b[0m\u001b[0mupdate\u001b[0m\u001b[1;33m(\u001b[0m\u001b[0msettings\u001b[0m\u001b[1;33m)\u001b[0m\u001b[1;33m\u001b[0m\u001b[1;33m\u001b[0m\u001b[0m\n\u001b[1;32m--> 533\u001b[1;33m         \u001b[0mresp\u001b[0m \u001b[1;33m=\u001b[0m \u001b[0mself\u001b[0m\u001b[1;33m.\u001b[0m\u001b[0msend\u001b[0m\u001b[1;33m(\u001b[0m\u001b[0mprep\u001b[0m\u001b[1;33m,\u001b[0m \u001b[1;33m**\u001b[0m\u001b[0msend_kwargs\u001b[0m\u001b[1;33m)\u001b[0m\u001b[1;33m\u001b[0m\u001b[1;33m\u001b[0m\u001b[0m\n\u001b[0m\u001b[0;32m    534\u001b[0m \u001b[1;33m\u001b[0m\u001b[0m\n\u001b[0;32m    535\u001b[0m         \u001b[1;32mreturn\u001b[0m \u001b[0mresp\u001b[0m\u001b[1;33m\u001b[0m\u001b[1;33m\u001b[0m\u001b[0m\n",
      "\u001b[1;32mD:\\Anaconda\\lib\\site-packages\\requests\\sessions.py\u001b[0m in \u001b[0;36msend\u001b[1;34m(self, request, **kwargs)\u001b[0m\n\u001b[0;32m    644\u001b[0m \u001b[1;33m\u001b[0m\u001b[0m\n\u001b[0;32m    645\u001b[0m         \u001b[1;31m# Send the request\u001b[0m\u001b[1;33m\u001b[0m\u001b[1;33m\u001b[0m\u001b[1;33m\u001b[0m\u001b[0m\n\u001b[1;32m--> 646\u001b[1;33m         \u001b[0mr\u001b[0m \u001b[1;33m=\u001b[0m \u001b[0madapter\u001b[0m\u001b[1;33m.\u001b[0m\u001b[0msend\u001b[0m\u001b[1;33m(\u001b[0m\u001b[0mrequest\u001b[0m\u001b[1;33m,\u001b[0m \u001b[1;33m**\u001b[0m\u001b[0mkwargs\u001b[0m\u001b[1;33m)\u001b[0m\u001b[1;33m\u001b[0m\u001b[1;33m\u001b[0m\u001b[0m\n\u001b[0m\u001b[0;32m    647\u001b[0m \u001b[1;33m\u001b[0m\u001b[0m\n\u001b[0;32m    648\u001b[0m         \u001b[1;31m# Total elapsed time of the request (approximately)\u001b[0m\u001b[1;33m\u001b[0m\u001b[1;33m\u001b[0m\u001b[1;33m\u001b[0m\u001b[0m\n",
      "\u001b[1;32mD:\\Anaconda\\lib\\site-packages\\requests\\adapters.py\u001b[0m in \u001b[0;36msend\u001b[1;34m(self, request, stream, timeout, verify, cert, proxies)\u001b[0m\n\u001b[0;32m    447\u001b[0m                     \u001b[0mdecode_content\u001b[0m\u001b[1;33m=\u001b[0m\u001b[1;32mFalse\u001b[0m\u001b[1;33m,\u001b[0m\u001b[1;33m\u001b[0m\u001b[1;33m\u001b[0m\u001b[0m\n\u001b[0;32m    448\u001b[0m                     \u001b[0mretries\u001b[0m\u001b[1;33m=\u001b[0m\u001b[0mself\u001b[0m\u001b[1;33m.\u001b[0m\u001b[0mmax_retries\u001b[0m\u001b[1;33m,\u001b[0m\u001b[1;33m\u001b[0m\u001b[1;33m\u001b[0m\u001b[0m\n\u001b[1;32m--> 449\u001b[1;33m                     \u001b[0mtimeout\u001b[0m\u001b[1;33m=\u001b[0m\u001b[0mtimeout\u001b[0m\u001b[1;33m\u001b[0m\u001b[1;33m\u001b[0m\u001b[0m\n\u001b[0m\u001b[0;32m    450\u001b[0m                 )\n\u001b[0;32m    451\u001b[0m \u001b[1;33m\u001b[0m\u001b[0m\n",
      "\u001b[1;32mD:\\Anaconda\\lib\\site-packages\\urllib3\\connectionpool.py\u001b[0m in \u001b[0;36murlopen\u001b[1;34m(self, method, url, body, headers, retries, redirect, assert_same_host, timeout, pool_timeout, release_conn, chunked, body_pos, **response_kw)\u001b[0m\n\u001b[0;32m    598\u001b[0m                                                   \u001b[0mtimeout\u001b[0m\u001b[1;33m=\u001b[0m\u001b[0mtimeout_obj\u001b[0m\u001b[1;33m,\u001b[0m\u001b[1;33m\u001b[0m\u001b[1;33m\u001b[0m\u001b[0m\n\u001b[0;32m    599\u001b[0m                                                   \u001b[0mbody\u001b[0m\u001b[1;33m=\u001b[0m\u001b[0mbody\u001b[0m\u001b[1;33m,\u001b[0m \u001b[0mheaders\u001b[0m\u001b[1;33m=\u001b[0m\u001b[0mheaders\u001b[0m\u001b[1;33m,\u001b[0m\u001b[1;33m\u001b[0m\u001b[1;33m\u001b[0m\u001b[0m\n\u001b[1;32m--> 600\u001b[1;33m                                                   chunked=chunked)\n\u001b[0m\u001b[0;32m    601\u001b[0m \u001b[1;33m\u001b[0m\u001b[0m\n\u001b[0;32m    602\u001b[0m             \u001b[1;31m# If we're going to release the connection in ``finally:``, then\u001b[0m\u001b[1;33m\u001b[0m\u001b[1;33m\u001b[0m\u001b[1;33m\u001b[0m\u001b[0m\n",
      "\u001b[1;32mD:\\Anaconda\\lib\\site-packages\\urllib3\\connectionpool.py\u001b[0m in \u001b[0;36m_make_request\u001b[1;34m(self, conn, method, url, timeout, chunked, **httplib_request_kw)\u001b[0m\n\u001b[0;32m    378\u001b[0m             \u001b[1;32mexcept\u001b[0m \u001b[0mTypeError\u001b[0m\u001b[1;33m:\u001b[0m  \u001b[1;31m# Python 3\u001b[0m\u001b[1;33m\u001b[0m\u001b[1;33m\u001b[0m\u001b[0m\n\u001b[0;32m    379\u001b[0m                 \u001b[1;32mtry\u001b[0m\u001b[1;33m:\u001b[0m\u001b[1;33m\u001b[0m\u001b[1;33m\u001b[0m\u001b[0m\n\u001b[1;32m--> 380\u001b[1;33m                     \u001b[0mhttplib_response\u001b[0m \u001b[1;33m=\u001b[0m \u001b[0mconn\u001b[0m\u001b[1;33m.\u001b[0m\u001b[0mgetresponse\u001b[0m\u001b[1;33m(\u001b[0m\u001b[1;33m)\u001b[0m\u001b[1;33m\u001b[0m\u001b[1;33m\u001b[0m\u001b[0m\n\u001b[0m\u001b[0;32m    381\u001b[0m                 \u001b[1;32mexcept\u001b[0m \u001b[0mException\u001b[0m \u001b[1;32mas\u001b[0m \u001b[0me\u001b[0m\u001b[1;33m:\u001b[0m\u001b[1;33m\u001b[0m\u001b[1;33m\u001b[0m\u001b[0m\n\u001b[0;32m    382\u001b[0m                     \u001b[1;31m# Remove the TypeError from the exception chain in Python 3;\u001b[0m\u001b[1;33m\u001b[0m\u001b[1;33m\u001b[0m\u001b[1;33m\u001b[0m\u001b[0m\n",
      "\u001b[1;32mD:\\Anaconda\\lib\\http\\client.py\u001b[0m in \u001b[0;36mgetresponse\u001b[1;34m(self)\u001b[0m\n\u001b[0;32m   1319\u001b[0m         \u001b[1;32mtry\u001b[0m\u001b[1;33m:\u001b[0m\u001b[1;33m\u001b[0m\u001b[1;33m\u001b[0m\u001b[0m\n\u001b[0;32m   1320\u001b[0m             \u001b[1;32mtry\u001b[0m\u001b[1;33m:\u001b[0m\u001b[1;33m\u001b[0m\u001b[1;33m\u001b[0m\u001b[0m\n\u001b[1;32m-> 1321\u001b[1;33m                 \u001b[0mresponse\u001b[0m\u001b[1;33m.\u001b[0m\u001b[0mbegin\u001b[0m\u001b[1;33m(\u001b[0m\u001b[1;33m)\u001b[0m\u001b[1;33m\u001b[0m\u001b[1;33m\u001b[0m\u001b[0m\n\u001b[0m\u001b[0;32m   1322\u001b[0m             \u001b[1;32mexcept\u001b[0m \u001b[0mConnectionError\u001b[0m\u001b[1;33m:\u001b[0m\u001b[1;33m\u001b[0m\u001b[1;33m\u001b[0m\u001b[0m\n\u001b[0;32m   1323\u001b[0m                 \u001b[0mself\u001b[0m\u001b[1;33m.\u001b[0m\u001b[0mclose\u001b[0m\u001b[1;33m(\u001b[0m\u001b[1;33m)\u001b[0m\u001b[1;33m\u001b[0m\u001b[1;33m\u001b[0m\u001b[0m\n",
      "\u001b[1;32mD:\\Anaconda\\lib\\http\\client.py\u001b[0m in \u001b[0;36mbegin\u001b[1;34m(self)\u001b[0m\n\u001b[0;32m    294\u001b[0m         \u001b[1;31m# read until we get a non-100 response\u001b[0m\u001b[1;33m\u001b[0m\u001b[1;33m\u001b[0m\u001b[1;33m\u001b[0m\u001b[0m\n\u001b[0;32m    295\u001b[0m         \u001b[1;32mwhile\u001b[0m \u001b[1;32mTrue\u001b[0m\u001b[1;33m:\u001b[0m\u001b[1;33m\u001b[0m\u001b[1;33m\u001b[0m\u001b[0m\n\u001b[1;32m--> 296\u001b[1;33m             \u001b[0mversion\u001b[0m\u001b[1;33m,\u001b[0m \u001b[0mstatus\u001b[0m\u001b[1;33m,\u001b[0m \u001b[0mreason\u001b[0m \u001b[1;33m=\u001b[0m \u001b[0mself\u001b[0m\u001b[1;33m.\u001b[0m\u001b[0m_read_status\u001b[0m\u001b[1;33m(\u001b[0m\u001b[1;33m)\u001b[0m\u001b[1;33m\u001b[0m\u001b[1;33m\u001b[0m\u001b[0m\n\u001b[0m\u001b[0;32m    297\u001b[0m             \u001b[1;32mif\u001b[0m \u001b[0mstatus\u001b[0m \u001b[1;33m!=\u001b[0m \u001b[0mCONTINUE\u001b[0m\u001b[1;33m:\u001b[0m\u001b[1;33m\u001b[0m\u001b[1;33m\u001b[0m\u001b[0m\n\u001b[0;32m    298\u001b[0m                 \u001b[1;32mbreak\u001b[0m\u001b[1;33m\u001b[0m\u001b[1;33m\u001b[0m\u001b[0m\n",
      "\u001b[1;32mD:\\Anaconda\\lib\\http\\client.py\u001b[0m in \u001b[0;36m_read_status\u001b[1;34m(self)\u001b[0m\n\u001b[0;32m    255\u001b[0m \u001b[1;33m\u001b[0m\u001b[0m\n\u001b[0;32m    256\u001b[0m     \u001b[1;32mdef\u001b[0m \u001b[0m_read_status\u001b[0m\u001b[1;33m(\u001b[0m\u001b[0mself\u001b[0m\u001b[1;33m)\u001b[0m\u001b[1;33m:\u001b[0m\u001b[1;33m\u001b[0m\u001b[1;33m\u001b[0m\u001b[0m\n\u001b[1;32m--> 257\u001b[1;33m         \u001b[0mline\u001b[0m \u001b[1;33m=\u001b[0m \u001b[0mstr\u001b[0m\u001b[1;33m(\u001b[0m\u001b[0mself\u001b[0m\u001b[1;33m.\u001b[0m\u001b[0mfp\u001b[0m\u001b[1;33m.\u001b[0m\u001b[0mreadline\u001b[0m\u001b[1;33m(\u001b[0m\u001b[0m_MAXLINE\u001b[0m \u001b[1;33m+\u001b[0m \u001b[1;36m1\u001b[0m\u001b[1;33m)\u001b[0m\u001b[1;33m,\u001b[0m \u001b[1;34m\"iso-8859-1\"\u001b[0m\u001b[1;33m)\u001b[0m\u001b[1;33m\u001b[0m\u001b[1;33m\u001b[0m\u001b[0m\n\u001b[0m\u001b[0;32m    258\u001b[0m         \u001b[1;32mif\u001b[0m \u001b[0mlen\u001b[0m\u001b[1;33m(\u001b[0m\u001b[0mline\u001b[0m\u001b[1;33m)\u001b[0m \u001b[1;33m>\u001b[0m \u001b[0m_MAXLINE\u001b[0m\u001b[1;33m:\u001b[0m\u001b[1;33m\u001b[0m\u001b[1;33m\u001b[0m\u001b[0m\n\u001b[0;32m    259\u001b[0m             \u001b[1;32mraise\u001b[0m \u001b[0mLineTooLong\u001b[0m\u001b[1;33m(\u001b[0m\u001b[1;34m\"status line\"\u001b[0m\u001b[1;33m)\u001b[0m\u001b[1;33m\u001b[0m\u001b[1;33m\u001b[0m\u001b[0m\n",
      "\u001b[1;32mD:\\Anaconda\\lib\\socket.py\u001b[0m in \u001b[0;36mreadinto\u001b[1;34m(self, b)\u001b[0m\n\u001b[0;32m    587\u001b[0m         \u001b[1;32mwhile\u001b[0m \u001b[1;32mTrue\u001b[0m\u001b[1;33m:\u001b[0m\u001b[1;33m\u001b[0m\u001b[1;33m\u001b[0m\u001b[0m\n\u001b[0;32m    588\u001b[0m             \u001b[1;32mtry\u001b[0m\u001b[1;33m:\u001b[0m\u001b[1;33m\u001b[0m\u001b[1;33m\u001b[0m\u001b[0m\n\u001b[1;32m--> 589\u001b[1;33m                 \u001b[1;32mreturn\u001b[0m \u001b[0mself\u001b[0m\u001b[1;33m.\u001b[0m\u001b[0m_sock\u001b[0m\u001b[1;33m.\u001b[0m\u001b[0mrecv_into\u001b[0m\u001b[1;33m(\u001b[0m\u001b[0mb\u001b[0m\u001b[1;33m)\u001b[0m\u001b[1;33m\u001b[0m\u001b[1;33m\u001b[0m\u001b[0m\n\u001b[0m\u001b[0;32m    590\u001b[0m             \u001b[1;32mexcept\u001b[0m \u001b[0mtimeout\u001b[0m\u001b[1;33m:\u001b[0m\u001b[1;33m\u001b[0m\u001b[1;33m\u001b[0m\u001b[0m\n\u001b[0;32m    591\u001b[0m                 \u001b[0mself\u001b[0m\u001b[1;33m.\u001b[0m\u001b[0m_timeout_occurred\u001b[0m \u001b[1;33m=\u001b[0m \u001b[1;32mTrue\u001b[0m\u001b[1;33m\u001b[0m\u001b[1;33m\u001b[0m\u001b[0m\n",
      "\u001b[1;31mKeyboardInterrupt\u001b[0m: "
     ]
    }
   ],
   "source": [
    "bookname='医学高等数学'\n",
    "bookurl='http://book.sciencereading.cn/shop/book/Booksimple/show.do?id=B6F0A1FC03CFCB1C3E053020B0A0AF931000'\n",
    "end = 360\n",
    "\n",
    "downloadSciReading(bookname,bookurl,end)"
   ]
  },
  {
   "cell_type": "markdown",
   "metadata": {},
   "source": [
    "# 5. 谷歌文献爬取标题词云"
   ]
  },
  {
   "cell_type": "code",
   "execution_count": null,
   "metadata": {},
   "outputs": [],
   "source": [
    "import requests \n",
    "import re \n",
    "import collections \n",
    "from bs4 import BeautifulSoup\n",
    "import wordcloud \n",
    "import jieba\n",
    "import time \n",
    "\n",
    "\n",
    "Max_page = 100\n",
    "key = 'Coronavirus Diagnosis '#搜索的title\n",
    "start = '2012'\n",
    "final = '2016'\n",
    "text_title = 'GStitle.txt'\n",
    "text_keyword = 'GSkw.txt'\n",
    "\n",
    "noise = [\"[PDF][PDF]\",\"from\",\"of\",\"for\",\"on\",\"a\",\"A\",\"the\",\"in\",\"with\",\"using\",\"and\",\"to\",\"by\",\"an\",\"An\",\"[HTML][HTML]\",\"The\",\"at\",\"[引用][C]\",\"Using\"]\n",
    "headers = {'User-Agent':\"Mozilla/5.0 (Windows NT 6.1; WOW64) AppleWebKit/537.1 (KHTML, like Gecko) Chrome/22.0.1207.1 Safari/537.1\"}\n",
    "\n",
    "    \n",
    "    \n",
    "    \n",
    "with open(text_title, 'wt', encoding='utf-8') as f:\n",
    "    f.truncate()\n",
    "\n",
    "for i in range(Max_page):\n",
    "    try:\n",
    "        url = 'https://c.beijingbang.top/scholar?start='+str(i*10)+'&q='+key+'&as_ylo='+start+'&as_yhi='+final\n",
    "        start_html = requests.get(url,  headers=headers)\n",
    "        Soup = BeautifulSoup(start_html.text, 'lxml')\n",
    "        all_a = Soup.find_all('h3', class_=\"gs_rt\")\n",
    "        for a in all_a:\n",
    "            title = a.get_text().replace('[PDF]','').replace('[HTML]','')\n",
    "            print(title)\n",
    "            with open(text_title, 'a', encoding='utf-8') as f:\n",
    "                f.write(title + '\\n')\n",
    "        time.sleep(0.1)\n",
    "    except:\n",
    "        pass\n",
    "    \n",
    "    \n",
    "    \n",
    "    \n",
    "def get_words(file):\n",
    "    with open (file,encoding='utf-8') as f:\n",
    "        words_box=[]\n",
    "        for line in f:\n",
    "            if re.match(r'[a-zA-Z0-9]*',line):\n",
    "                words_box.extend(line.strip().split())\n",
    "    return collections.Counter(words_box)\n",
    "result = get_words(text_title)\n",
    "\n",
    "for i in range(len(noise)):\n",
    "    del result[noise[i]]\n",
    "print(result)\n",
    "\n",
    "\n",
    "with open(text_keyword, 'wt', encoding='utf-8') as f:\n",
    "    f.truncate()\n",
    "for each in result.items():\n",
    "    (a,b)=each\n",
    "    for i in range(b):\n",
    "        with open(text_keyword, 'a', encoding='utf-8') as f:\n",
    "            f.write(a + '\\n')\n",
    "text = open(text_keyword,'r',encoding='utf-8').read()\n",
    "\n",
    "\n",
    "\n",
    "#text = open('GStitle.txt','r',encoding='utf-8').read()\n",
    "#mk = imageio.imread(\"chinamap.png\")\n",
    "w= wordcloud.WordCloud(width=1000,height=700,background_color='white'\n",
    "                       ,scale=15)\n",
    "\n",
    "w.generate(text)\n",
    "\n",
    "\n",
    "w.to_file(key+'wordcloud.png')"
   ]
  }
 ],
 "metadata": {
  "kernelspec": {
   "display_name": "Python 3",
   "language": "python",
   "name": "python3"
  },
  "language_info": {
   "codemirror_mode": {
    "name": "ipython",
    "version": 3
   },
   "file_extension": ".py",
   "mimetype": "text/x-python",
   "name": "python",
   "nbconvert_exporter": "python",
   "pygments_lexer": "ipython3",
   "version": "3.7.3"
  },
  "latex_envs": {
   "LaTeX_envs_menu_present": true,
   "autoclose": false,
   "autocomplete": true,
   "bibliofile": "biblio.bib",
   "cite_by": "apalike",
   "current_citInitial": 1,
   "eqLabelWithNumbers": true,
   "eqNumInitial": 1,
   "hotkeys": {
    "equation": "Ctrl-E",
    "itemize": "Ctrl-I"
   },
   "labels_anchors": false,
   "latex_user_defs": false,
   "report_style_numbering": false,
   "user_envs_cfg": false
  },
  "toc": {
   "base_numbering": 1,
   "nav_menu": {},
   "number_sections": true,
   "sideBar": true,
   "skip_h1_title": false,
   "title_cell": "Table of Contents",
   "title_sidebar": "Contents",
   "toc_cell": false,
   "toc_position": {},
   "toc_section_display": true,
   "toc_window_display": false
  }
 },
 "nbformat": 4,
 "nbformat_minor": 2
}
