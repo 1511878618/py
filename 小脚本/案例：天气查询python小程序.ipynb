{
 "cells": [
  {
   "cell_type": "markdown",
   "metadata": {},
   "source": [
    "# 天气查询python小程序\n",
    "> 同济子豪兄 2019-9-11 <br>\n",
    "Bilibili视频：[同济子豪兄](https://space.bilibili.com/1900783)<br>\n",
    "粉丝答疑QQ群：953712961"
   ]
  },
  {
   "cell_type": "markdown",
   "metadata": {},
   "source": [
    "<img src=\"./img/weather.jpg\" width = \"400\" height = \"260\" alt=\"天气查询python小程序\" align=center>"
   ]
  },
  {
   "cell_type": "markdown",
   "metadata": {},
   "source": [
    "本案例是一个非常有趣的python小程序，调用网络API查询指定城市的天气，并打印输出天气信息。\n",
    "\n",
    "你将学到以下技能：\n",
    "- 向网络API发起请求，解析和处理服务器返回的json数据，可以迁移到各种各样的API中,如PM2.5查询，道路拥堵查询，自然灾害查询等。\n",
    "- python字典数据类型的常用操作\n",
    "\n",
    "以下的代码运行在jupyter notebook的开发环境中，这是python数据分析、机器学习、人工智能开发最常用的开发界面，因为可以非常方便的撰写博客、插入图片和数学公式，并输出代码运行的中间结果，强烈建议你学习如何使用jupyter notebook。\n",
    "\n",
    "Jupyter notebook的快速入门、基本操作、快捷键，请看我制作的视频教程：\n",
    "[Jupyter notebook快速入门](https://www.bilibili.com/video/av54100790)\n",
    "\n",
    "<img src=\"http://jupyter.org/assets/main-logo.svg\" width = \"150\" height = \"100\" alt=\"天气查询python小程序\" align=center>"
   ]
  },
  {
   "cell_type": "code",
   "execution_count": 1,
   "metadata": {},
   "outputs": [
    {
     "name": "stdout",
     "output_type": "stream",
     "text": [
      "请输入要查询的城市名称：北京\n"
     ]
    }
   ],
   "source": [
    "# 导入工具库\n",
    "import urllib.request\n",
    "import gzip\n",
    "\n",
    "## 第一步：生成查询天气的url链接\n",
    "city_name = input('请输入要查询的城市名称：')\n",
    "\n",
    "# 将城市的中文名字编码成utf-8字符\n",
    "urllib.parse.quote(city_name)\n",
    "# 生成完整url链接\n",
    "url = 'http://wthrcdn.etouch.cn/weather_mini?city='+urllib.parse.quote(city_name)\n",
    "\n",
    "## 第二步：访问url链接，解析服务器返回的json数据，变成python的字典数据\n",
    "# 获取服务器返回的json字节串数据\n",
    "weather_data = urllib.request.urlopen(url).read()\n",
    "# 将字节串数据解码为unicode中的utf-8数据\n",
    "weather_data = gzip.decompress(weather_data).decode('utf-8')\n",
    "# 将json数据转为python的字典数据\n",
    "weather_dict = eval(weather_data)\n",
    "if weather_dict.get('desc') == 'invilad-citykey':\n",
    "    print('您输入的城市未收录')"
   ]
  },
  {
   "cell_type": "code",
   "execution_count": 34,
   "metadata": {},
   "outputs": [
    {
     "name": "stdout",
     "output_type": "stream",
     "text": [
      "您查询的城市： 重庆\n",
      "--------------------------\n",
      "今天的天气\n",
      "温度 13\n",
      "感冒指数 昼夜温差很大，易发生感冒，请注意适当增减衣服，加强自我防护避免感冒。\n",
      "--------------------------\n",
      "昨天的天气\n",
      "昨天： 15日星期六\n",
      "天气： 小雨\n",
      "最高气温： 高温 8℃\n",
      "最低气温： 低温 4℃\n",
      "风向： 东风\n",
      "风力： 3级\n",
      "--------------------------\n"
     ]
    }
   ],
   "source": [
    "#导入库\n",
    "import requests\n",
    "from bs4 import BeautifulSoup\n",
    "\n",
    "##第一步\n",
    "city_name = '重庆'\n",
    "#input('请输入要查询的城市名词：')\n",
    "url = 'http://wthrcdn.etouch.cn/weather_mini?city='\n",
    "#访问URL\n",
    "r = requests.get(url+city_name)\n",
    "#解析json格式的数据\n",
    "weather_dict = r.json()\n",
    "\n",
    "if weather_dict.get('desc') == 'invilad-citykey':\n",
    "    print('您输入的城市未收录')\n",
    "print('您查询的城市：',weather_dict['data']['city'])\n",
    "print('--------------------------')\n",
    "print('今天的天气')\n",
    "print('温度',weather_dict['data']['wendu'])\n",
    "print('感冒指数',weather_dict['data']['ganmao'])\n",
    "print('--------------------------')\n",
    "print('昨天的天气')\n",
    "print('昨天：',weather_dict['data']['yesterday']['date'])\n",
    "print('天气：',weather_dict['data']['yesterday']['type'])\n",
    "print('最高气温：',weather_dict['data']['yesterday']['high'])\n",
    "print('最低气温：',weather_dict['data']['yesterday']['low'])\n",
    "print('风向：',weather_dict['data']['yesterday']['fx'])\n",
    "print('风力：',weather_dict['data']['yesterday']['fl'][-5:-3])\n",
    "print('--------------------------')\n"
   ]
  },
  {
   "cell_type": "code",
   "execution_count": 4,
   "metadata": {
    "scrolled": false
   },
   "outputs": [
    {
     "name": "stdout",
     "output_type": "stream",
     "text": [
      "日期 12日星期四\n",
      "天气 多云\n",
      "高温 25℃\n",
      "低温 18℃\n",
      "风向 北风\n",
      "风力： 3级\n",
      "--------------------------\n",
      "日期 13日星期五\n",
      "天气 阴\n",
      "高温 25℃\n",
      "低温 18℃\n",
      "风向 南风\n",
      "风力： 3级\n",
      "--------------------------\n",
      "日期 14日星期六\n",
      "天气 小雨\n",
      "高温 25℃\n",
      "低温 18℃\n",
      "风向 西南风\n",
      "风力： 3级\n",
      "--------------------------\n",
      "日期 15日星期天\n",
      "天气 晴\n",
      "高温 28℃\n",
      "低温 16℃\n",
      "风向 南风\n",
      "风力： 3级\n",
      "--------------------------\n",
      "日期 16日星期一\n",
      "天气 多云\n",
      "高温 28℃\n",
      "低温 17℃\n",
      "风向 西南风\n",
      "风力： 3级\n",
      "--------------------------\n"
     ]
    }
   ],
   "source": [
    "for each in weather_dict['data']['forecast']:\n",
    "    print('日期',each['date'])\n",
    "    print('天气',each['type'])\n",
    "    print(each['high'])\n",
    "    print(each['low'])\n",
    "    print('风向',each['fengxiang'])\n",
    "    print('风力：',each['fengli'][-5:-3])\n",
    "    print('--------------------------')"
   ]
  },
  {
   "cell_type": "markdown",
   "metadata": {},
   "source": [
    "# 逐行代码运行讲解"
   ]
  },
  {
   "cell_type": "markdown",
   "metadata": {},
   "source": [
    "# 第0步：导入工具库"
   ]
  },
  {
   "cell_type": "code",
   "execution_count": null,
   "metadata": {},
   "outputs": [],
   "source": [
    "import urllib.request\n",
    "import gzip"
   ]
  },
  {
   "cell_type": "markdown",
   "metadata": {},
   "source": [
    "urllib 库，它是 Python 内置的 HTTP 请求库，也就是说不需要额外安装即可使用\n",
    "\n",
    "[urllib的详解使用](https://www.jianshu.com/p/63dad93d7000)\n",
    "\n",
    "\n",
    "urllib包含四个模块：\n",
    "- request<br>\n",
    "它是最基本的 HTTP 请求模块，我们可以用它来模拟发送一请求，就像在浏览器里输入网址然后敲击回车一样，只需要传入 URL 还有额外的参数，就可以模拟实现这个过程了。\n",
    "- error 异常处理模块<br>\n",
    "如果出现请求错误，我们可以捕获这些异常，然后进行重试或其他操作保证程序不会意外终止。\n",
    "- parse 常用工具模块<br>\n",
    "提供了许多 URL 处理方法，比如拆分、解析、合并等等的方法。\n",
    "- robotparser，识别网站的 robots.txt 文件<br>\n",
    "判断哪些网站可以爬，哪些网站不可以爬的，其实用的比较少。"
   ]
  },
  {
   "cell_type": "markdown",
   "metadata": {},
   "source": [
    "## 第一步：生成查询天气的url链接"
   ]
  },
  {
   "cell_type": "code",
   "execution_count": 5,
   "metadata": {},
   "outputs": [],
   "source": [
    "city_name = '上海'"
   ]
  },
  {
   "cell_type": "code",
   "execution_count": 6,
   "metadata": {},
   "outputs": [
    {
     "data": {
      "text/plain": [
       "'%E4%B8%8A%E6%B5%B7'"
      ]
     },
     "execution_count": 6,
     "metadata": {},
     "output_type": "execute_result"
    }
   ],
   "source": [
    "# 将城市的中文名字编码成utf-8字符\n",
    "urllib.parse.quote(city_name)"
   ]
  },
  {
   "cell_type": "code",
   "execution_count": 7,
   "metadata": {},
   "outputs": [],
   "source": [
    "# 将编码后的城市名拼接在原始链接的后面\n",
    "url = 'http://wthrcdn.etouch.cn/weather_mini?city=' + urllib.parse.quote(city_name)"
   ]
  },
  {
   "cell_type": "code",
   "execution_count": 8,
   "metadata": {
    "scrolled": false
   },
   "outputs": [
    {
     "data": {
      "text/plain": [
       "'http://wthrcdn.etouch.cn/weather_mini?city=%E4%B8%8A%E6%B5%B7'"
      ]
     },
     "execution_count": 8,
     "metadata": {},
     "output_type": "execute_result"
    }
   ],
   "source": [
    "url"
   ]
  },
  {
   "cell_type": "markdown",
   "metadata": {},
   "source": [
    "## 第二步：访问url链接，解析服务器返回的json数据，变成python的字典数据"
   ]
  },
  {
   "cell_type": "code",
   "execution_count": 9,
   "metadata": {},
   "outputs": [],
   "source": [
    "weather_data = urllib.request.urlopen(url).read()"
   ]
  },
  {
   "cell_type": "code",
   "execution_count": 10,
   "metadata": {
    "scrolled": false
   },
   "outputs": [
    {
     "data": {
      "text/plain": [
       "b'\\x1f\\x8b\\x08\\x00\\x00\\x00\\x00\\x00\\x00\\x00\\xc5\\x93]K\\xc2P\\x18\\xc7\\xbfJ\\x9d\\xeb\\x05sS/D\\x02\\xa9\\xbb.\\xba\\xe9N\\xbc\\x18n\\xa9`\\x1an\\xa2C\\x04\\xf3\\xad\\x17l\\xbd`(i\\x0cI\\t\\t\\xcb\\xa2r\\xcd\\xcc\\xefR\\xdb\\xd9v\\xd5W\\xe8\\xcc\\xa2\\x85\\xe6\\x8d\\x14]\\x9e\\xffy\\x9e\\xe7\\xff;\\x7f\\x9e\\x93\\x024\\xc5Q\\xc0\\x95\\x02<\\xc3rL\\x8c\\xa6x\\xf3\\x80D\\x06\\xb8\\x80\\xcd\\x06+-X\\x15a]T\\xa4]\\x80\\x81`(\\x10D\\xbaqY\\x85R{\\x8e$^\\xf29\\xa4\\xae\\'\\x91\\xa6Hu\\xb5T1\\xce\\x05$\\x84\\xa3\\tS\\x19\\x08f\\x15\\xe1\\xf8\\xac\\n#\\xcd=\\xef]Z\\xf6\\xacy\\xbc\\xe4\\x82]\\x93/|\\xbeEt\\xc3\\xf1\\x9b\\xa6\\x9b\\xda<U\\xe4#\\x90\\xc6\\x80?\\xc4\\xf1\\xa3\\x91{\\xf0\\xbeg\\xb6Fc\\x8c\\x9fb9\\xe0\\xf2Zl\\xc4\\x17\\x9bZ\\xabMgc\"\\x81ph\\x9a\\xf3\\xcf\\xa0\\xa8%\\x19\\xa2\"\\x81\\xb1W\\x8dcZ(\\xa4\\x15\\x93\\\\\\x9eD\\xb1MCq\\x93SH\\xec\\xb3\\x92\\xd8\\xadP\\n\\x9d\\xdf \\x999\\x13\\x87E\\xd2l\\xff+\\x89\\xf3\\xdb\\x12g&I\\xf0\\xbf^\\x14\\x1f\\x06\\x02Td\\x83\\x8a\\x9a\\xdaa\\xdeh<\\xc2nY\\xbfi\\xc0\\xb3\\x86\\xd2\\x7f02Y\\xf5\\xaa\\xfe\\xf6TR\\x0f\\x8e\\xb4\\xb2\\x08\\xf3\\xa2Z<\\x86uY\\x13\\xb6\\xf5\\xe7\\x1cr|\\xcdd\\x95AQ\\xbf\\xee\\x19[C\\xb5\\xb0o\\x9c\\x0cG\\x99\\xe6\\x15Y\\xd0\\xda\\xb2\\xde\\xcd\\xc1\\x9d\\xa1Q\\xb9S\\xa4\\x0e\\x1a\\xa2\\xf4[F\\xf5\\xf6c\\x08jD0\\t&B\\xc7\\x913\\xe14\\x7f\\x16\\xcbQ\\\\\\x9c\\x05.\\x1b\\x8e\\xe3\\x18\\xa0\\x19\\xd6\\x8f\\xaeVW@\\xfa\\x1d\\xa0\\xefrg\\t\\x04\\x00\\x00'"
      ]
     },
     "execution_count": 10,
     "metadata": {},
     "output_type": "execute_result"
    }
   ],
   "source": [
    "# 访问url链接，获取字节串数据\n",
    "weather_data"
   ]
  },
  {
   "cell_type": "code",
   "execution_count": 11,
   "metadata": {
    "scrolled": true
   },
   "outputs": [],
   "source": [
    "# 将字节串解码为unicode编码\n",
    "weather_data = gzip.decompress(weather_data)"
   ]
  },
  {
   "cell_type": "code",
   "execution_count": 12,
   "metadata": {},
   "outputs": [
    {
     "data": {
      "text/plain": [
       "b'{\"data\":{\"yesterday\":{\"date\":\"11\\xe6\\x97\\xa5\\xe6\\x98\\x9f\\xe6\\x9c\\x9f\\xe4\\xb8\\x89\",\"high\":\"\\xe9\\xab\\x98\\xe6\\xb8\\xa9 32\\xe2\\x84\\x83\",\"fx\":\"\\xe4\\xb8\\x9c\\xe5\\x8c\\x97\\xe9\\xa3\\x8e\",\"low\":\"\\xe4\\xbd\\x8e\\xe6\\xb8\\xa9 25\\xe2\\x84\\x83\",\"fl\":\"<![CDATA[3-4\\xe7\\xba\\xa7]]>\",\"type\":\"\\xe5\\xa4\\x9a\\xe4\\xba\\x91\"},\"city\":\"\\xe4\\xb8\\x8a\\xe6\\xb5\\xb7\",\"forecast\":[{\"date\":\"12\\xe6\\x97\\xa5\\xe6\\x98\\x9f\\xe6\\x9c\\x9f\\xe5\\x9b\\x9b\",\"high\":\"\\xe9\\xab\\x98\\xe6\\xb8\\xa9 32\\xe2\\x84\\x83\",\"fengli\":\"<![CDATA[3-4\\xe7\\xba\\xa7]]>\",\"low\":\"\\xe4\\xbd\\x8e\\xe6\\xb8\\xa9 25\\xe2\\x84\\x83\",\"fengxiang\":\"\\xe4\\xb8\\x9c\\xe5\\x8c\\x97\\xe9\\xa3\\x8e\",\"type\":\"\\xe5\\xa4\\x9a\\xe4\\xba\\x91\"},{\"date\":\"13\\xe6\\x97\\xa5\\xe6\\x98\\x9f\\xe6\\x9c\\x9f\\xe4\\xba\\x94\",\"high\":\"\\xe9\\xab\\x98\\xe6\\xb8\\xa9 31\\xe2\\x84\\x83\",\"fengli\":\"<![CDATA[<3\\xe7\\xba\\xa7]]>\",\"low\":\"\\xe4\\xbd\\x8e\\xe6\\xb8\\xa9 24\\xe2\\x84\\x83\",\"fengxiang\":\"\\xe4\\xb8\\x9c\\xe5\\x8c\\x97\\xe9\\xa3\\x8e\",\"type\":\"\\xe5\\xa4\\x9a\\xe4\\xba\\x91\"},{\"date\":\"14\\xe6\\x97\\xa5\\xe6\\x98\\x9f\\xe6\\x9c\\x9f\\xe5\\x85\\xad\",\"high\":\"\\xe9\\xab\\x98\\xe6\\xb8\\xa9 31\\xe2\\x84\\x83\",\"fengli\":\"<![CDATA[<3\\xe7\\xba\\xa7]]>\",\"low\":\"\\xe4\\xbd\\x8e\\xe6\\xb8\\xa9 25\\xe2\\x84\\x83\",\"fengxiang\":\"\\xe4\\xb8\\x9c\\xe5\\x8c\\x97\\xe9\\xa3\\x8e\",\"type\":\"\\xe5\\xa4\\x9a\\xe4\\xba\\x91\"},{\"date\":\"15\\xe6\\x97\\xa5\\xe6\\x98\\x9f\\xe6\\x9c\\x9f\\xe5\\xa4\\xa9\",\"high\":\"\\xe9\\xab\\x98\\xe6\\xb8\\xa9 31\\xe2\\x84\\x83\",\"fengli\":\"<![CDATA[<3\\xe7\\xba\\xa7]]>\",\"low\":\"\\xe4\\xbd\\x8e\\xe6\\xb8\\xa9 25\\xe2\\x84\\x83\",\"fengxiang\":\"\\xe4\\xb8\\x9c\\xe5\\x8c\\x97\\xe9\\xa3\\x8e\",\"type\":\"\\xe5\\xa4\\x9a\\xe4\\xba\\x91\"},{\"date\":\"16\\xe6\\x97\\xa5\\xe6\\x98\\x9f\\xe6\\x9c\\x9f\\xe4\\xb8\\x80\",\"high\":\"\\xe9\\xab\\x98\\xe6\\xb8\\xa9 30\\xe2\\x84\\x83\",\"fengli\":\"<![CDATA[3-4\\xe7\\xba\\xa7]]>\",\"low\":\"\\xe4\\xbd\\x8e\\xe6\\xb8\\xa9 25\\xe2\\x84\\x83\",\"fengxiang\":\"\\xe4\\xb8\\x9c\\xe5\\x8c\\x97\\xe9\\xa3\\x8e\",\"type\":\"\\xe5\\xa4\\x9a\\xe4\\xba\\x91\"}],\"ganmao\":\"\\xe5\\x90\\x84\\xe9\\xa1\\xb9\\xe6\\xb0\\x94\\xe8\\xb1\\xa1\\xe6\\x9d\\xa1\\xe4\\xbb\\xb6\\xe9\\x80\\x82\\xe5\\xae\\x9c\\xef\\xbc\\x8c\\xe5\\x8f\\x91\\xe7\\x94\\x9f\\xe6\\x84\\x9f\\xe5\\x86\\x92\\xe6\\x9c\\xba\\xe7\\x8e\\x87\\xe8\\xbe\\x83\\xe4\\xbd\\x8e\\xe3\\x80\\x82\\xe4\\xbd\\x86\\xe8\\xaf\\xb7\\xe9\\x81\\xbf\\xe5\\x85\\x8d\\xe9\\x95\\xbf\\xe6\\x9c\\x9f\\xe5\\xa4\\x84\\xe4\\xba\\x8e\\xe7\\xa9\\xba\\xe8\\xb0\\x83\\xe6\\x88\\xbf\\xe9\\x97\\xb4\\xe4\\xb8\\xad\\xef\\xbc\\x8c\\xe4\\xbb\\xa5\\xe9\\x98\\xb2\\xe6\\x84\\x9f\\xe5\\x86\\x92\\xe3\\x80\\x82\",\"wendu\":\"26\"},\"status\":1000,\"desc\":\"OK\"}'"
      ]
     },
     "execution_count": 12,
     "metadata": {},
     "output_type": "execute_result"
    }
   ],
   "source": [
    "weather_data"
   ]
  },
  {
   "cell_type": "code",
   "execution_count": 13,
   "metadata": {},
   "outputs": [],
   "source": [
    "# 将unicode编码解码为utf-8编码，显示中文\n",
    "weather_data = weather_data.decode('utf-8')"
   ]
  },
  {
   "cell_type": "code",
   "execution_count": 14,
   "metadata": {
    "scrolled": false
   },
   "outputs": [
    {
     "data": {
      "text/plain": [
       "'{\"data\":{\"yesterday\":{\"date\":\"11日星期三\",\"high\":\"高温 32℃\",\"fx\":\"东北风\",\"low\":\"低温 25℃\",\"fl\":\"<![CDATA[3-4级]]>\",\"type\":\"多云\"},\"city\":\"上海\",\"forecast\":[{\"date\":\"12日星期四\",\"high\":\"高温 32℃\",\"fengli\":\"<![CDATA[3-4级]]>\",\"low\":\"低温 25℃\",\"fengxiang\":\"东北风\",\"type\":\"多云\"},{\"date\":\"13日星期五\",\"high\":\"高温 31℃\",\"fengli\":\"<![CDATA[<3级]]>\",\"low\":\"低温 24℃\",\"fengxiang\":\"东北风\",\"type\":\"多云\"},{\"date\":\"14日星期六\",\"high\":\"高温 31℃\",\"fengli\":\"<![CDATA[<3级]]>\",\"low\":\"低温 25℃\",\"fengxiang\":\"东北风\",\"type\":\"多云\"},{\"date\":\"15日星期天\",\"high\":\"高温 31℃\",\"fengli\":\"<![CDATA[<3级]]>\",\"low\":\"低温 25℃\",\"fengxiang\":\"东北风\",\"type\":\"多云\"},{\"date\":\"16日星期一\",\"high\":\"高温 30℃\",\"fengli\":\"<![CDATA[3-4级]]>\",\"low\":\"低温 25℃\",\"fengxiang\":\"东北风\",\"type\":\"多云\"}],\"ganmao\":\"各项气象条件适宜，发生感冒机率较低。但请避免长期处于空调房间中，以防感冒。\",\"wendu\":\"26\"},\"status\":1000,\"desc\":\"OK\"}'"
      ]
     },
     "execution_count": 14,
     "metadata": {},
     "output_type": "execute_result"
    }
   ],
   "source": [
    "weather_data"
   ]
  },
  {
   "cell_type": "markdown",
   "metadata": {},
   "source": [
    "[json 在线解析校验工具](https://www.json.cn/#)\n",
    "![json在线解析](./img/json校验.png)"
   ]
  },
  {
   "cell_type": "code",
   "execution_count": 15,
   "metadata": {},
   "outputs": [],
   "source": [
    "# 将字符串两端的引号去掉，变成python中的字典数据\n",
    "weather_dict = eval(weather_data)"
   ]
  },
  {
   "cell_type": "code",
   "execution_count": 16,
   "metadata": {
    "scrolled": true
   },
   "outputs": [
    {
     "data": {
      "text/plain": [
       "{'data': {'yesterday': {'date': '11日星期三',\n",
       "   'high': '高温 32℃',\n",
       "   'fx': '东北风',\n",
       "   'low': '低温 25℃',\n",
       "   'fl': '<![CDATA[3-4级]]>',\n",
       "   'type': '多云'},\n",
       "  'city': '上海',\n",
       "  'forecast': [{'date': '12日星期四',\n",
       "    'high': '高温 32℃',\n",
       "    'fengli': '<![CDATA[3-4级]]>',\n",
       "    'low': '低温 25℃',\n",
       "    'fengxiang': '东北风',\n",
       "    'type': '多云'},\n",
       "   {'date': '13日星期五',\n",
       "    'high': '高温 31℃',\n",
       "    'fengli': '<![CDATA[<3级]]>',\n",
       "    'low': '低温 24℃',\n",
       "    'fengxiang': '东北风',\n",
       "    'type': '多云'},\n",
       "   {'date': '14日星期六',\n",
       "    'high': '高温 31℃',\n",
       "    'fengli': '<![CDATA[<3级]]>',\n",
       "    'low': '低温 25℃',\n",
       "    'fengxiang': '东北风',\n",
       "    'type': '多云'},\n",
       "   {'date': '15日星期天',\n",
       "    'high': '高温 31℃',\n",
       "    'fengli': '<![CDATA[<3级]]>',\n",
       "    'low': '低温 25℃',\n",
       "    'fengxiang': '东北风',\n",
       "    'type': '多云'},\n",
       "   {'date': '16日星期一',\n",
       "    'high': '高温 30℃',\n",
       "    'fengli': '<![CDATA[3-4级]]>',\n",
       "    'low': '低温 25℃',\n",
       "    'fengxiang': '东北风',\n",
       "    'type': '多云'}],\n",
       "  'ganmao': '各项气象条件适宜，发生感冒机率较低。但请避免长期处于空调房间中，以防感冒。',\n",
       "  'wendu': '26'},\n",
       " 'status': 1000,\n",
       " 'desc': 'OK'}"
      ]
     },
     "execution_count": 16,
     "metadata": {},
     "output_type": "execute_result"
    }
   ],
   "source": [
    "weather_dict"
   ]
  },
  {
   "cell_type": "code",
   "execution_count": 17,
   "metadata": {},
   "outputs": [
    {
     "data": {
      "text/plain": [
       "dict"
      ]
     },
     "execution_count": 17,
     "metadata": {},
     "output_type": "execute_result"
    }
   ],
   "source": [
    "type(weather_dict)"
   ]
  },
  {
   "cell_type": "markdown",
   "metadata": {},
   "source": [
    "## 第三步：对字典进行索引，获取气温、风速、风向等天气信息"
   ]
  },
  {
   "cell_type": "code",
   "execution_count": 18,
   "metadata": {},
   "outputs": [
    {
     "data": {
      "text/plain": [
       "{'data': {'yesterday': {'date': '11日星期三',\n",
       "   'high': '高温 32℃',\n",
       "   'fx': '东北风',\n",
       "   'low': '低温 25℃',\n",
       "   'fl': '<![CDATA[3-4级]]>',\n",
       "   'type': '多云'},\n",
       "  'city': '上海',\n",
       "  'forecast': [{'date': '12日星期四',\n",
       "    'high': '高温 32℃',\n",
       "    'fengli': '<![CDATA[3-4级]]>',\n",
       "    'low': '低温 25℃',\n",
       "    'fengxiang': '东北风',\n",
       "    'type': '多云'},\n",
       "   {'date': '13日星期五',\n",
       "    'high': '高温 31℃',\n",
       "    'fengli': '<![CDATA[<3级]]>',\n",
       "    'low': '低温 24℃',\n",
       "    'fengxiang': '东北风',\n",
       "    'type': '多云'},\n",
       "   {'date': '14日星期六',\n",
       "    'high': '高温 31℃',\n",
       "    'fengli': '<![CDATA[<3级]]>',\n",
       "    'low': '低温 25℃',\n",
       "    'fengxiang': '东北风',\n",
       "    'type': '多云'},\n",
       "   {'date': '15日星期天',\n",
       "    'high': '高温 31℃',\n",
       "    'fengli': '<![CDATA[<3级]]>',\n",
       "    'low': '低温 25℃',\n",
       "    'fengxiang': '东北风',\n",
       "    'type': '多云'},\n",
       "   {'date': '16日星期一',\n",
       "    'high': '高温 30℃',\n",
       "    'fengli': '<![CDATA[3-4级]]>',\n",
       "    'low': '低温 25℃',\n",
       "    'fengxiang': '东北风',\n",
       "    'type': '多云'}],\n",
       "  'ganmao': '各项气象条件适宜，发生感冒机率较低。但请避免长期处于空调房间中，以防感冒。',\n",
       "  'wendu': '26'},\n",
       " 'status': 1000,\n",
       " 'desc': 'OK'}"
      ]
     },
     "execution_count": 18,
     "metadata": {},
     "output_type": "execute_result"
    }
   ],
   "source": [
    "weather_dict"
   ]
  },
  {
   "cell_type": "code",
   "execution_count": 20,
   "metadata": {
    "scrolled": true
   },
   "outputs": [
    {
     "data": {
      "text/plain": [
       "'高温 32℃'"
      ]
     },
     "execution_count": 20,
     "metadata": {},
     "output_type": "execute_result"
    }
   ],
   "source": [
    "weather_dict['data']['yesterday']['high']"
   ]
  },
  {
   "cell_type": "code",
   "execution_count": 21,
   "metadata": {},
   "outputs": [
    {
     "name": "stdout",
     "output_type": "stream",
     "text": [
      "您查询的城市： 上海\n",
      "--------------------------\n",
      "今天的天气\n",
      "温度 26\n",
      "感冒指数 各项气象条件适宜，发生感冒机率较低。但请避免长期处于空调房间中，以防感冒。\n",
      "--------------------------\n",
      "昨天的天气\n",
      "昨天： 11日星期三\n",
      "天气： 多云\n",
      "最高气温： 高温 32℃\n",
      "最低气温： 低温 25℃\n",
      "风向： 东北风\n",
      "风力： 4级\n",
      "--------------------------\n"
     ]
    }
   ],
   "source": [
    "print('您查询的城市：',weather_dict['data']['city'])\n",
    "print('--------------------------')\n",
    "print('今天的天气')\n",
    "print('温度',weather_dict['data']['wendu'])\n",
    "print('感冒指数',weather_dict['data']['ganmao'])\n",
    "print('--------------------------')\n",
    "print('昨天的天气')\n",
    "print('昨天：',weather_dict['data']['yesterday']['date'])\n",
    "print('天气：',weather_dict['data']['yesterday']['type'])\n",
    "print('最高气温：',weather_dict['data']['yesterday']['high'])\n",
    "print('最低气温：',weather_dict['data']['yesterday']['low'])\n",
    "print('风向：',weather_dict['data']['yesterday']['fx'])\n",
    "print('风力：',weather_dict['data']['yesterday']['fl'][-5:-3])\n",
    "print('--------------------------')"
   ]
  },
  {
   "cell_type": "markdown",
   "metadata": {},
   "source": [
    "## 第四步：遍历forecast列表中的五个元素，打印天气信息"
   ]
  },
  {
   "cell_type": "markdown",
   "metadata": {},
   "source": [
    "`weather_dict['data']['forecast'] `是一个包含五个元素的列表，每一个元素都是一个字典。"
   ]
  },
  {
   "cell_type": "code",
   "execution_count": 22,
   "metadata": {},
   "outputs": [
    {
     "data": {
      "text/plain": [
       "[{'date': '12日星期四',\n",
       "  'high': '高温 32℃',\n",
       "  'fengli': '<![CDATA[3-4级]]>',\n",
       "  'low': '低温 25℃',\n",
       "  'fengxiang': '东北风',\n",
       "  'type': '多云'},\n",
       " {'date': '13日星期五',\n",
       "  'high': '高温 31℃',\n",
       "  'fengli': '<![CDATA[<3级]]>',\n",
       "  'low': '低温 24℃',\n",
       "  'fengxiang': '东北风',\n",
       "  'type': '多云'},\n",
       " {'date': '14日星期六',\n",
       "  'high': '高温 31℃',\n",
       "  'fengli': '<![CDATA[<3级]]>',\n",
       "  'low': '低温 25℃',\n",
       "  'fengxiang': '东北风',\n",
       "  'type': '多云'},\n",
       " {'date': '15日星期天',\n",
       "  'high': '高温 31℃',\n",
       "  'fengli': '<![CDATA[<3级]]>',\n",
       "  'low': '低温 25℃',\n",
       "  'fengxiang': '东北风',\n",
       "  'type': '多云'},\n",
       " {'date': '16日星期一',\n",
       "  'high': '高温 30℃',\n",
       "  'fengli': '<![CDATA[3-4级]]>',\n",
       "  'low': '低温 25℃',\n",
       "  'fengxiang': '东北风',\n",
       "  'type': '多云'}]"
      ]
     },
     "execution_count": 22,
     "metadata": {},
     "output_type": "execute_result"
    }
   ],
   "source": [
    "weather_dict['data']['forecast']"
   ]
  },
  {
   "cell_type": "code",
   "execution_count": 23,
   "metadata": {},
   "outputs": [
    {
     "name": "stdout",
     "output_type": "stream",
     "text": [
      "日期 12日星期四\n",
      "天气 多云\n",
      "高温 32℃\n",
      "低温 25℃\n",
      "风向 东北风\n",
      "风力： 4级\n",
      "--------------------------\n",
      "日期 13日星期五\n",
      "天气 多云\n",
      "高温 31℃\n",
      "低温 24℃\n",
      "风向 东北风\n",
      "风力： 3级\n",
      "--------------------------\n",
      "日期 14日星期六\n",
      "天气 多云\n",
      "高温 31℃\n",
      "低温 25℃\n",
      "风向 东北风\n",
      "风力： 3级\n",
      "--------------------------\n",
      "日期 15日星期天\n",
      "天气 多云\n",
      "高温 31℃\n",
      "低温 25℃\n",
      "风向 东北风\n",
      "风力： 3级\n",
      "--------------------------\n",
      "日期 16日星期一\n",
      "天气 多云\n",
      "高温 30℃\n",
      "低温 25℃\n",
      "风向 东北风\n",
      "风力： 4级\n",
      "--------------------------\n"
     ]
    }
   ],
   "source": [
    "for each in weather_dict['data']['forecast']:\n",
    "    print('日期',each['date'])\n",
    "    print('天气',each['type'])\n",
    "    print(each['high'])\n",
    "    print(each['low'])\n",
    "    print('风向',each['fengxiang'])\n",
    "    print('风力：',each['fengli'][-5:-3])\n",
    "    print('--------------------------')"
   ]
  },
  {
   "cell_type": "markdown",
   "metadata": {},
   "source": [
    "# 完整代码"
   ]
  },
  {
   "cell_type": "code",
   "execution_count": 27,
   "metadata": {},
   "outputs": [
    {
     "name": "stdout",
     "output_type": "stream",
     "text": [
      "请输入要查询的城市名称：太原\n",
      "您查询的城市： 太原\n",
      "--------------------------\n",
      "今天的天气\n",
      "温度 14\n",
      "感冒指数 天气较凉，较易发生感冒，请适当增加衣服。体质较弱的朋友尤其应该注意防护。\n",
      "--------------------------\n",
      "昨天的天气\n",
      "昨天： 11日星期三\n",
      "天气： 小雨\n",
      "最高气温： 高温 18℃\n",
      "最低气温： 低温 15℃\n",
      "风向： 东南风\n",
      "风力： 3级\n",
      "--------------------------\n",
      "日期 12日星期四\n",
      "天气 小雨\n",
      "高温 18℃\n",
      "低温 15℃\n",
      "风向 东南风\n",
      "风力： 3级\n",
      "--------------------------\n",
      "日期 13日星期五\n",
      "天气 小雨\n",
      "高温 21℃\n",
      "低温 15℃\n",
      "风向 西南风\n",
      "风力： 3级\n",
      "--------------------------\n",
      "日期 14日星期六\n",
      "天气 小雨\n",
      "高温 24℃\n",
      "低温 16℃\n",
      "风向 西南风\n",
      "风力： 3级\n",
      "--------------------------\n",
      "日期 15日星期天\n",
      "天气 小雨\n",
      "高温 26℃\n",
      "低温 13℃\n",
      "风向 北风\n",
      "风力： 3级\n",
      "--------------------------\n",
      "日期 16日星期一\n",
      "天气 小雨\n",
      "高温 24℃\n",
      "低温 11℃\n",
      "风向 东北风\n",
      "风力： 3级\n",
      "--------------------------\n"
     ]
    }
   ],
   "source": [
    "# 完整代码\n",
    "# 张子豪 2019-9-11\n",
    "# Bilibili视频：同济子豪兄 https://space.bilibili.com/1900783\n",
    "# 粉丝答疑QQ群：953712961\n",
    "\n",
    "\n",
    "# 导入工具库\n",
    "import urllib.request\n",
    "import gzip\n",
    "\n",
    "## 第一步：生成查询天气的url链接\n",
    "city_name = input('请输入要查询的城市名称：')\n",
    "\n",
    "# 将城市的中文名字编码成utf-8字符\n",
    "urllib.parse.quote(city_name)\n",
    "# 生成完整url链接\n",
    "url = 'http://wthrcdn.etouch.cn/weather_mini?city='+urllib.parse.quote(city_name)\n",
    "\n",
    "## 第二步：访问url链接，解析服务器返回的json数据，变成python的字典数据\n",
    "# 获取服务器返回的json字节串数据\n",
    "weather_data = urllib.request.urlopen(url).read()\n",
    "# 将字节串数据解码为unicode中的utf-8数据\n",
    "weather_data = gzip.decompress(weather_data).decode('utf-8')\n",
    "# 将json数据转为python的字典数据\n",
    "weather_dict = eval(weather_data)\n",
    "if weather_dict.get('desc') == 'invilad-citykey':\n",
    "    print('您输入的城市未收录')\n",
    "    \n",
    "# 第三步：对字典进行索引，获取气温、风速、风向等天气信息\n",
    "print('您查询的城市：',weather_dict['data']['city'])\n",
    "print('--------------------------')\n",
    "print('今天的天气')\n",
    "print('温度',weather_dict['data']['wendu'])\n",
    "print('感冒指数',weather_dict['data']['ganmao'])\n",
    "print('--------------------------')\n",
    "print('昨天的天气')\n",
    "print('昨天：',weather_dict['data']['yesterday']['date'])\n",
    "print('天气：',weather_dict['data']['yesterday']['type'])\n",
    "print('最高气温：',weather_dict['data']['yesterday']['high'])\n",
    "print('最低气温：',weather_dict['data']['yesterday']['low'])\n",
    "print('风向：',weather_dict['data']['yesterday']['fx'])\n",
    "print('风力：',weather_dict['data']['yesterday']['fl'][-5:-3])\n",
    "print('--------------------------')\n",
    "# 第四步：遍历forecast列表中的五个元素，打印天气信息\n",
    "for each in weather_dict['data']['forecast']:\n",
    "    print('日期',each['date'])\n",
    "    print('天气',each['type'])\n",
    "    print(each['high'])\n",
    "    print(each['low'])\n",
    "    print('风向',each['fengxiang'])\n",
    "    print('风力：',each['fengli'][-5:-3])\n",
    "    print('--------------------------')"
   ]
  },
  {
   "cell_type": "markdown",
   "metadata": {},
   "source": [
    "# 扫码打赏10元，留下QQ号，即可收到源代码、python小程序源文件\n",
    ">支持永久更新哦~"
   ]
  },
  {
   "cell_type": "markdown",
   "metadata": {},
   "source": [
    "<img src=\"./img/赞赏码.png\" width = \"600\" height = \"600\" alt=\"天气查询python小程序\" align=center>"
   ]
  },
  {
   "cell_type": "code",
   "execution_count": null,
   "metadata": {},
   "outputs": [],
   "source": []
  }
 ],
 "metadata": {
  "kernelspec": {
   "display_name": "Python 3",
   "language": "python",
   "name": "python3"
  },
  "language_info": {
   "codemirror_mode": {
    "name": "ipython",
    "version": 3
   },
   "file_extension": ".py",
   "mimetype": "text/x-python",
   "name": "python",
   "nbconvert_exporter": "python",
   "pygments_lexer": "ipython3",
   "version": "3.7.3"
  }
 },
 "nbformat": 4,
 "nbformat_minor": 2
}
