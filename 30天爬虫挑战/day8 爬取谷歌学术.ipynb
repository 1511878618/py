{
 "cells": [
  {
   "cell_type": "code",
   "execution_count": 1,
   "metadata": {},
   "outputs": [],
   "source": [
    "import requests \n",
    "from bs4 import BeautifulSoup\n",
    "import re \n",
    "import collections \n",
    "import json "
   ]
  },
  {
   "cell_type": "code",
   "execution_count": 2,
   "metadata": {},
   "outputs": [],
   "source": [
    "def HeaderStr2HeadersDict(headerStr):\n",
    "    \"\"\"\n",
    "    转换F12、等工具获得的请求头字符串成为python字典形式 \n",
    "    \"\"\"\n",
    "    a1 = headerStr.split('\\n')[1:-1]\n",
    "    headers = {}\n",
    "    for parmer in a1:\n",
    "        st1 = parmer.split(':')\n",
    "        key = st1[0]\n",
    "        value = st1[1]    \n",
    "        headers[key] =value\n",
    "    return headers"
   ]
  },
  {
   "cell_type": "code",
   "execution_count": null,
   "metadata": {},
   "outputs": [],
   "source": []
  },
  {
   "cell_type": "code",
   "execution_count": 198,
   "metadata": {},
   "outputs": [],
   "source": [
    "class ScholarArticle(object):\n",
    "    \"\"\"\n",
    "    A class representing articles listed on Google Scholar.  The class\n",
    "    provides basic dictionary-like behavior.\n",
    "    \"\"\"\n",
    "    def __init__(self):\n",
    "        # The triplets for each keyword correspond to (1) the actual\n",
    "        # value, (2) a user-suitable label for the item, and (3) an\n",
    "        # ordering index:\n",
    "        self.attrs = {\n",
    "            'title':         [None, 'Title',          0],\n",
    "            'url':           [None, 'URL',            1],\n",
    "            'year':          [None, 'Year',           2],\n",
    "            'num_citations': [0,    'Citations',       3],\n",
    "            'infor':         [0,    'information',     4],\n",
    "            'url_pdf':       [None, 'PDF link',        5],\n",
    "            'url_citations': [None, 'Citations list',  6],\n",
    "            'url_citation':  [None, 'Citation link',   7],\n",
    "        }\n",
    "\n",
    "        # The citation data in one of the standard export formats,\n",
    "        # e.g. BibTeX.\n",
    "        self.citation_data = None\n",
    "\n",
    "    def __getitem__(self, key):\n",
    "        if key in self.attrs:\n",
    "            return self.attrs[key][0]\n",
    "        return None\n",
    "\n",
    "    def __len__(self):\n",
    "        return len(self.attrs)\n",
    "\n",
    "    def __setitem__(self, key, item):\n",
    "        if key in self.attrs:\n",
    "            self.attrs[key][0] = item\n",
    "        else:\n",
    "            self.attrs[key] = [item, key, len(self.attrs)]\n",
    "\n",
    "    def __delitem__(self, key):\n",
    "        if key in self.attrs:\n",
    "            del self.attrs[key]\n",
    "    \n",
    "    def set_citation_data(self,citation_data):\n",
    "        self.citation_data = citation_data\n",
    "    \n",
    "    "
   ]
  },
  {
   "cell_type": "code",
   "execution_count": 241,
   "metadata": {},
   "outputs": [],
   "source": [
    "class googleScholarSpider(object):\n",
    "    def __init__(self,key,maxPage=30):\n",
    "        self.key = key\n",
    "        self.host = 'https://scholar.google.com'\n",
    "        self.result = []\n",
    "        self.start = 0\n",
    "        self.url = 'https://scholar.google.com/scholar?start={}&q={}&hl=zh-CN&as_sdt=1,5&as_vis=1'\n",
    "        self.maxPage = maxPage\n",
    "        self.header = {'accept-encoding': 'gzip, deflate, br',\n",
    " 'accept-language': 'zh-CN,zh;q=0.9',\n",
    " 'cookie': 'HSID=AKuiss57lEl054xJI; SSID=AtICnLzEUSHXkEave; APISID=x9mwoA3nAdcZA2YV/A_bzkaWhuB7L5muFB; SAPISID=eWDJEPb7Jvp9GbpC/AVFVmMA3M2VH4UShY; __Secure-HSID=AKuiss57lEl054xJI; __Secure-SSID=AtICnLzEUSHXkEave; __Secure-APISID=x9mwoA3nAdcZA2YV/A_bzkaWhuB7L5muFB; __Secure-3PAPISID=eWDJEPb7Jvp9GbpC/AVFVmMA3M2VH4UShY; CONSENT=YES+US.zh-CN+201907; GSP=LM=1581249166',\n",
    " 'referer': 'https',\n",
    " 'sec-fetch-dest': 'document',\n",
    " 'sec-fetch-mode': 'navigate',\n",
    " 'sec-fetch-site': 'same-origin',\n",
    " 'sec-fetch-user': '?1',\n",
    " 'upgrade-insecure-requests':'1',\n",
    " 'user-agent': 'Mozilla/5.0 (Windows NT 10.0; Win64; x64) AppleWebKit/537.36 (KHTML, like Gecko) Chrome/81.0.4044.113 Safari/537.36'}\n",
    "    \n",
    "    \n",
    "    def downloadPage(self):\n",
    "        \n",
    "        for num in range(self.maxPage):\n",
    "            start = num*20\n",
    "            url = self.url.format(start,self.key)\n",
    "            r = requests.get(url,headers = self.header)\n",
    "            soup = BeautifulSoup(r.text,'html.parser')\n",
    "            listPaper = soup.find('div',id='gs_res_ccl_mid').find_all('div',class_='gs_r gs_or gs_scl')\n",
    "            for each in listPaper:\n",
    "                article = ScholarArticle()\n",
    "                \n",
    "                article['url_pdf'] =each.find('div',class_='gs_ggs gs_fl').find('a')['href']\n",
    "                article['url'] = each.find('div',class_='gs_ri').find('h3').find('a')['href']\n",
    "                article['title'] = each.find('div',class_='gs_ri').find('h3').text\n",
    "                article['infor'] =  each.find('div',class_='gs_ri').find('div',class_ ='gs_a').text\n",
    "            \n",
    "                article['num_citations'] = each.find('div',class_='gs_ri').find('a',text=re.compile('被引用次数')).text \n",
    "                article['url_citation'] = self.host +each.find('div',class_='gs_ri').find('a',text=re.compile('被引用次数'))['href']                \n",
    "                \n",
    "                self.result.append(article)\n",
    "                break\n",
    "            return soup \n",
    "            break \n",
    "       \n",
    "            \n",
    "\n",
    "        \n",
    "        "
   ]
  },
  {
   "cell_type": "code",
   "execution_count": 239,
   "metadata": {},
   "outputs": [],
   "source": [
    "a = googleScholarSpider(key = 'SARS-Cov-2')"
   ]
  },
  {
   "cell_type": "code",
   "execution_count": 240,
   "metadata": {},
   "outputs": [],
   "source": [
    "s = a.downloadPage()"
   ]
  },
  {
   "cell_type": "code",
   "execution_count": 237,
   "metadata": {},
   "outputs": [
    {
     "name": "stdout",
     "output_type": "stream",
     "text": [
      "/scholar?cites=12709711274646573724&as_sdt=2005&sciodt=1,5&hl=zh-CN\n"
     ]
    }
   ],
   "source": [
    "listPaper = s.find('div',id='gs_res_ccl_mid').find_all('div',class_='gs_r gs_or gs_scl')\n",
    "for each in listPaper:\n",
    "    h = each.find('div',class_='gs_ri').find('a',text=re.compile('被引用次数'))['href']\n",
    "    print(h)\n",
    "    break"
   ]
  },
  {
   "cell_type": "code",
   "execution_count": 245,
   "metadata": {},
   "outputs": [
    {
     "data": {
      "text/plain": [
       "'https://scholar.google.com//scholar?cites=12709711274646573724&as_sdt=2005&sciodt=1,5&hl=zh-CN'"
      ]
     },
     "execution_count": 245,
     "metadata": {},
     "output_type": "execute_result"
    }
   ],
   "source": [
    "a.result[0].attrs['url_citation'][0]"
   ]
  },
  {
   "cell_type": "code",
   "execution_count": null,
   "metadata": {},
   "outputs": [],
   "source": []
  }
 ],
 "metadata": {
  "kernelspec": {
   "display_name": "Python 3",
   "language": "python",
   "name": "python3"
  },
  "language_info": {
   "codemirror_mode": {
    "name": "ipython",
    "version": 3
   },
   "file_extension": ".py",
   "mimetype": "text/x-python",
   "name": "python",
   "nbconvert_exporter": "python",
   "pygments_lexer": "ipython3",
   "version": "3.7.3"
  },
  "latex_envs": {
   "LaTeX_envs_menu_present": true,
   "autoclose": false,
   "autocomplete": true,
   "bibliofile": "biblio.bib",
   "cite_by": "apalike",
   "current_citInitial": 1,
   "eqLabelWithNumbers": true,
   "eqNumInitial": 1,
   "hotkeys": {
    "equation": "Ctrl-E",
    "itemize": "Ctrl-I"
   },
   "labels_anchors": false,
   "latex_user_defs": false,
   "report_style_numbering": false,
   "user_envs_cfg": false
  },
  "toc": {
   "base_numbering": 1,
   "nav_menu": {},
   "number_sections": true,
   "sideBar": true,
   "skip_h1_title": false,
   "title_cell": "Table of Contents",
   "title_sidebar": "Contents",
   "toc_cell": false,
   "toc_position": {},
   "toc_section_display": true,
   "toc_window_display": false
  }
 },
 "nbformat": 4,
 "nbformat_minor": 2
}
