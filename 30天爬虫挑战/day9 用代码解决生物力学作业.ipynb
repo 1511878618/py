{
 "cells": [
  {
   "cell_type": "code",
   "execution_count": 1,
   "metadata": {},
   "outputs": [],
   "source": [
    "import numpy as np \n",
    "import math "
   ]
  },
  {
   "cell_type": "code",
   "execution_count": 2,
   "metadata": {},
   "outputs": [],
   "source": [
    "def sin(jiaodu):\n",
    "    return np.sin(np.pi*jiaodu / 180)\n",
    "\n",
    "def cos(jiaodu):\n",
    "\n",
    "    return np.cos(np.pi*jiaodu / 180)"
   ]
  },
  {
   "cell_type": "code",
   "execution_count": 3,
   "metadata": {},
   "outputs": [],
   "source": [
    "class puzzle(object):\n",
    "    def __init__(self,L):\n",
    "        self.L = L\n",
    "        self.Fm = None\n",
    "        self.a = None\n",
    "        self.R =None\n",
    "        self.Na = None\n",
    "        \n",
    "    def SolveFm(self):\n",
    "        L = self.L \n",
    "        Na = (3*10/(30+L))\n",
    "        self.Na = Na\n",
    "        Fm = (4.8*Na +0.05)/(7*sin(70)-1.9*cos(70))\n",
    "        self.Fm = Fm \n",
    "        return Fm\n",
    "\n",
    "    def Solvea(self):\n",
    "        Fm = self.Fm \n",
    "        a = np.arctan((Fm*sin(70) - 1/6 +(30/(30+self.L)))/(Fm*cos(70)))*180/np.pi\n",
    "        self.a = a \n",
    "        return a\n",
    "    def SolveR(self):\n",
    "        R = self.Fm*cos(70)/cos(self.a)\n",
    "        self.R = R \n",
    "        return R \n",
    "    def __str__(self):\n",
    "        self.SolveFm()\n",
    "        self.Solvea()\n",
    "        self.SolveR()\n",
    "        out = '在L为{}cm时：\\nFm为{:.2f}G\\n对应得a得角度为：\\n{:.2f}°\\n以及R得大小为：\\n{:.2f}G'.format(self.L,self.Fm,self.a,self.R)\n",
    "        return out \n",
    "        "
   ]
  },
  {
   "cell_type": "code",
   "execution_count": 6,
   "metadata": {},
   "outputs": [
    {
     "name": "stdout",
     "output_type": "stream",
     "text": [
      "在L为13cm时：\n",
      "Fm为0.57G\n",
      "对应得a得角度为：\n",
      "79.61°\n",
      "以及R得大小为：\n",
      "1.09G\n"
     ]
    }
   ],
   "source": [
    "s = puzzle(L=13)\n",
    "print(s)  "
   ]
  },
  {
   "cell_type": "code",
   "execution_count": null,
   "metadata": {},
   "outputs": [],
   "source": []
  },
  {
   "cell_type": "code",
   "execution_count": null,
   "metadata": {},
   "outputs": [],
   "source": []
  },
  {
   "cell_type": "code",
   "execution_count": 173,
   "metadata": {},
   "outputs": [],
   "source": [
    "import matplotlib.pyplot as plt "
   ]
  },
  {
   "cell_type": "code",
   "execution_count": 174,
   "metadata": {},
   "outputs": [],
   "source": [
    "x = np.arange(0,200)"
   ]
  },
  {
   "cell_type": "code",
   "execution_count": 184,
   "metadata": {},
   "outputs": [],
   "source": [
    "t = puzzle(x)\n",
    "Fm = t.SolveFm()\n",
    "a = t.Solvea()\n",
    "R = t.SolveR()\n",
    "Na = t.Na\n",
    "Nb = 1-Na"
   ]
  },
  {
   "cell_type": "code",
   "execution_count": 153,
   "metadata": {},
   "outputs": [],
   "source": [
    "import pandas as pd \n",
    "\n"
   ]
  },
  {
   "cell_type": "code",
   "execution_count": null,
   "metadata": {},
   "outputs": [],
   "source": []
  },
  {
   "cell_type": "code",
   "execution_count": 185,
   "metadata": {},
   "outputs": [],
   "source": [
    "testPd = pd.DataFrame(data={'Fm':Fm,'a':a,'R':R,'Na':Na,'Nb':Nb})"
   ]
  },
  {
   "cell_type": "code",
   "execution_count": 197,
   "metadata": {},
   "outputs": [
    {
     "data": {
      "text/plain": [
       "<matplotlib.axes._subplots.AxesSubplot at 0x1eb47031d30>"
      ]
     },
     "execution_count": 197,
     "metadata": {},
     "output_type": "execute_result"
    },
    {
     "data": {
      "image/png": "[encoded data removed]",
      "text/plain": [
       "<Figure size 432x288 with 1 Axes>"
      ]
     },
     "metadata": {
      "needs_background": "light"
     },
     "output_type": "display_data"
    }
   ],
   "source": [
    "testPd[['Na','Nb','Fm','R']].plot()"
   ]
  },
  {
   "cell_type": "code",
   "execution_count": null,
   "metadata": {},
   "outputs": [],
   "source": []
  }
 ],
 "metadata": {
  "kernelspec": {
   "display_name": "Python 3",
   "language": "python",
   "name": "python3"
  },
  "language_info": {
   "codemirror_mode": {
    "name": "ipython",
    "version": 3
   },
   "file_extension": ".py",
   "mimetype": "text/x-python",
   "name": "python",
   "nbconvert_exporter": "python",
   "pygments_lexer": "ipython3",
   "version": "3.7.3"
  },
  "latex_envs": {
   "LaTeX_envs_menu_present": true,
   "autoclose": false,
   "autocomplete": true,
   "bibliofile": "biblio.bib",
   "cite_by": "apalike",
   "current_citInitial": 1,
   "eqLabelWithNumbers": true,
   "eqNumInitial": 1,
   "hotkeys": {
    "equation": "Ctrl-E",
    "itemize": "Ctrl-I"
   },
   "labels_anchors": false,
   "latex_user_defs": false,
   "report_style_numbering": false,
   "user_envs_cfg": false
  },
  "toc": {
   "base_numbering": 1,
   "nav_menu": {},
   "number_sections": true,
   "sideBar": true,
   "skip_h1_title": false,
   "title_cell": "Table of Contents",
   "title_sidebar": "Contents",
   "toc_cell": false,
   "toc_position": {},
   "toc_section_display": true,
   "toc_window_display": false
  }
 },
 "nbformat": 4,
 "nbformat_minor": 2
}
