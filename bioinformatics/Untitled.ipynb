{
 "cells": [
  {
   "cell_type": "code",
   "execution_count": 4,
   "metadata": {},
   "outputs": [],
   "source": [
    "\n",
    "def find_all(L,K,A,word):\n",
    "    # 参数分别为字符列表、单词长度、包含结果的列表、当前单词\n",
    "    if len(word) == K:\n",
    "        A.append(word)\n",
    "        return\n",
    "    for i in L:\n",
    "        find_all(L,K,A,word+i)"
   ]
  },
  {
   "cell_type": "code",
   "execution_count": 25,
   "metadata": {},
   "outputs": [],
   "source": [
    "\n",
    "def mark(word1, word2):\n",
    "    # 给两个单词打分\n",
    "    ld = [\"AT\", \"TA\", \"CG\", \"GC\"]\n",
    "    score = 0\n",
    "    for a, b in zip(word1, word2):\n",
    "        if a == b:\n",
    "            score += 3\n",
    "        elif a + b in ld:\n",
    "            score += 1\n",
    "        else:\n",
    "            score += -3\n",
    "    return score\n",
    "\n"
   ]
  },
  {
   "cell_type": "code",
   "execution_count": 46,
   "metadata": {},
   "outputs": [
    {
     "name": "stdout",
     "output_type": "stream",
     "text": [
      "8\n"
     ]
    }
   ],
   "source": [
    "K=11\n",
    "seq = 'ATCGTCCAATCAAATACG'\n",
    "F= []\n",
    "for i in range(0, len(seq)-K+1):\n",
    "        F.append(seq[i:i+K])\n",
    "        \n",
    "print(len(F))"
   ]
  },
  {
   "cell_type": "code",
   "execution_count": 47,
   "metadata": {},
   "outputs": [
    {
     "data": {
      "text/plain": [
       "['ATCGTCCAATC',\n",
       " 'TCGTCCAATCA',\n",
       " 'CGTCCAATCAA',\n",
       " 'GTCCAATCAAA',\n",
       " 'TCCAATCAAAT',\n",
       " 'CCAATCAAATA',\n",
       " 'CAATCAAATAC',\n",
       " 'AATCAAATACG']"
      ]
     },
     "execution_count": 47,
     "metadata": {},
     "output_type": "execute_result"
    }
   ],
   "source": [
    "F "
   ]
  },
  {
   "cell_type": "code",
   "execution_count": 23,
   "metadata": {},
   "outputs": [],
   "source": [
    "F = list(set(F))"
   ]
  },
  {
   "cell_type": "code",
   "execution_count": 29,
   "metadata": {},
   "outputs": [],
   "source": [
    "\n",
    "A =[]\n",
    "find_all(['A','T','C','G'], K, A, \"\")"
   ]
  },
  {
   "cell_type": "code",
   "execution_count": 44,
   "metadata": {},
   "outputs": [],
   "source": [
    "T=3\n",
    "TREE =[]\n",
    "for i in F:\n",
    "    for j in A:\n",
    "        if mark(i,j) >= T:\n",
    "            TREE.append(j)"
   ]
  },
  {
   "cell_type": "code",
   "execution_count": 45,
   "metadata": {},
   "outputs": [
    {
     "data": {
      "text/plain": [
       "344064"
      ]
     },
     "execution_count": 45,
     "metadata": {},
     "output_type": "execute_result"
    }
   ],
   "source": [
    "len(TREE)"
   ]
  },
  {
   "cell_type": "code",
   "execution_count": null,
   "metadata": {},
   "outputs": [],
   "source": []
  }
 ],
 "metadata": {
  "kernelspec": {
   "display_name": "Python 3",
   "language": "python",
   "name": "python3"
  },
  "language_info": {
   "codemirror_mode": {
    "name": "ipython",
    "version": 3
   },
   "file_extension": ".py",
   "mimetype": "text/x-python",
   "name": "python",
   "nbconvert_exporter": "python",
   "pygments_lexer": "ipython3",
   "version": "3.7.3"
  },
  "latex_envs": {
   "LaTeX_envs_menu_present": true,
   "autoclose": false,
   "autocomplete": true,
   "bibliofile": "biblio.bib",
   "cite_by": "apalike",
   "current_citInitial": 1,
   "eqLabelWithNumbers": true,
   "eqNumInitial": 1,
   "hotkeys": {
    "equation": "Ctrl-E",
    "itemize": "Ctrl-I"
   },
   "labels_anchors": false,
   "latex_user_defs": false,
   "report_style_numbering": false,
   "user_envs_cfg": false
  },
  "toc": {
   "base_numbering": 1,
   "nav_menu": {},
   "number_sections": true,
   "sideBar": true,
   "skip_h1_title": false,
   "title_cell": "Table of Contents",
   "title_sidebar": "Contents",
   "toc_cell": false,
   "toc_position": {},
   "toc_section_display": true,
   "toc_window_display": false
  }
 },
 "nbformat": 4,
 "nbformat_minor": 2
}
